{
 "cells": [
  {
   "cell_type": "markdown",
   "metadata": {
    "id": "ouqOM1he6Yv7"
   },
   "source": [
    "<hr style=\"border-top: 3px double #8c8b8b;\"/>\n",
    "<br/>\n",
    "<center><font size=7 color=\"green\">データサイエンスII   第1回 実習</font><br/>\n",
    "2022.4.12\n",
    "</center>\n",
    "<hr style=\"border-top: 3px double #8c8b8b;\"/>\n"
   ]
  },
  {
   "cell_type": "markdown",
   "metadata": {},
   "source": [
    "updated 2022.4.30 mode => median"
   ]
  },
  {
   "cell_type": "markdown",
   "metadata": {
    "tags": []
   },
   "source": [
    "## 最初に次を実行"
   ]
  },
  {
   "cell_type": "code",
   "execution_count": null,
   "metadata": {},
   "outputs": [],
   "source": [
    "import numpy as np\n",
    "import plotly.express as px\n",
    "\n",
    "# 実数集合Dの表示\n",
    "def plot1d(D,width=600,height=300):\n",
    "    import plotly.express as px\n",
    "    import numpy as np\n",
    "    fig=px.scatter(x=D,y=np.zeros(len(D)))\n",
    "    fig.update_layout(width=width,height=height)\n",
    "    fig.show()\n",
    "    \n",
    "\n",
    "# 実数集合Dを、t未満とt以上で色を変えて表示    \n",
    "def plot1d2(D,t,width=600,height=300):\n",
    "    import plotly.express as px\n",
    "    import numpy as np\n",
    "    color=[(lambda x:\"blue\" if x<t else \"red\")(u) for u in D]\n",
    "    fig=px.scatter(x=D,y=np.zeros(len(D)),color=color)\n",
    "    fig.add_scatter(x=[t],y=[0])\n",
    "    fig.update_layout(width=width,height=height)\n",
    "    fig.show()\n",
    "    \n",
    "# １変数関数のグラフ表示, flist は表示する関数のリスト、labels はそれぞれのラベル, xrange はxの動く範囲\n",
    "def showgraph(flist,labels,xrange=[0,1],K=50):\n",
    "    import plotly.graph_objects as go\n",
    "    import numpy as np\n",
    "    fig = go.Figure()\n",
    "    tmin,tmax=xrange\n",
    "    ts=np.linspace(tmin,tmax,K)\n",
    "    for i in range(len(flist)):\n",
    "        fig.add_trace(go.Scatter(x=ts, y=[flist[i](t) for t in ts], name=labels[i]))\n",
    "    if len(flist)==1:\n",
    "        fig.update_layout(title=labels[0])\n",
    "    fig.update_layout(width=600,height=600)\n",
    "\n",
    "    fig.show() \n",
    "\n",
    "# ２変数関数fのグラフを表示\n",
    "def showgraph2(f,xrange=[-1,1],yrange=[-1,1],K=50,opacity=0.5):\n",
    "    import numpy as np\n",
    "    import plotly.graph_objects as go\n",
    "    xmin,xmax=xrange\n",
    "    ymin,ymax=yrange\n",
    "    a0=np.linspace(xmin,xmax,K)\n",
    "    b0=np.linspace(ymin,ymax,K)\n",
    "    xx,yy=np.meshgrid(a0,b0)\n",
    "    F=go.Figure()\n",
    "    F.add_surface(x=xx,y=yy,z=f(xx,yy),opacity=opacity)  \n",
    "    F.update_layout(width=600,height=600)\n",
    "    F.show()\n",
    "\n",
    "def toukousen(f,xrange=[0,1],yrange=[0,1],T=20,start=0,end=1,size=1):\n",
    "    import numpy as np\n",
    "    import plotly.graph_objects as go\n",
    "    xmin,xmax=xrange\n",
    "    ymin,ymax=yrange\n",
    "    a0=np.linspace(xmin,xmax,T)\n",
    "    b0=np.linspace(ymin,ymax,T)\n",
    "    x,y=np.meshgrid(a0,b0)\n",
    "    F=go.Figure()\n",
    "    F.add_contour(x=a0,y=b0,z=f(x,y),colorscale=\"oranges\",\n",
    "        contours=dict(\n",
    "            start=start, #2 等高線の高さの最小値\n",
    "            end=end,    #3 等高線の高さの最大値\n",
    "            size=size, #4 描く間隔\n",
    "            coloring='lines',\n",
    "            showlabels=True\n",
    "        ))\n",
    "    F.update_yaxes(scaleanchor=\"x\", scaleratio=1)\n",
    "    F.update_layout(width=600,height=600)\n",
    "    F.show()\n",
    "def heikin(D):    \n",
    "    return sum(D)/len(D)\n",
    "def bunsan(D):\n",
    "    if len(D)>0:\n",
    "        m=heikin(D)\n",
    "        return sum((D-m)**2)/len(D)\n",
    "    else:\n",
    "        return 0\n",
    "def mode(D):\n",
    "    D=sorted(D)\n",
    "    k=len(D)//2\n",
    "    if len(D)%2==1:\n",
    "        return D[k]\n",
    "    else:\n",
    "        return (D[k-1]+D[k])/2.\n",
    "def l1bunsan(D):\n",
    "    if len(D)>0:\n",
    "        m=mode(D)\n",
    "        return sum(abs(D-m))\n",
    "    else:\n",
    "        return 0"
   ]
  },
  {
   "cell_type": "markdown",
   "metadata": {},
   "source": [
    "<hr>"
   ]
  },
  {
   "cell_type": "markdown",
   "metadata": {
    "id": "ivt6Akkj6YwC",
    "jp-MarkdownHeadingCollapsed": true,
    "tags": []
   },
   "source": [
    "# 1 実習1. 実数データ集合を１実数で近似する問題"
   ]
  },
  {
   "cell_type": "markdown",
   "metadata": {
    "id": "ivt6Akkj6YwC",
    "tags": []
   },
   "source": [
    "## 1.1 実数データを１実数で近似"
   ]
  },
  {
   "cell_type": "markdown",
   "metadata": {
    "id": "TKB-5v3C6YwC"
   },
   "source": [
    "実数のデータの集まり $D=\\{d_0,d_1,\\cdots,d_{N-1}\\}$ \n",
    "を実数$a$で近似する問題を考えよう。これは$D$を代表する典型的な実数$a$を求めることにほかならない。\n",
    "近似の度合はどのように定量化できるだろうか。\n",
    "\n",
    "データが一つの場合、つまり$D=\\{d\\}$の場合は、$|d-a|$ が近似度を示しているが$|d-a|^2$ でも構わない。いずれにしても$0$となるのが最良の近似$d$を与えている。\n",
    "\n",
    "しかし、$D$が複数あるときは、近似度のとり方は色々ありえる。\n",
    "  $$gosa_2(x,D)=(x-d_0)^2+(x-d_1)^2+\\cdots+(x-d_{N-1})^2$$\n",
    "や\n",
    "  $$gosa_1(x,D)=|x-d_0|+|x-d_1|+\\cdots+|x-d_{N-1}|$$\n",
    "が自然である。$gosa_i$を $L_i$誤差関数と呼ぶことにする。\n"
   ]
  },
  {
   "cell_type": "markdown",
   "metadata": {
    "id": "zoxz88YJ6YwD"
   },
   "source": [
    "$L_2$誤差関数を最小にする実数を求めてみよう。"
   ]
  },
  {
   "cell_type": "markdown",
   "metadata": {
    "id": "NIDBFS8y6YwD",
    "tags": []
   },
   "source": [
    "## 1.2 L2誤差関数"
   ]
  },
  {
   "cell_type": "markdown",
   "metadata": {
    "id": "wwgYcvPT6YwD"
   },
   "source": [
    "$D=\\{1,2,3,6,7,8,9\\}$ の場合を調べる。これを numpy の配列とする。まず、numpy を読み込み、名称を `np`とする。"
   ]
  },
  {
   "cell_type": "code",
   "execution_count": null,
   "metadata": {
    "id": "DuPXLogO6YwD"
   },
   "outputs": [],
   "source": [
    "import numpy as np"
   ]
  },
  {
   "cell_type": "markdown",
   "metadata": {
    "id": "WM8L--em6YwE"
   },
   "source": [
    "$D$は python のリスト `[1,2,3,6,7,8,9]`で表現できるが、 numpy の`ndarray` というデータ構造にしておくと便利なことが多い。このリストを`ndarray`にするには次のようにする。"
   ]
  },
  {
   "cell_type": "code",
   "execution_count": null,
   "metadata": {
    "id": "oW2vyuqC6YwE"
   },
   "outputs": [],
   "source": [
    "D=np.array([1,2,3,6,7,8,9])"
   ]
  },
  {
   "cell_type": "code",
   "execution_count": null,
   "metadata": {},
   "outputs": [],
   "source": [
    "plot1d(D,height=300)"
   ]
  },
  {
   "cell_type": "markdown",
   "metadata": {
    "id": "GJ9OaZ7-6YwE"
   },
   "source": [
    "$a$と $D$の元$d$の差の二乗$(a-d)^2$は `(a-d)**2`と書く。これを成分とするリストは `[(a-d)**2 for d in D]` であった. このリストの成分の和が誤差関数となる."
   ]
  },
  {
   "cell_type": "code",
   "execution_count": null,
   "metadata": {
    "id": "UQdcy62f6YwE"
   },
   "outputs": [],
   "source": [
    "def gosa2(x,D):\n",
    "    return sum([(x-d)**2 for d in D]) "
   ]
  },
  {
   "cell_type": "markdown",
   "metadata": {},
   "source": [
    "+ 注意. `[(x-d)**2 for d in D]`は簡潔に`(x-D)**2`とかけて、`gosa2`は `sum((x-D)**2)`でも定義できる。しかし、この表現を使うと、`x` がリストのときにエラーが生じるので、上のように定義する."
   ]
  },
  {
   "cell_type": "code",
   "execution_count": null,
   "metadata": {},
   "outputs": [],
   "source": [
    "gosa2(0,D),gosa2(5,D)"
   ]
  },
  {
   "cell_type": "markdown",
   "metadata": {
    "id": "FekNVJWI6YwF",
    "tags": []
   },
   "source": [
    "### 1.2.1 誤差関数のグラフ"
   ]
  },
  {
   "cell_type": "markdown",
   "metadata": {
    "id": "cYgQaWtr6YwF"
   },
   "source": [
    "関数`gosa2(x,D)`のグラフを描いてみる. 最初に$D$を固定して得られる１変数関数 $t\\mapsto gosa2(t,D)$ を定義しておく. これはpython で次のように書く."
   ]
  },
  {
   "cell_type": "code",
   "execution_count": null,
   "metadata": {},
   "outputs": [],
   "source": [
    "gosa2D=lambda t:gosa2(t,D)"
   ]
  },
  {
   "cell_type": "code",
   "execution_count": null,
   "metadata": {},
   "outputs": [],
   "source": [
    "showgraph([gosa2D],[\"L2誤差\"],[0,10])"
   ]
  },
  {
   "cell_type": "markdown",
   "metadata": {
    "tags": []
   },
   "source": [
    "### 1.2.2 <font color=\"red\">図の操作(重要)</font>"
   ]
  },
  {
   "cell_type": "markdown",
   "metadata": {},
   "source": [
    "図はマウスで操作できる. メニューは、セルを選択したときに右上に現れる. \n",
    "+ ポインタに近いグラフの点の座標が表示される.\n",
    "+ ズームイン：カーソルが+ ではないとき、メニュー２番目の虫眼鏡アイコンをクリック。\n",
    "   + 左ボタンを押したままマウスを動かして範囲を指定. \n",
    "   + 上端からマウスを動かすと$x$の動く範囲を制限できる. 左端からだと$y$の範囲を制限できる.\n",
    "+ 図の移動：カーソルが \n",
    "   + 水平方向に動かすには、下端にマウスを近づけアイコンが左右矢印になったら左ボタンを押したまま動かす。上下に動かすには左端で行う.  \n",
    "   + 任意方向に動かすには、メニュー３番目の上下左右アイコンをクリックしたあと、左ボタンを押したまま動かす.\n",
    "+ もとに戻すには、右上にポインタを置いてでてくるメニューの家アイコンをクリックする "
   ]
  },
  {
   "cell_type": "markdown",
   "metadata": {},
   "source": [
    "#### <font color=\"red\">練習. 上の操作を自分でやってみよう。</font>"
   ]
  },
  {
   "cell_type": "markdown",
   "metadata": {
    "id": "67kemIA06YwG"
   },
   "source": [
    "### 1.2.3 数式処理で最小化を行う"
   ]
  },
  {
   "cell_type": "markdown",
   "metadata": {
    "id": "fU2uz3OL6YwG"
   },
   "source": [
    "`gosa2(a)`は aの二次多項式なのでその最小値は微分法で簡単に求められる。\n",
    "数式処理を行うライブラリ `sympy` を使って計算してみよう。"
   ]
  },
  {
   "cell_type": "markdown",
   "metadata": {
    "id": "XbnQy5AF6YwG"
   },
   "source": [
    "+ ライブラリ名を `sy`として読み込む"
   ]
  },
  {
   "cell_type": "code",
   "execution_count": null,
   "metadata": {
    "ExecuteTime": {
     "end_time": "2021-07-30T04:52:51.427381Z",
     "start_time": "2021-07-30T04:52:51.423757Z"
    },
    "id": "Tlg-3TVO6YwG"
   },
   "outputs": [],
   "source": [
    "import sympy as sy"
   ]
  },
  {
   "cell_type": "markdown",
   "metadata": {
    "id": "nZIdJNPu6YwG"
   },
   "source": [
    "+ `a`を変数として扱うには以下のようにする。"
   ]
  },
  {
   "cell_type": "code",
   "execution_count": null,
   "metadata": {
    "ExecuteTime": {
     "end_time": "2021-07-30T04:52:51.427381Z",
     "start_time": "2021-07-30T04:52:51.423757Z"
    },
    "id": "n0_7FiX96YwH"
   },
   "outputs": [],
   "source": [
    "from sympy.abc import a"
   ]
  },
  {
   "cell_type": "markdown",
   "metadata": {},
   "source": [
    "+ 参考.\n",
    "   + 複数のときは `from sympy.abc import a,b,theta`  \n",
    "      theta は θと表示される\n",
    "   + `a,b = sy.symbols(\"a b\")` とも書く"
   ]
  },
  {
   "cell_type": "markdown",
   "metadata": {
    "id": "PVQvgc826YwH"
   },
   "source": [
    "+ 関数 gosa2 の式を `gs2`とする。"
   ]
  },
  {
   "cell_type": "code",
   "execution_count": null,
   "metadata": {},
   "outputs": [],
   "source": [
    "gosa2D=gosa2(a,D)\n",
    "gosa2D"
   ]
  },
  {
   "cell_type": "markdown",
   "metadata": {
    "id": "irjmnBw56YwI"
   },
   "source": [
    " + 式を整理する。"
   ]
  },
  {
   "cell_type": "code",
   "execution_count": null,
   "metadata": {
    "colab": {
     "base_uri": "https://localhost:8080/",
     "height": 100
    },
    "id": "B8nT3aOf6YwI",
    "outputId": "3270ccf9-38bb-4ebc-84a2-3a1b5f2927cf"
   },
   "outputs": [],
   "source": [
    "gosa2D.expand()"
   ]
  },
  {
   "cell_type": "markdown",
   "metadata": {
    "id": "PrugQP8f6YwI"
   },
   "source": [
    " + 二次式となったので、その最小値を求めるために微分する。"
   ]
  },
  {
   "cell_type": "code",
   "execution_count": null,
   "metadata": {
    "colab": {
     "base_uri": "https://localhost:8080/",
     "height": 79
    },
    "id": "y4kXIQS76YwI",
    "outputId": "589e5c3f-876d-469a-ddc5-fc7ca316278e"
   },
   "outputs": [],
   "source": [
    "gosa2D.diff(a)"
   ]
  },
  {
   "cell_type": "markdown",
   "metadata": {
    "id": "V3SW-e7r6YwI"
   },
   "source": [
    " + これがゼロとなるaを求めるのに`solve` を用いる."
   ]
  },
  {
   "cell_type": "code",
   "execution_count": null,
   "metadata": {
    "id": "zDY0WNe46YwJ"
   },
   "outputs": [],
   "source": [
    "sol=sy.solve(gosa2D.diff(a),a)\n",
    "sol"
   ]
  },
  {
   "cell_type": "markdown",
   "metadata": {},
   "source": [
    "+ 成分を取り出す"
   ]
  },
  {
   "cell_type": "code",
   "execution_count": null,
   "metadata": {
    "colab": {
     "base_uri": "https://localhost:8080/",
     "height": 71
    },
    "id": "lj3xL5lP6YwJ",
    "outputId": "f7aa7766-ecdf-4875-9768-11c1c77be867"
   },
   "outputs": [],
   "source": [
    "a=sol[0]\n",
    "a"
   ]
  },
  {
   "cell_type": "markdown",
   "metadata": {},
   "source": [
    "+ 誤差を求める."
   ]
  },
  {
   "cell_type": "code",
   "execution_count": null,
   "metadata": {},
   "outputs": [],
   "source": [
    "gosa2(a,D)"
   ]
  },
  {
   "cell_type": "markdown",
   "metadata": {
    "id": "X8AYv7zK6YwJ",
    "tags": []
   },
   "source": [
    "### 1.2.4 命題. $a$は$D$の平均値. 誤差は分散.\n",
    "+ 証明  $$\\frac{\\partial{gosa2(a)}}{\\partial{a}}=\n",
    "  \\sum_{d\\in D}2(a-d)=2(|D|a-\\sum_{d\\in D} d).$$\n",
    "  よって、$\\frac{\\partial{gosa2(a)}}{\\partial{a}}=0$ を$a$について解くと\n",
    "  $$ a=\\frac{\\sum D}{|D|},$$\n",
    " となり、$a$が$D$の平均値であることがわかり、\n",
    "$a$における$L_2$誤差\n",
    "  $$\\sum_{d\\in D}(d-a)^2$$\n",
    "は分散であることもわかる.\n",
    "  \n",
    "\n"
   ]
  },
  {
   "cell_type": "markdown",
   "metadata": {},
   "source": [
    "### 1.2.5 平均値と分散との比較"
   ]
  },
  {
   "cell_type": "markdown",
   "metadata": {},
   "source": [
    "+ `a.n(10)` は、有理数`a`を10桁まで小数展開する.\n",
    "+ `heikin(D)`は、実数データ`D`の平均値\n",
    "+ 次で、gosa2Dを最小化する`a`が平均値であることを確認する."
   ]
  },
  {
   "cell_type": "code",
   "execution_count": null,
   "metadata": {},
   "outputs": [],
   "source": [
    "a.n(10),heikin(D),a.n(10)-heikin(D)"
   ]
  },
  {
   "cell_type": "markdown",
   "metadata": {},
   "source": [
    "+ `bunsan(D)` は実数データ`D`の分散.\n",
    "+ 次で、gosa2Dの最小値を`D`の個数で割ったものが`D`の分散であることがわかる."
   ]
  },
  {
   "cell_type": "code",
   "execution_count": null,
   "metadata": {},
   "outputs": [],
   "source": [
    "gosa2(a,D)/len(D),bunsan(D),gosa2(a,D)/len(D)-bunsan(D)"
   ]
  },
  {
   "cell_type": "markdown",
   "metadata": {
    "id": "BUqmW6kQ6YwJ",
    "jp-MarkdownHeadingCollapsed": true,
    "tags": []
   },
   "source": [
    "# 2 実習2 L1誤差関数"
   ]
  },
  {
   "cell_type": "markdown",
   "metadata": {
    "id": "IgwU9vDm6YwJ"
   },
   "source": [
    "+ $L_1$誤差については、どの数が$D$を最もよく近似するであろうか。"
   ]
  },
  {
   "cell_type": "code",
   "execution_count": null,
   "metadata": {
    "id": "_CQA4PCa6YwJ",
    "tags": []
   },
   "outputs": [],
   "source": [
    "def gosa1(x,D):\n",
    "    return sum([abs(x-d) for d in D])"
   ]
  },
  {
   "cell_type": "markdown",
   "metadata": {
    "id": "yenUC8U66YwK",
    "tags": []
   },
   "source": [
    "##  2.1 誤差関数のグラフ"
   ]
  },
  {
   "cell_type": "markdown",
   "metadata": {
    "id": "N7GYJ99Z6YwK"
   },
   "source": [
    "青のグラフが $L_1$誤差関数である."
   ]
  },
  {
   "cell_type": "code",
   "execution_count": null,
   "metadata": {},
   "outputs": [],
   "source": [
    "gosa1D=lambda t:gosa1(t,D)\n",
    "gosa2D=lambda t:gosa2(t,D)\n",
    "showgraph([gosa1D,gosa2D],[\"L1誤差\",\"L2誤差\"],[0,10],K=1000)"
   ]
  },
  {
   "cell_type": "markdown",
   "metadata": {},
   "source": [
    "+ 赤が$L_2$誤差、青が$L_1$誤差\n",
    "+ 右欄にある赤線をクリックすると青のグラフだけになる。\n",
    "+ $L_1$誤差曲線は折れ線であり、$6$で最小となっている。\n",
    "+ $L_2$近似での最良近似 $5.14285\\dots$より大きい。"
   ]
  },
  {
   "cell_type": "markdown",
   "metadata": {},
   "source": [
    "## 2.2 数値微分"
   ]
  },
  {
   "cell_type": "markdown",
   "metadata": {},
   "source": [
    "+ $L_1$誤差関数 `gosa1`は微分可能でないので、`sympy`を使った§1.2,3 の方法は使えない。そこで数値微分を使って調べる。数値微分は、この講義の後半ではライブラリ`pytorch`を利用するが、当面は素朴に扱う。\n"
   ]
  },
  {
   "cell_type": "markdown",
   "metadata": {},
   "source": [
    "+ $\\varepsilon$を小さくしておけば\n",
    "$$f'(x)=\\lim_{h\\rightarrow 0}\\frac{f(x+h)-f(x)}{h}\\approx \\frac{f(x+\\varepsilon)-f(x)}{\\varepsilon}$$"
   ]
  },
  {
   "cell_type": "markdown",
   "metadata": {},
   "source": [
    "+ 右辺を f,x,epsilon の関数として定義する."
   ]
  },
  {
   "cell_type": "code",
   "execution_count": null,
   "metadata": {},
   "outputs": [],
   "source": [
    "def ndiff(f,x,epsilon=0.01):\n",
    "    return ((f(x+epsilon)-f(x))/epsilon)"
   ]
  },
  {
   "cell_type": "markdown",
   "metadata": {},
   "source": [
    "+ $L_1$誤差関数`gosa1D`の数値導関数を`Dgosa1D`とする "
   ]
  },
  {
   "cell_type": "code",
   "execution_count": null,
   "metadata": {},
   "outputs": [],
   "source": [
    "Dgosa1D=lambda x:ndiff(gosa1D,x)"
   ]
  },
  {
   "cell_type": "markdown",
   "metadata": {},
   "source": [
    "+ グラフを描く"
   ]
  },
  {
   "cell_type": "code",
   "execution_count": null,
   "metadata": {},
   "outputs": [],
   "source": [
    "showgraph([gosa1D,Dgosa1D],[\"gosa1\",\"gosa1の微分\"],[0,10])"
   ]
  },
  {
   "cell_type": "markdown",
   "metadata": {},
   "source": [
    "+ 青をクリックして微分のグラフだけ表示してみると、$x<6$で微分が負、$x>6$で正であることがわかり、$x=6$が最小値なことがわかる。これは$D$の中央値である."
   ]
  },
  {
   "cell_type": "markdown",
   "metadata": {
    "tags": []
   },
   "source": [
    "+ 定義. $D=\\{d_1\\leq d_2\\leq \\cdots\\leq d_N\\}$の中央値は\n",
    "    + $N=2k+1$のとき$d_k$\n",
    "    + $N=2k$のとき、$(d_k+d_{k+1})/2$ "
   ]
  },
  {
   "cell_type": "markdown",
   "metadata": {
    "id": "NPP2Byzk6YwM",
    "jp-MarkdownHeadingCollapsed": true,
    "tags": []
   },
   "source": [
    "# 3 実習3 実数データを２実数で近似する問題"
   ]
  },
  {
   "cell_type": "markdown",
   "metadata": {
    "id": "UOUbv6ee6YwM",
    "jp-MarkdownHeadingCollapsed": true,
    "tags": []
   },
   "source": [
    "## 3.1 誤差関数"
   ]
  },
  {
   "cell_type": "markdown",
   "metadata": {
    "id": "bklFqadw6YwM"
   },
   "source": [
    "実数の集合$D$ を最もよく近似する２実数$a,b$を求めてみよう。集合$A=\\{a,b\\}$への実数$x$の隔たり$d(A,x)$を、$x$に最も近い$A$の要素との隔たりとして定義することにする。２実数$x,a$の隔たりとして$|x-a|$をとると,\n",
    "$$d_1(A,x)=\\min_{a\\in A}|x-a|$$\n",
    "となる。平均値の場合と同様に、$x,a$の隔たりを$(x-a)^2$をとれば\n",
    "$$d_2(A,x)=\\min_{a\\in A}(x-a)^2$$ となる。\n",
    "$x$が$D$を動くとき、$x$と$A$の隔たりを足し合わせると$A$が$D$をどの程度近似しているかを表す指標となる。すなわち$L_2$誤差の一般化として\n",
    "$$ gosa2_2(A,D)=\\sum_{x\\in D}\\min_{a\\in A}(x-a)^2$$\n",
    "$L_1$誤差の一般化として\n",
    "$$gosa2_1(A,D)=\\sum_{x\\in D}\\min_{a\\in A}|x-a|$$\n",
    "と定めることができる。\n"
   ]
  },
  {
   "cell_type": "markdown",
   "metadata": {
    "id": "eHLwr3DL6YwM",
    "jp-MarkdownHeadingCollapsed": true,
    "tags": []
   },
   "source": [
    "## 3.2 L2誤差に関する近似"
   ]
  },
  {
   "cell_type": "markdown",
   "metadata": {
    "id": "sqRgyACD6YwM"
   },
   "source": [
    "+ １点近似を行った$D=\\{1,2,3,6,7,8,9\\}$ を二点近似してみよう"
   ]
  },
  {
   "cell_type": "code",
   "execution_count": null,
   "metadata": {
    "id": "NRR5mjdE6YwM"
   },
   "outputs": [],
   "source": [
    "D=np.array([1,2,3,6,7,8,9])"
   ]
  },
  {
   "cell_type": "markdown",
   "metadata": {},
   "source": [
    "### 3.2.1 誤差関数の定義"
   ]
  },
  {
   "cell_type": "code",
   "execution_count": null,
   "metadata": {
    "id": "5CLOf7t36YwN",
    "tags": []
   },
   "outputs": [],
   "source": [
    "def gosa22(a,b,D):\n",
    "    return sum(min((a-d)**2,(b-d)**2) for d in D)"
   ]
  },
  {
   "cell_type": "markdown",
   "metadata": {},
   "source": [
    "+ `D`は固定し`a,b`だけの関数としておく."
   ]
  },
  {
   "cell_type": "code",
   "execution_count": null,
   "metadata": {},
   "outputs": [],
   "source": [
    "gosa22D=lambda a,b: gosa22(a,b,D)"
   ]
  },
  {
   "cell_type": "markdown",
   "metadata": {},
   "source": [
    "### 3.2.2 誤差関数のグラフ"
   ]
  },
  {
   "cell_type": "markdown",
   "metadata": {},
   "source": [
    " + 次によりpython 関数をndarray に適用できる関数にしておく. グラフを描くときに必要."
   ]
  },
  {
   "cell_type": "code",
   "execution_count": null,
   "metadata": {},
   "outputs": [],
   "source": [
    "gs22=np.frompyfunc(gosa22D,2,1)"
   ]
  },
  {
   "cell_type": "code",
   "execution_count": null,
   "metadata": {
    "id": "UPz-R7tN6YwN",
    "tags": []
   },
   "outputs": [],
   "source": [
    "showgraph2(gs22,xrange=[0,10],yrange=[0,10])"
   ]
  },
  {
   "cell_type": "markdown",
   "metadata": {
    "tags": []
   },
   "source": [
    "#### <font color=\"red\">練習. 図をマウスで拡大・縮小・回転してみよう</font>"
   ]
  },
  {
   "cell_type": "markdown",
   "metadata": {},
   "source": [
    "### 3.2.3 関数の等高線表示"
   ]
  },
  {
   "cell_type": "markdown",
   "metadata": {},
   "source": [
    "+ 次は２変数関数`gs22`を,$[0,10]\\times [0,10]$の範囲で、等高線$gs22=0,0.5,1,1.5,...,10$を表示する."
   ]
  },
  {
   "cell_type": "code",
   "execution_count": null,
   "metadata": {
    "id": "FKoLAQyl6YwN",
    "tags": []
   },
   "outputs": [],
   "source": [
    "toukousen(gs22,[0, 10],[0,10],start=0,end=10,size=0.5,T=100)"
   ]
  },
  {
   "cell_type": "markdown",
   "metadata": {
    "id": "1c34r7lu6YwN"
   },
   "source": [
    "+ $a,b$について対称なので、$a<b$の範囲を考える.\n",
    "+ 左上の密なところをズームインすると$2,7.5$が最もよく近似していると推測される。\n",
    "+ この場合のエラーは7となる。$2$は$1,2,3$の平均であり、$7.5$は$6,7,8,9$の平均となっている。"
   ]
  },
  {
   "cell_type": "markdown",
   "metadata": {},
   "source": [
    "+ 誤差を計算すると"
   ]
  },
  {
   "cell_type": "code",
   "execution_count": null,
   "metadata": {
    "id": "gnpG-qfz6YwO"
   },
   "outputs": [],
   "source": [
    "gosa22(2,7.5,D)"
   ]
  },
  {
   "cell_type": "markdown",
   "metadata": {},
   "source": [
    "+ これは、$1,2,3$の分散の3倍と、$6,7,8,9$の分散の4倍の和となっている."
   ]
  },
  {
   "cell_type": "code",
   "execution_count": null,
   "metadata": {},
   "outputs": [],
   "source": [
    "bunsan(np.array([1,2,3]))*3+bunsan(np.array([6,7,8,9]))*4"
   ]
  },
  {
   "cell_type": "markdown",
   "metadata": {
    "tags": []
   },
   "source": [
    "+ 今回も微分可能ではないので数式処理では解けない。"
   ]
  },
  {
   "cell_type": "markdown",
   "metadata": {},
   "source": [
    "## 3.3 近似実数a,bによるDの二分割"
   ]
  },
  {
   "cell_type": "markdown",
   "metadata": {},
   "source": [
    "+ a=2,b=7.5 とおく\n",
    "+ $Da=\\{x\\in D | |x-a|<|x-b|\\}$とおくと、これは$a$の方に近いデータの集合. その補集合を $Db$とする."
   ]
  },
  {
   "cell_type": "code",
   "execution_count": null,
   "metadata": {},
   "outputs": [],
   "source": [
    "a,b=2,7.5\n",
    "Da=[u for u in D if abs(u-a)<abs(u-b)]\n",
    "Db=[u for u in D if abs(u-a)>=abs(u-b)]\n",
    "Da,Db"
   ]
  },
  {
   "cell_type": "markdown",
   "metadata": {},
   "source": [
    "+ `Da` は $c=\\frac{a+b}2=\\frac{9.5}2 $より小さいもの、`Db`はそれより大きいものの集合、ともみれる\n",
    "+ 次図は`Da`が青色、`Db`が赤、分割点が緑で示されている."
   ]
  },
  {
   "cell_type": "code",
   "execution_count": null,
   "metadata": {},
   "outputs": [],
   "source": [
    "plot1d2(D,9.5/2)"
   ]
  },
  {
   "cell_type": "markdown",
   "metadata": {},
   "source": [
    "## 3.4 平均値・分散との関係"
   ]
  },
  {
   "cell_type": "markdown",
   "metadata": {},
   "source": [
    "+ $2$は$Da$の平均値、$7.5$は  $Db$の平均値となっている. "
   ]
  },
  {
   "cell_type": "code",
   "execution_count": null,
   "metadata": {},
   "outputs": [],
   "source": [
    "print(\"a={:5.1f},Daの平均値={}\\nb={:5.1f},Dbの平均値={}\".format(a,heikin(Da),b,heikin(Db)))"
   ]
  },
  {
   "cell_type": "markdown",
   "metadata": {},
   "source": [
    "+ 誤差は$Da$の分散の`len(Da)`倍と$Db$の分散の`len(Db)`倍の和となっている。"
   ]
  },
  {
   "cell_type": "code",
   "execution_count": null,
   "metadata": {},
   "outputs": [],
   "source": [
    "print(\"  gosa22(a,b,D)={}\\nDaの分散*len(Da)={}\\nDbの分散*len(Db)={}\".format(gosa22(a,b,D),bunsan(Da)*len(Da),bunsan(Db)*len(Db)))"
   ]
  },
  {
   "cell_type": "markdown",
   "metadata": {
    "jp-MarkdownHeadingCollapsed": true,
    "tags": []
   },
   "source": [
    "# 4. 発展実習4  分割法で$L_2$問題2を解く"
   ]
  },
  {
   "cell_type": "markdown",
   "metadata": {},
   "source": [
    "+ 方針.  \n",
    "    + 実数$t$より小さいものを$D1(t)$ $t$以上を$D2(t)$とグループ分けし$a$を$D1(t)$の平均、$b$を$D2(t)$の平均とすると\n",
    "       `gosa22(a,b,D)=bunsan1(D1(t))+bunsan1(D2(t))`\n",
    "       \n",
    "    + そこで、`gosaA2(t)=bunsan1(D1(t))+bunsan1(D2(t))`の最小値を求める.\n",
    "       "
   ]
  },
  {
   "cell_type": "markdown",
   "metadata": {},
   "source": [
    "+ ただし、`bunsan1`は分散にデータ数を掛けたもの."
   ]
  },
  {
   "cell_type": "code",
   "execution_count": null,
   "metadata": {},
   "outputs": [],
   "source": [
    "def bunsan1(D):\n",
    "    return bunsan(D)*len(D)"
   ]
  },
  {
   "cell_type": "markdown",
   "metadata": {},
   "source": [
    "## 4.1 誤差関数の定義"
   ]
  },
  {
   "cell_type": "code",
   "execution_count": null,
   "metadata": {
    "tags": []
   },
   "outputs": [],
   "source": [
    "def gosaA2(t,D):\n",
    "    return bunsan1([d for d in D if d<t])+bunsan1([d for d in D if d>=t])\n"
   ]
  },
  {
   "cell_type": "markdown",
   "metadata": {},
   "source": [
    "## 4.2 誤差関数のグラフ"
   ]
  },
  {
   "cell_type": "code",
   "execution_count": null,
   "metadata": {
    "tags": []
   },
   "outputs": [],
   "source": [
    "gosaA2D=lambda t:gosaA2(t,D)\n",
    "showgraph([gosaA2D],[\"各グループの分散の和\"],[0,10])"
   ]
  },
  {
   "cell_type": "markdown",
   "metadata": {},
   "source": [
    "これより$3<t<6$のときに最小となることがわかる. そのとき$D1(t)=[1,2,3]$,$D2(t)=[6,7,8,9]$で $a=2,b=7.5$"
   ]
  },
  {
   "cell_type": "code",
   "execution_count": null,
   "metadata": {},
   "outputs": [],
   "source": [
    "plot1d2(D,4)"
   ]
  },
  {
   "cell_type": "markdown",
   "metadata": {
    "jp-MarkdownHeadingCollapsed": true,
    "tags": []
   },
   "source": [
    "# 5 発展実習5 $L_1$誤差についての２点近似"
   ]
  },
  {
   "cell_type": "markdown",
   "metadata": {},
   "source": [
    "+ 参考実習4 と同様に行う.\n",
    "+ 平均を中央値、分散を$L_1$分散にする. ただし、$L_1$分散は、中央値とデータの差の絶対値の和である。\n"
   ]
  },
  {
   "cell_type": "code",
   "execution_count": null,
   "metadata": {
    "id": "NRR5mjdE6YwM"
   },
   "outputs": [],
   "source": [
    "D=np.array([1,2,3,6,7,8,9])"
   ]
  },
  {
   "cell_type": "code",
   "execution_count": null,
   "metadata": {},
   "outputs": [],
   "source": [
    "mode(D),l1bunsan(D)"
   ]
  },
  {
   "cell_type": "markdown",
   "metadata": {},
   "source": [
    "## 5.1 方針"
   ]
  },
  {
   "cell_type": "markdown",
   "metadata": {},
   "source": [
    "+ 実数$t$より小さいものを$D1(t)$とし、$t$以上を$D2(t)$とグループ分けし$a$を$D1(t)$の中央値、$b$を$D2(t)$の中央値とすると\n",
    "       `gosa21(a,b,D)=l1bunsan(D1(t))+l1bunsan(D2(t))`\n",
    "+ そこで、$gosaA1(t)=l1bunsan(D1(t))+l1bunsan(D2(t))$の最小値を求める.\n",
    "       "
   ]
  },
  {
   "cell_type": "markdown",
   "metadata": {},
   "source": [
    "## 5.2 誤差関数の定義"
   ]
  },
  {
   "cell_type": "code",
   "execution_count": null,
   "metadata": {},
   "outputs": [],
   "source": [
    "def gosaA1(t,D):\n",
    "    return l1bunsan([d for d in D if d<t])+l1bunsan([d for d in D if d>=t])"
   ]
  },
  {
   "cell_type": "markdown",
   "metadata": {},
   "source": [
    "## 5.3 誤差関数のグラフ"
   ]
  },
  {
   "cell_type": "code",
   "execution_count": null,
   "metadata": {},
   "outputs": [],
   "source": [
    "gosaA1D=lambda t:gosaA1(t,D)\n",
    "showgraph([gosaA1D],[\"分割された各グループのL1分散の和\"],[0,10])\n"
   ]
  },
  {
   "cell_type": "markdown",
   "metadata": {},
   "source": [
    "## 5.4 分割の図示"
   ]
  },
  {
   "cell_type": "markdown",
   "metadata": {},
   "source": [
    "+ これより、区間[3,6]にある点、たとえば、4 をとり、$4$未満と$4$以上に分離すれば良いことがわかる.この場合は$L_2$誤差の場合と同じである。"
   ]
  },
  {
   "cell_type": "code",
   "execution_count": null,
   "metadata": {},
   "outputs": [],
   "source": [
    "plot1d2(D,4)"
   ]
  },
  {
   "cell_type": "markdown",
   "metadata": {},
   "source": [
    "## 5.5 比較"
   ]
  },
  {
   "cell_type": "code",
   "execution_count": null,
   "metadata": {},
   "outputs": [],
   "source": [
    "showgraph([gosaA2D,gosaA1D],[\"グループの分散和\",\"グループのL1分散和\"],[0,15])"
   ]
  },
  {
   "cell_type": "markdown",
   "metadata": {},
   "source": [
    "### 5.5.1 一要素が孤立している場合(1)"
   ]
  },
  {
   "cell_type": "markdown",
   "metadata": {},
   "source": [
    "+ $D$の最後の要素$9$を$16$とした場合はどうか?"
   ]
  },
  {
   "cell_type": "code",
   "execution_count": null,
   "metadata": {
    "tags": []
   },
   "outputs": [],
   "source": [
    "D[-1]=16\n",
    "D"
   ]
  },
  {
   "cell_type": "markdown",
   "metadata": {},
   "source": [
    "+ 誤差関数のグラフ"
   ]
  },
  {
   "cell_type": "code",
   "execution_count": null,
   "metadata": {
    "tags": []
   },
   "outputs": [],
   "source": [
    "gosaA2D=lambda u:gosaA2(u,D)\n",
    "gosaA1D=lambda u:gosaA1(u,D)\n",
    "showgraph([gosaA2D,gosaA1D],[\"L2誤差\",\"L1誤差\"],[0,20])"
   ]
  },
  {
   "cell_type": "markdown",
   "metadata": {},
   "source": [
    "+ 青だけ表示すると$L_2$誤差では、[1,2,3,6,7,8]と[16]に分離するときが最小"
   ]
  },
  {
   "cell_type": "markdown",
   "metadata": {},
   "source": [
    "#### 赤のグループが$16$だけになる."
   ]
  },
  {
   "cell_type": "code",
   "execution_count": null,
   "metadata": {},
   "outputs": [],
   "source": [
    "plot1d2(D,10)"
   ]
  },
  {
   "cell_type": "markdown",
   "metadata": {},
   "source": [
    "+ $L_1$誤差では、前と同様に [1,2,3] と [6,7,8,16] に分離するときが最小となる"
   ]
  },
  {
   "cell_type": "markdown",
   "metadata": {},
   "source": [
    "#### $L_1$誤差: 変化なし"
   ]
  },
  {
   "cell_type": "code",
   "execution_count": null,
   "metadata": {},
   "outputs": [],
   "source": [
    "plot1d2(D,5)"
   ]
  },
  {
   "cell_type": "markdown",
   "metadata": {},
   "source": [
    "### 5.5.2 一要素が孤立している場合(2)"
   ]
  },
  {
   "cell_type": "markdown",
   "metadata": {},
   "source": [
    "+ $D$の最後の要素$9$を$20$とした場合はどうか?"
   ]
  },
  {
   "cell_type": "code",
   "execution_count": null,
   "metadata": {
    "tags": []
   },
   "outputs": [],
   "source": [
    "D[-1]=20\n",
    "D"
   ]
  },
  {
   "cell_type": "code",
   "execution_count": null,
   "metadata": {
    "tags": []
   },
   "outputs": [],
   "source": [
    "gosaA2D=lambda u:gosaA2(u,D)\n",
    "gosaA1D=lambda u:gosaA1(u,D)\n",
    "showgraph([gosaA2D,gosaA1D],[\"L2誤差\",\"L1誤差\"],[0,22])"
   ]
  },
  {
   "cell_type": "markdown",
   "metadata": {},
   "source": [
    "+ この場合は$L_1$誤差の場合も赤グループは\"20\"のみとなる."
   ]
  },
  {
   "cell_type": "code",
   "execution_count": null,
   "metadata": {},
   "outputs": [],
   "source": [
    "plot1d2(D,15)"
   ]
  },
  {
   "cell_type": "code",
   "execution_count": null,
   "metadata": {},
   "outputs": [],
   "source": []
  }
 ],
 "metadata": {
  "colab": {
   "name": "22ds201.ipynb",
   "provenance": [],
   "toc_visible": true
  },
  "kernelspec": {
   "display_name": "Python 3 (ipykernel)",
   "language": "python",
   "name": "python3"
  },
  "language_info": {
   "codemirror_mode": {
    "name": "ipython",
    "version": 3
   },
   "file_extension": ".py",
   "mimetype": "text/x-python",
   "name": "python",
   "nbconvert_exporter": "python",
   "pygments_lexer": "ipython3",
   "version": "3.10.4"
  },
  "name": "Chapter1.ipynb",
  "toc": {
   "base_numbering": 1,
   "nav_menu": {
    "height": "1753.7px",
    "width": "252px"
   },
   "number_sections": true,
   "sideBar": true,
   "skip_h1_title": false,
   "title_cell": "Table of Contents",
   "title_sidebar": "Contents",
   "toc_cell": false,
   "toc_position": {
    "height": "calc(100% - 180px)",
    "left": "10px",
    "top": "150px",
    "width": "338px"
   },
   "toc_section_display": false,
   "toc_window_display": true
  },
  "toc-autonumbering": false,
  "toc-showcode": false,
  "toc-showmarkdowntxt": false,
  "widgets": {
   "application/vnd.jupyter.widget-state+json": {
    "state": {},
    "version_major": 2,
    "version_minor": 0
   }
  }
 },
 "nbformat": 4,
 "nbformat_minor": 4
}
