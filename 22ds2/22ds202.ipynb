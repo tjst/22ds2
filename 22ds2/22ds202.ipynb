{
 "cells": [
  {
   "cell_type": "markdown",
   "metadata": {
    "id": "ouqOM1he6Yv7"
   },
   "source": [
    "<hr style=\"border-top: 3px double #8c8b8b;\"/>\n",
    "<br/>\n",
    "<center><font size=7 color=\"green\">データサイエンスII   第2回 可視化 実習</font><br/>\n",
    "\n",
    "2022.4.19\n",
    "</center>\n",
    "<hr style=\"border-top: 3px double #8c8b8b;\"/>\n"
   ]
  },
  {
   "cell_type": "markdown",
   "metadata": {
    "tags": []
   },
   "source": [
    "## 準備"
   ]
  },
  {
   "cell_type": "code",
   "execution_count": null,
   "metadata": {
    "ExecuteTime": {
     "end_time": "2021-06-01T01:38:07.219359Z",
     "start_time": "2021-06-01T01:38:06.575288Z"
    }
   },
   "outputs": [],
   "source": [
    "import numpy as np\n",
    "import pandas as pd\n",
    "import plotly.express as px\n",
    "import scipy as sy\n",
    "\n",
    "\n",
    "# 実数集合Dの表示\n",
    "def plot1d(D,width=600,height=300):\n",
    "    import plotly.express as px\n",
    "    import numpy as np\n",
    "    fig=px.scatter(x=D,y=np.zeros(len(D)))\n",
    "    fig.update_layout(width=width,height=height)\n",
    "    fig.show()\n",
    "    \n",
    "    \n",
    "# １変数関数のグラフ表示, flist は表示する関数のリスト、labels はそれぞれのラベル, xrange はxの動く範囲\n",
    "def showgraph(flist,labels,xrange=[0,1],K=50):\n",
    "    import plotly.graph_objects as go\n",
    "    import numpy as np\n",
    "    fig = go.Figure()\n",
    "    tmin,tmax=xrange\n",
    "    ts=np.linspace(tmin,tmax,K)\n",
    "    for i in range(len(flist)):\n",
    "        fig.add_trace(go.Scatter(x=ts, y=[flist[i](t) for t in ts], name=labels[i]))\n",
    "    if len(flist)==1:\n",
    "        fig.update_layout(title=labels[0])\n",
    "    fig.update_layout(width=600,height=600)\n",
    "\n",
    "    fig.show() \n",
    "\n",
    "# ２変数関数fのグラフを表示\n",
    "def showgraph2(f,xrange=[-1,1],yrange=[-1,1],K=50,opacity=0.5):\n",
    "    import numpy as np\n",
    "    import plotly.graph_objects as go\n",
    "    xmin,xmax=xrange\n",
    "    ymin,ymax=yrange\n",
    "    a0=np.linspace(xmin,xmax,K)\n",
    "    b0=np.linspace(ymin,ymax,K)\n",
    "    xx,yy=np.meshgrid(a0,b0)\n",
    "    F=go.Figure()\n",
    "    F.add_surface(x=xx,y=yy,z=f(xx,yy),opacity=opacity)  \n",
    "    F.update_layout(width=600,height=600)\n",
    "    F.show()\n",
    "\n",
    "\n",
    "def make2data(cov=[[0.2, 0], [0, 0.2]],N=100): \n",
    "    import numpy as np\n",
    "    D21=np.vstack([np.random.multivariate_normal([2*i,2*j], cov, N) for i in range(2) for j in range(2)])\n",
    "    return D21\n",
    "\n",
    "def make1data(heikin=0,bunsan=1,size=100):\n",
    "    return np.random.normal(loc=heikin,scale=bunsan,size=size)\n",
    "\n",
    "def show1data(データリスト,ラベルリスト,毛=False,ヒストグラム=False,密度=False,ビンサイズ=1.0):\n",
    "    import plotly.figure_factory as ff\n",
    "    ff.create_distplot(データリスト,ラベルリスト,show_rug=毛, show_hist=ヒストグラム,show_curve=密度,bin_size=ビンサイズ).show()\n",
    "\n",
    "def plot2d(D,color=[],width=600,height=600,透明度=1.0):\n",
    "    import plotly.express as px\n",
    "    import numpy as np\n",
    "    if len(color)==0:\n",
    "        color=np.zeros(len(D))\n",
    "    fig=px.scatter(x=D[:,0],y=D[:,1],opacity=透明度,color=color)\n",
    "    fig.update_layout(width=width,height=height)\n",
    "    fig.update_yaxes(scaleanchor=\"x\", scaleratio=1)\n",
    "    fig.show()\n",
    "\n",
    "def ヒストグラム2次元(D,xビン数=10,yビン数=10,周辺分布=False):\n",
    "    import plotly.express as px\n",
    "    if 周辺分布:\n",
    "        fig = px.density_heatmap(x=D.T[0], y=D.T[1],nbinsx=xビン数,nbinsy=yビン数,marginal_x=\"histogram\", marginal_y=\"histogram\")\n",
    "    else:\n",
    "        fig = px.density_heatmap(x=D.T[0], y=D.T[1],nbinsx=xビン数,nbinsy=yビン数)\n",
    "    fig.update_layout(width=500,height=500)\n",
    "    fig.show()\n",
    "\n",
    "def 密度等高線(D,width=500,height=500,周辺分布=False,濃淡=False,ラベル=False):\n",
    "    if 周辺分布:\n",
    "        fig = px.density_contour(x=D.T[0], y=D.T[1],marginal_x=\"histogram\", marginal_y=\"histogram\")\n",
    "    else:\n",
    "        fig = px.density_contour(x=D.T[0], y=D.T[1])\n",
    "    if 濃淡:\n",
    "        fig.update_traces(contours_coloring=\"fill\")\n",
    "    if ラベル:\n",
    "        fig.update_traces(contours_showlabels = True)\n",
    "    fig.update_layout(width=width,height=height)\n",
    "    fig.show()\n",
    "\n",
    "def readcsv(url):\n",
    "    import pandas as pd\n",
    "    return pd.read_csv(url).to_numpy()\n",
    "\n",
    "def plot3d1(D,color=[],透明度=0.8,点サイズ=1,形状=\"circle\",width=500,height=500):\n",
    "    import plotly.graph_objects as go\n",
    "    import plotly.express as px\n",
    "    fig=px.scatter()\n",
    "    fig.add_trace(go.Scatter3d(x=D.T[0],y=D.T[1],z=D.T[2],mode=\"markers\",\\\n",
    "                               marker=dict(size=点サイズ, symbol=形状, color=color,opacity=透明度)))\n",
    "    fig.update_layout(width=width,height=height)\n",
    "    fig.show()\n",
    "                    \n",
    "                  \n",
    "\n",
    "def plot3d(D,color=[],透明度=0.8,点サイズ=0.5,width=500,height=500):\n",
    "    import numpy as np\n",
    "    import plotly.express as px\n",
    "    if len(color)==0:\n",
    "        color=np.ones(len(D))\n",
    "    D1=np.vstack([D.T,点サイズ*0.1*np.ones(len(D))]).T\n",
    "    D2=np.vstack([D1,[0,0,0,0.6]])\n",
    "    Dcolor=np.hstack([color,\"white\"])\n",
    "\n",
    "    fig=px.scatter_3d(D2,x=0,y=1,z=2,color=Dcolor,opacity=透明度,size=3)\n",
    "    fig.update_layout(width=600,height=600)\n",
    "    print(\" 'white' をクリックして大きな球を消去してください\")\n",
    "    fig.show()    \n",
    "\n",
    "\n",
    "def DAyame():\n",
    "    import plotly.express as px\n",
    "    temp = px.data.iris().to_numpy()\n",
    "    return temp[:,[0,1,2,3,5]].astype(\"float32\")\n",
    "\n",
    "def sc3d(a,b,c):\n",
    "    import plotly.express as px\n",
    "    D45=np.vstack([D44.T,0.1*np.ones(150)]).T\n",
    "    D45A=np.vstack([D45,[0,0,0,0,0.6]])\n",
    "    D4color_name_1=np.hstack([D4color_name,\"white\"])\n",
    "    fig=px.scatter_3d(D45A,x=a,y=b,z=c,color=D4color_name_1,opacity=0.6,size=4)\n",
    "    fig.update_layout(width=600,height=600)\n",
    "    fig.show()    \n",
    "\n",
    "def proj3d():\n",
    "    from ipywidgets import interact\n",
    "    import ipywidgets as widgets\n",
    "    interact(sc3d  \n",
    "        ,a=widgets.RadioButtons(description=\"第1変数\",value=0,options=[0,1,2,3])\n",
    "        ,b=widgets.RadioButtons(description=\"第２変数\",value=1,options=[0,1,2,3])\n",
    "        ,c=widgets.RadioButtons(description=\"第３変数\",value=2,options=[0,1,2,3])\n",
    "            )    \n",
    "def バブル表示(D,透明度=0.5):\n",
    "    fig=px.scatter(x=D.T[0],y=D.T[1],size=100*np.abs(D.T[2]),opacity=透明度)\n",
    "    fig.update_yaxes(scaleanchor=\"x\", scaleratio=1)\n",
    "    fig.update_layout(width=500,height=500)\n",
    "    fig.show()\n",
    "\n",
    "def normalgraph(D):    \n",
    "    fig1=px.line(D,x=range(12),y=[0,1])\n",
    "    fig1.update_layout(width=500,height=500)\n",
    "    fig1.show() \n",
    "\n",
    "def climograph(D,label=[]):\n",
    "    import plotly.express as px\n",
    "    if len(label)==0:\n",
    "        label=np.arange(len(D))\n",
    "    fig=px.line(D,x=0,y=1,text=label)\n",
    "    fig.update_layout(width=500,height=500)\n",
    "    fig.show()\n",
    "\n",
    "def 関数表示(D,color=[]):\n",
    "    import numpy as np\n",
    "    import plotly.express as px\n",
    "    if(len(color)==0):\n",
    "        color=np.zeros(len(D[0]))\n",
    "    fig = px.parallel_coordinates(D, color=color)\n",
    "    fig.show()\n",
    "\n",
    "def 二次元散布図(D,color=[],透明度=0.7,width=1000,height=1000,seaborn=False):\n",
    "    import pandas as pd\n",
    "    N=len(D)\n",
    "    if len(color)==0:\n",
    "        color=np.zeros(len(D))\n",
    "    if seaborn:\n",
    "        import seaborn as sbn\n",
    "        import japanize_matplotlib\n",
    "        Df=pd.DataFrame(D)\n",
    "        Df[\"color\"]=color\n",
    "        sbn.pairplot(Df,kind=\"kde\",hue=\"color\")        \n",
    "    else:\n",
    "        fig=px.scatter_matrix(pd.DataFrame(D),opacity=透明度,color=color)\n",
    "        fig.update_layout(width=width,height=height)\n",
    "        fig.show()"
   ]
  },
  {
   "cell_type": "markdown",
   "metadata": {
    "jp-MarkdownHeadingCollapsed": true,
    "tags": []
   },
   "source": [
    "# 実習1 データ可視化：１次元"
   ]
  },
  {
   "cell_type": "markdown",
   "metadata": {
    "tags": []
   },
   "source": [
    "##  １次元データD1"
   ]
  },
  {
   "cell_type": "markdown",
   "metadata": {},
   "source": [
    "+ 次は、平均が0,分散が1の実数データを100個ランダムに生成. 毎回結果が違う."
   ]
  },
  {
   "cell_type": "code",
   "execution_count": null,
   "metadata": {
    "tags": []
   },
   "outputs": [],
   "source": [
    "N=100\n",
    "D11=make1data(heikin=0,bunsan=1,size=N)\n",
    "D11"
   ]
  },
  {
   "cell_type": "markdown",
   "metadata": {},
   "source": [
    "## 単純プロット"
   ]
  },
  {
   "cell_type": "code",
   "execution_count": null,
   "metadata": {
    "tags": []
   },
   "outputs": [],
   "source": [
    "plot1d(D11)"
   ]
  },
  {
   "cell_type": "markdown",
   "metadata": {},
   "source": [
    "+ 点で表示すると密集しているところがわかりにくいので、縦線で描くほうがよい"
   ]
  },
  {
   "cell_type": "code",
   "execution_count": null,
   "metadata": {},
   "outputs": [],
   "source": [
    "show1data([D11],[\"1\"],毛=True)\n"
   ]
  },
  {
   "cell_type": "markdown",
   "metadata": {},
   "source": [
    "+ 複数のデータを同時に表示"
   ]
  },
  {
   "cell_type": "markdown",
   "metadata": {},
   "source": [
    "+ 次は、平均が0.5,分散が0.3の実数データを100個ランダムに生成. これも毎回結果が違う."
   ]
  },
  {
   "cell_type": "code",
   "execution_count": null,
   "metadata": {},
   "outputs": [],
   "source": [
    "D12=make1data(heikin=0.5,bunsan=0.3,size=N)\n",
    "D12"
   ]
  },
  {
   "cell_type": "markdown",
   "metadata": {},
   "source": [
    "+ 両方を同時に表示する. "
   ]
  },
  {
   "cell_type": "code",
   "execution_count": null,
   "metadata": {},
   "outputs": [],
   "source": [
    "show1data([D11,D12],[1,2],毛=True)"
   ]
  },
  {
   "cell_type": "markdown",
   "metadata": {},
   "source": [
    "## ヒストグラム"
   ]
  },
  {
   "cell_type": "code",
   "execution_count": null,
   "metadata": {},
   "outputs": [],
   "source": [
    "show1data([D11],[1],ヒストグラム=True,ビンサイズ=0.1)"
   ]
  },
  {
   "cell_type": "markdown",
   "metadata": {},
   "source": [
    "+ 複数のデータのヒストグラム"
   ]
  },
  {
   "cell_type": "code",
   "execution_count": null,
   "metadata": {},
   "outputs": [],
   "source": [
    "show1data([D11,D12],[1,2],ヒストグラム=True,ビンサイズ=0.1)"
   ]
  },
  {
   "cell_type": "markdown",
   "metadata": {},
   "source": [
    "## 密度関数表示\n",
    "\n"
   ]
  },
  {
   "cell_type": "code",
   "execution_count": null,
   "metadata": {},
   "outputs": [],
   "source": [
    "show1data([D11],[1],密度=True)"
   ]
  },
  {
   "cell_type": "code",
   "execution_count": null,
   "metadata": {},
   "outputs": [],
   "source": [
    "show1data([D11,D12],[1,2],密度=True)"
   ]
  },
  {
   "cell_type": "markdown",
   "metadata": {},
   "source": [
    "## ３種同時表示\n",
    "\n",
    "+ 三種類の表示を全て行う。冗長だがわかりやすい。"
   ]
  },
  {
   "cell_type": "code",
   "execution_count": null,
   "metadata": {},
   "outputs": [],
   "source": [
    "show1data([D11,D12],[1,2],毛=True,密度=True,ヒストグラム=True,ビンサイズ=0.2)"
   ]
  },
  {
   "cell_type": "markdown",
   "metadata": {
    "tags": []
   },
   "source": [
    "# <font color=\"green\" size=5>実習2.  2 次元データ集合の可視化</font>"
   ]
  },
  {
   "cell_type": "markdown",
   "metadata": {
    "tags": []
   },
   "source": [
    "## D2 の定義"
   ]
  },
  {
   "cell_type": "code",
   "execution_count": null,
   "metadata": {
    "ExecuteTime": {
     "end_time": "2021-06-01T01:38:07.232460Z",
     "start_time": "2021-06-01T01:38:07.221273Z"
    }
   },
   "outputs": [],
   "source": [
    "D2=make2data(N=1000)\n",
    "D2.shape"
   ]
  },
  {
   "cell_type": "markdown",
   "metadata": {
    "tags": []
   },
   "source": [
    "## 単純プロット"
   ]
  },
  {
   "cell_type": "code",
   "execution_count": null,
   "metadata": {
    "ExecuteTime": {
     "end_time": "2021-06-01T01:38:07.857088Z",
     "start_time": "2021-06-01T01:38:07.235803Z"
    },
    "tags": []
   },
   "outputs": [],
   "source": [
    "plot2d(D2)"
   ]
  },
  {
   "cell_type": "markdown",
   "metadata": {},
   "source": [
    "### 濃淡で密度を表示"
   ]
  },
  {
   "cell_type": "code",
   "execution_count": null,
   "metadata": {
    "ExecuteTime": {
     "end_time": "2021-06-01T01:38:07.857088Z",
     "start_time": "2021-06-01T01:38:07.235803Z"
    },
    "tags": []
   },
   "outputs": [],
   "source": [
    "plot2d(D2,透明度=0.2)"
   ]
  },
  {
   "cell_type": "markdown",
   "metadata": {
    "tags": []
   },
   "source": [
    "## 二次元匕ストグラム"
   ]
  },
  {
   "cell_type": "markdown",
   "metadata": {},
   "source": [
    "+ x方向の分割数は xビン数\n",
    "+ y方向の分割数は yビン数"
   ]
  },
  {
   "cell_type": "markdown",
   "metadata": {},
   "source": [
    "+ デフォルトで x,y方向ともに分割数10"
   ]
  },
  {
   "cell_type": "code",
   "execution_count": null,
   "metadata": {
    "ExecuteTime": {
     "end_time": "2021-06-01T01:38:08.262885Z",
     "start_time": "2021-06-01T01:38:08.150324Z"
    },
    "tags": []
   },
   "outputs": [],
   "source": [
    "ヒストグラム2次元(D2)"
   ]
  },
  {
   "cell_type": "markdown",
   "metadata": {},
   "source": [
    "+ 次は各成分のヒストグラム(周辺分布という)も表示"
   ]
  },
  {
   "cell_type": "code",
   "execution_count": null,
   "metadata": {
    "ExecuteTime": {
     "end_time": "2021-06-01T01:38:08.262885Z",
     "start_time": "2021-06-01T01:38:08.150324Z"
    },
    "tags": []
   },
   "outputs": [],
   "source": [
    "ヒストグラム2次元(D2,周辺分布=True)"
   ]
  },
  {
   "cell_type": "markdown",
   "metadata": {
    "ExecuteTime": {
     "end_time": "2021-05-24T23:20:12.183680Z",
     "start_time": "2021-05-24T23:20:12.165481Z"
    }
   },
   "source": [
    "+ 分割数を増やしてみる: x,y方向それぞれ30等分する."
   ]
  },
  {
   "cell_type": "code",
   "execution_count": null,
   "metadata": {
    "ExecuteTime": {
     "end_time": "2021-06-01T01:38:08.262885Z",
     "start_time": "2021-06-01T01:38:08.150324Z"
    },
    "tags": []
   },
   "outputs": [],
   "source": [
    "ヒストグラム2次元(D2,xビン数=30,yビン数=30)"
   ]
  },
  {
   "cell_type": "markdown",
   "metadata": {
    "tags": []
   },
   "source": [
    "## 密度関数の表示"
   ]
  },
  {
   "cell_type": "markdown",
   "metadata": {},
   "source": [
    "### 等高線"
   ]
  },
  {
   "cell_type": "code",
   "execution_count": null,
   "metadata": {
    "tags": []
   },
   "outputs": [],
   "source": [
    "密度等高線(D2)"
   ]
  },
  {
   "cell_type": "code",
   "execution_count": null,
   "metadata": {
    "tags": []
   },
   "outputs": [],
   "source": [
    "密度等高線(D2,周辺分布=True)"
   ]
  },
  {
   "cell_type": "markdown",
   "metadata": {
    "tags": []
   },
   "source": [
    "### 濃淡で表示"
   ]
  },
  {
   "cell_type": "code",
   "execution_count": null,
   "metadata": {},
   "outputs": [],
   "source": [
    "密度等高線(D2,濃淡=True)"
   ]
  },
  {
   "cell_type": "code",
   "execution_count": null,
   "metadata": {},
   "outputs": [],
   "source": [
    "密度等高線(D2,濃淡=True,ラベル=True)"
   ]
  },
  {
   "cell_type": "markdown",
   "metadata": {
    "tags": []
   },
   "source": [
    "# 実習３ ３次元データ集合の可視化"
   ]
  },
  {
   "cell_type": "markdown",
   "metadata": {
    "tags": []
   },
   "source": [
    "## data 集合 D31 の設定"
   ]
  },
  {
   "cell_type": "code",
   "execution_count": null,
   "metadata": {},
   "outputs": [],
   "source": [
    "D3=readcsv(\"https://ac-net.org/tjst/lct/21/21ds2/dfD72A.csv\")\n",
    "D3"
   ]
  },
  {
   "cell_type": "code",
   "execution_count": null,
   "metadata": {
    "ExecuteTime": {
     "end_time": "2021-06-01T01:38:08.599439Z",
     "start_time": "2021-06-01T01:38:08.592296Z"
    }
   },
   "outputs": [],
   "source": [
    "D3.shape"
   ]
  },
  {
   "cell_type": "markdown",
   "metadata": {
    "tags": []
   },
   "source": [
    "## ３次元プロット"
   ]
  },
  {
   "cell_type": "code",
   "execution_count": null,
   "metadata": {
    "tags": []
   },
   "outputs": [],
   "source": [
    "plot3d(D3[:,:3])"
   ]
  },
  {
   "cell_type": "code",
   "execution_count": null,
   "metadata": {
    "tags": []
   },
   "outputs": [],
   "source": [
    "plot3d(D3[:,:3],color=D3.T[3])"
   ]
  },
  {
   "cell_type": "markdown",
   "metadata": {
    "tags": []
   },
   "source": [
    "## １次元プロット"
   ]
  },
  {
   "cell_type": "code",
   "execution_count": null,
   "metadata": {
    "tags": []
   },
   "outputs": [],
   "source": [
    "show1data([D3.T[0],D3.T[1],D3.T[2]],[\"x\",\"y\",\"z\"],ビンサイズ=0.2,毛=True,ヒストグラム=True,密度=True)"
   ]
  },
  {
   "cell_type": "markdown",
   "metadata": {
    "tags": []
   },
   "source": [
    "## ２変数への射影"
   ]
  },
  {
   "cell_type": "markdown",
   "metadata": {},
   "source": [
    "### x,y成分のプロット"
   ]
  },
  {
   "cell_type": "code",
   "execution_count": null,
   "metadata": {
    "tags": []
   },
   "outputs": [],
   "source": [
    "plot2d(D3.T[[1,2]].T,color=D3.T[3])"
   ]
  },
  {
   "cell_type": "markdown",
   "metadata": {},
   "source": [
    "### 二変数組すべてについてのプロット"
   ]
  },
  {
   "cell_type": "markdown",
   "metadata": {},
   "source": [
    "#### px.scatter_matrix"
   ]
  },
  {
   "cell_type": "code",
   "execution_count": null,
   "metadata": {},
   "outputs": [],
   "source": [
    "二次元散布図(D3[:,:3],color=D3.T[3])"
   ]
  },
  {
   "cell_type": "markdown",
   "metadata": {},
   "source": [
    "#### seaborn.pairplot"
   ]
  },
  {
   "cell_type": "code",
   "execution_count": null,
   "metadata": {},
   "outputs": [],
   "source": [
    "二次元散布図(D3[:,:3],color=D3.T[3],seaborn=True)"
   ]
  },
  {
   "cell_type": "markdown",
   "metadata": {
    "tags": []
   },
   "source": [
    "# <font color=\"green\" size=5>実習4.  4次元データ集合</font>"
   ]
  },
  {
   "cell_type": "markdown",
   "metadata": {
    "tags": []
   },
   "source": [
    "## iris(菖)データ "
   ]
  },
  {
   "cell_type": "markdown",
   "metadata": {},
   "source": [
    "+ plotly にあるデータセット iris を読み込む"
   ]
  },
  {
   "cell_type": "code",
   "execution_count": null,
   "metadata": {
    "ExecuteTime": {
     "end_time": "2021-06-01T01:38:15.047396Z",
     "start_time": "2021-06-01T01:38:15.042819Z"
    }
   },
   "outputs": [],
   "source": [
    "D4=DAyame()\n",
    "D4.shape"
   ]
  },
  {
   "cell_type": "code",
   "execution_count": null,
   "metadata": {},
   "outputs": [],
   "source": [
    "D4[0]"
   ]
  },
  {
   "cell_type": "markdown",
   "metadata": {},
   "source": [
    "+ 最初の４成分が実数、最後のデータがクラスを表している.\n"
   ]
  },
  {
   "cell_type": "code",
   "execution_count": null,
   "metadata": {},
   "outputs": [],
   "source": [
    "D44=D4.T[:4].T"
   ]
  },
  {
   "cell_type": "markdown",
   "metadata": {},
   "source": [
    "+ D44の最初の３成分を表示"
   ]
  },
  {
   "cell_type": "code",
   "execution_count": null,
   "metadata": {},
   "outputs": [],
   "source": [
    "D44[:3]"
   ]
  },
  {
   "cell_type": "markdown",
   "metadata": {},
   "source": [
    "+ DAの第４成分はクラスを表す。これを別のarray にしておく"
   ]
  },
  {
   "cell_type": "code",
   "execution_count": null,
   "metadata": {},
   "outputs": [],
   "source": [
    "D4color=D4.T[4]\n",
    "D4color"
   ]
  },
  {
   "cell_type": "markdown",
   "metadata": {},
   "source": [
    "+ DAcolor の成分を、色に変えておく"
   ]
  },
  {
   "cell_type": "code",
   "execution_count": null,
   "metadata": {},
   "outputs": [],
   "source": [
    "D4color_name=[(lambda x:\"blue\"  if x==1 else \"red\" if x==2 else \"green\")(u) for u in D4color]"
   ]
  },
  {
   "cell_type": "code",
   "execution_count": null,
   "metadata": {},
   "outputs": [],
   "source": [
    "print(D4color_name)"
   ]
  },
  {
   "cell_type": "markdown",
   "metadata": {
    "tags": []
   },
   "source": [
    "## 1次元射影"
   ]
  },
  {
   "cell_type": "markdown",
   "metadata": {},
   "source": [
    "### 単純プロット"
   ]
  },
  {
   "cell_type": "code",
   "execution_count": null,
   "metadata": {},
   "outputs": [],
   "source": [
    "show1data(D44.T,[1,2,3,4],毛=True)"
   ]
  },
  {
   "cell_type": "markdown",
   "metadata": {},
   "source": [
    "### ヒストグラム"
   ]
  },
  {
   "cell_type": "markdown",
   "metadata": {},
   "source": [
    "+ 第一引数は 実習のリストのリスト. DA4.T の形は (4,15) なので、実数のリストが4個ある. それぞれに、名前を1,2,3,4 とつけている"
   ]
  },
  {
   "cell_type": "code",
   "execution_count": null,
   "metadata": {
    "tags": []
   },
   "outputs": [],
   "source": [
    "show1data(D44.T,[1,2,3,4],ヒストグラム=True,ビンサイズ=0.2)"
   ]
  },
  {
   "cell_type": "markdown",
   "metadata": {},
   "source": [
    "### 密度表示"
   ]
  },
  {
   "cell_type": "code",
   "execution_count": null,
   "metadata": {},
   "outputs": [],
   "source": [
    "show1data(D44.T,[1,2,3,4],密度=True)"
   ]
  },
  {
   "cell_type": "markdown",
   "metadata": {},
   "source": [
    "### 以上を同時に表示"
   ]
  },
  {
   "cell_type": "code",
   "execution_count": null,
   "metadata": {},
   "outputs": [],
   "source": [
    "show1data(D44.T,[1,2,3,4],毛=True,ヒストグラム=True,密度=True,ビンサイズ=0.2)"
   ]
  },
  {
   "cell_type": "markdown",
   "metadata": {
    "tags": []
   },
   "source": [
    "## 2次元射影"
   ]
  },
  {
   "cell_type": "markdown",
   "metadata": {},
   "source": [
    "### 1,2成分の表示"
   ]
  },
  {
   "cell_type": "markdown",
   "metadata": {},
   "source": [
    "+ D4.T[-1] は 各データを持つ菖蒲のクラス. 三種類が 1,2,3 と番号つけられている"
   ]
  },
  {
   "cell_type": "markdown",
   "metadata": {},
   "source": [
    "+ クラスによって色を変えて表示する\n",
    "+ D44.T[[0,1]] は、D44.Tの行ベクトル D44.T[0]と D44.T[1]を取り出した 2x150 行列"
   ]
  },
  {
   "cell_type": "code",
   "execution_count": null,
   "metadata": {},
   "outputs": [],
   "source": [
    "plot2d(D44.T[[0,1]].T,color=D4color_name)\n",
    "                        "
   ]
  },
  {
   "cell_type": "markdown",
   "metadata": {
    "tags": []
   },
   "source": [
    "## 全2次元射影"
   ]
  },
  {
   "cell_type": "markdown",
   "metadata": {},
   "source": [
    "+ $4$次正方行列に２次元プロット図と並べる\n",
    "   + 対角成分$(i,i)$には$i$成分の分布\n",
    "   + $(i,j)$($i \\neq j$)成分は、$i,j$成分がつくる２次元データを表示\n"
   ]
  },
  {
   "cell_type": "markdown",
   "metadata": {
    "tags": []
   },
   "source": [
    "### plotly による"
   ]
  },
  {
   "cell_type": "code",
   "execution_count": null,
   "metadata": {},
   "outputs": [],
   "source": [
    "二次元散布図(D44,color=D4color)"
   ]
  },
  {
   "cell_type": "markdown",
   "metadata": {},
   "source": [
    "#### よく分離している対として（0,2)成分を取り出してプロットしてみる"
   ]
  },
  {
   "cell_type": "code",
   "execution_count": null,
   "metadata": {},
   "outputs": [],
   "source": [
    "plot2d(D44.T[[2,0]].T,color=D4color_name)"
   ]
  },
  {
   "cell_type": "markdown",
   "metadata": {},
   "source": [
    "### seaborn による"
   ]
  },
  {
   "cell_type": "code",
   "execution_count": null,
   "metadata": {},
   "outputs": [],
   "source": [
    "二次元散布図(D44,color=D4color_name,seaborn=True)"
   ]
  },
  {
   "cell_type": "markdown",
   "metadata": {
    "tags": []
   },
   "source": [
    "## 3dim射影"
   ]
  },
  {
   "cell_type": "markdown",
   "metadata": {},
   "source": [
    "+ 次は、どの３属性を描くかを、interactive に設定\n",
    "+ 大きな球は描画のためのダミーなので、white をクリックして消してください。"
   ]
  },
  {
   "cell_type": "code",
   "execution_count": null,
   "metadata": {},
   "outputs": [],
   "source": [
    "proj3d()"
   ]
  },
  {
   "cell_type": "markdown",
   "metadata": {
    "tags": []
   },
   "source": [
    "# 個々のデータの、図形による視覚化"
   ]
  },
  {
   "cell_type": "markdown",
   "metadata": {},
   "source": [
    "+ データを点で表現すると、データ同志の違いは位置の違いだけになり、直感的に、各データの「個性」は把握しにくい。\n",
    "+ そのため、個々のデータを図形で表現する方法も役に立つことが多い。方法は無数にあるが、簡単な例を２つ挙げる。"
   ]
  },
  {
   "cell_type": "markdown",
   "metadata": {
    "tags": []
   },
   "source": [
    "## 菖蒲データの関数グラフ表示"
   ]
  },
  {
   "cell_type": "code",
   "execution_count": null,
   "metadata": {
    "ExecuteTime": {
     "end_time": "2021-06-01T01:38:19.009106Z",
     "start_time": "2021-06-01T01:38:18.977545Z"
    }
   },
   "outputs": [],
   "source": [
    "関数表示(D44,color=D4.T[4])"
   ]
  },
  {
   "cell_type": "markdown",
   "metadata": {
    "tags": []
   },
   "source": [
    "## 菖蒲データ集合の長方形表示"
   ]
  },
  {
   "cell_type": "markdown",
   "metadata": {},
   "source": [
    "+ 赤長方形の縦は花弁幅、横は花弁長\n",
    "+ 緑長方形の縦は萼幅、横は萼長\n",
    "\n",
    "<img src=\"https://ac-net.org/tjst/lct/22/ayame_form.png\" width=500>"
   ]
  },
  {
   "cell_type": "markdown",
   "metadata": {
    "tags": []
   },
   "source": [
    "## クリモグラフ"
   ]
  },
  {
   "cell_type": "markdown",
   "metadata": {},
   "source": [
    "+ 東京の各月の平均湿度と平均気温のデータ"
   ]
  },
  {
   "cell_type": "code",
   "execution_count": null,
   "metadata": {},
   "outputs": [],
   "source": [
    "D5=np.array([[54,56,65,66,71,80,77,83,79,82,67,56],[5,6,12,17,20,23,28,27,23,17,12,7]]).T"
   ]
  },
  {
   "cell_type": "markdown",
   "metadata": {},
   "source": [
    "### 横軸を月にして気温と湿度をグラフ表現"
   ]
  },
  {
   "cell_type": "code",
   "execution_count": null,
   "metadata": {},
   "outputs": [],
   "source": [
    "normalgraph(D5)"
   ]
  },
  {
   "cell_type": "markdown",
   "metadata": {},
   "source": [
    "+ 注意. 湿度から50を引いて、気温に近づけておくと関係がわかりやすい"
   ]
  },
  {
   "cell_type": "code",
   "execution_count": null,
   "metadata": {},
   "outputs": [],
   "source": [
    "D5a=np.array([D5.T[0]-50,D5.T[1]]).T\n",
    "normalgraph(D5a)"
   ]
  },
  {
   "cell_type": "markdown",
   "metadata": {},
   "source": [
    "### (湿度,気温)を点にして平面上の折れ線で表現"
   ]
  },
  {
   "cell_type": "code",
   "execution_count": null,
   "metadata": {},
   "outputs": [],
   "source": [
    "climograph(D5)"
   ]
  },
  {
   "cell_type": "markdown",
   "metadata": {},
   "source": [
    "# 演習"
   ]
  },
  {
   "cell_type": "markdown",
   "metadata": {},
   "source": [
    "22ds202e.ipynb へ"
   ]
  }
 ],
 "metadata": {
  "kernelspec": {
   "display_name": "Python 3 (ipykernel)",
   "language": "python",
   "name": "python3"
  },
  "language_info": {
   "codemirror_mode": {
    "name": "ipython",
    "version": 3
   },
   "file_extension": ".py",
   "mimetype": "text/x-python",
   "name": "python",
   "nbconvert_exporter": "python",
   "pygments_lexer": "ipython3",
   "version": "3.9.10"
  },
  "toc": {
   "base_numbering": 1,
   "nav_menu": {},
   "number_sections": true,
   "sideBar": true,
   "skip_h1_title": false,
   "title_cell": "Table of Contents",
   "title_sidebar": "目次",
   "toc_cell": false,
   "toc_position": {
    "height": "153.6px",
    "left": "39px",
    "top": "139.6px",
    "width": "258px"
   },
   "toc_section_display": true,
   "toc_window_display": true
  },
  "toc-autonumbering": true,
  "widgets": {
   "application/vnd.jupyter.widget-state+json": {
    "state": {
     "0094df890f7344ea90140096e77bb6b6": {
      "model_module": "@jupyter-widgets/controls",
      "model_module_version": "1.5.0",
      "model_name": "DescriptionStyleModel",
      "state": {
       "description_width": ""
      }
     },
     "07d12448f4244ac3825b8014b0b61f30": {
      "model_module": "@jupyter-widgets/controls",
      "model_module_version": "1.5.0",
      "model_name": "RadioButtonsModel",
      "state": {
       "_options_labels": [
        "0",
        "1",
        "2",
        "3"
       ],
       "description": "第1変数",
       "index": 0,
       "layout": "IPY_MODEL_b86141780c484c65b6b40053bdb67bb2",
       "style": "IPY_MODEL_a1121d6ffd6745e9b9541fcd8d718f3a"
      }
     },
     "082dc44025484445bd45a20bd338300a": {
      "model_module": "@jupyter-widgets/base",
      "model_module_version": "1.2.0",
      "model_name": "LayoutModel",
      "state": {}
     },
     "0da7e8fdba0d4b14bed9228946dbe80e": {
      "model_module": "@jupyter-widgets/controls",
      "model_module_version": "1.5.0",
      "model_name": "RadioButtonsModel",
      "state": {
       "_options_labels": [
        "0",
        "1",
        "2",
        "3"
       ],
       "description": "第1変数",
       "index": 0,
       "layout": "IPY_MODEL_fb45d349d66b4d22b80e59ec7f4dffaa",
       "style": "IPY_MODEL_166abba7c2974162bdfa507ece90379a"
      }
     },
     "166abba7c2974162bdfa507ece90379a": {
      "model_module": "@jupyter-widgets/controls",
      "model_module_version": "1.5.0",
      "model_name": "DescriptionStyleModel",
      "state": {
       "description_width": ""
      }
     },
     "1c05c4a2b1c04a41a9f080f63db985ba": {
      "model_module": "@jupyter-widgets/controls",
      "model_module_version": "1.5.0",
      "model_name": "DescriptionStyleModel",
      "state": {
       "description_width": ""
      }
     },
     "1f11edb3e526426f8c2ad79d44884793": {
      "model_module": "@jupyter-widgets/controls",
      "model_module_version": "1.5.0",
      "model_name": "DescriptionStyleModel",
      "state": {
       "description_width": ""
      }
     },
     "29bd7f8589c84db0971ab12e7b23d8df": {
      "model_module": "@jupyter-widgets/output",
      "model_module_version": "1.0.0",
      "model_name": "OutputModel",
      "state": {
       "layout": "IPY_MODEL_ff956c2622cd4cadaf4a010c38fae8cf",
       "outputs": [
        {
         "data": {
          "application/vnd.plotly.v1+json": {
           "config": {
            "plotlyServerURL": "https://plot.ly"
           },
           "data": [
            {
             "hovertemplate": "color=blue<br>0=%{x}<br>2=%{y}<br>3=%{z}<br>4=%{marker.size}<extra></extra>",
             "legendgroup": "blue",
             "marker": {
              "color": "#636efa",
              "opacity": 0.6,
              "size": [
               0.1,
               0.1,
               0.1,
               0.1,
               0.1,
               0.1,
               0.1,
               0.1,
               0.1,
               0.1,
               0.1,
               0.1,
               0.1,
               0.1,
               0.1,
               0.1,
               0.1,
               0.1,
               0.1,
               0.1,
               0.1,
               0.1,
               0.1,
               0.1,
               0.1,
               0.1,
               0.1,
               0.1,
               0.1,
               0.1,
               0.1,
               0.1,
               0.1,
               0.1,
               0.1,
               0.1,
               0.1,
               0.1,
               0.1,
               0.1,
               0.1,
               0.1,
               0.1,
               0.1,
               0.1,
               0.1,
               0.1,
               0.1,
               0.1,
               0.1
              ],
              "sizemode": "area",
              "sizeref": 0.0015,
              "symbol": "circle"
             },
             "mode": "markers",
             "name": "blue",
             "scene": "scene",
             "showlegend": true,
             "type": "scatter3d",
             "x": [
              5.099999904632568,
              4.900000095367432,
              4.699999809265137,
              4.599999904632568,
              5,
              5.400000095367432,
              4.599999904632568,
              5,
              4.400000095367432,
              4.900000095367432,
              5.400000095367432,
              4.800000190734863,
              4.800000190734863,
              4.300000190734863,
              5.800000190734863,
              5.699999809265137,
              5.400000095367432,
              5.099999904632568,
              5.699999809265137,
              5.099999904632568,
              5.400000095367432,
              5.099999904632568,
              4.599999904632568,
              5.099999904632568,
              4.800000190734863,
              5,
              5,
              5.199999809265137,
              5.199999809265137,
              4.699999809265137,
              4.800000190734863,
              5.400000095367432,
              5.199999809265137,
              5.5,
              4.900000095367432,
              5,
              5.5,
              4.900000095367432,
              4.400000095367432,
              5.099999904632568,
              5,
              4.5,
              4.400000095367432,
              5,
              5.099999904632568,
              4.800000190734863,
              5.099999904632568,
              4.599999904632568,
              5.300000190734863,
              5
             ],
             "y": [
              1.399999976158142,
              1.399999976158142,
              1.2999999523162842,
              1.5,
              1.399999976158142,
              1.7000000476837158,
              1.399999976158142,
              1.5,
              1.399999976158142,
              1.5,
              1.5,
              1.600000023841858,
              1.399999976158142,
              1.100000023841858,
              1.2000000476837158,
              1.5,
              1.2999999523162842,
              1.399999976158142,
              1.7000000476837158,
              1.5,
              1.7000000476837158,
              1.5,
              1,
              1.7000000476837158,
              1.899999976158142,
              1.600000023841858,
              1.600000023841858,
              1.5,
              1.399999976158142,
              1.600000023841858,
              1.600000023841858,
              1.5,
              1.5,
              1.399999976158142,
              1.5,
              1.2000000476837158,
              1.2999999523162842,
              1.5,
              1.2999999523162842,
              1.5,
              1.2999999523162842,
              1.2999999523162842,
              1.2999999523162842,
              1.600000023841858,
              1.899999976158142,
              1.399999976158142,
              1.600000023841858,
              1.399999976158142,
              1.5,
              1.399999976158142
             ],
             "z": [
              0.20000000298023224,
              0.20000000298023224,
              0.20000000298023224,
              0.20000000298023224,
              0.20000000298023224,
              0.4000000059604645,
              0.30000001192092896,
              0.20000000298023224,
              0.20000000298023224,
              0.10000000149011612,
              0.20000000298023224,
              0.20000000298023224,
              0.10000000149011612,
              0.10000000149011612,
              0.20000000298023224,
              0.4000000059604645,
              0.4000000059604645,
              0.30000001192092896,
              0.30000001192092896,
              0.30000001192092896,
              0.20000000298023224,
              0.4000000059604645,
              0.20000000298023224,
              0.5,
              0.20000000298023224,
              0.20000000298023224,
              0.4000000059604645,
              0.20000000298023224,
              0.20000000298023224,
              0.20000000298023224,
              0.20000000298023224,
              0.4000000059604645,
              0.10000000149011612,
              0.20000000298023224,
              0.10000000149011612,
              0.20000000298023224,
              0.20000000298023224,
              0.10000000149011612,
              0.20000000298023224,
              0.20000000298023224,
              0.30000001192092896,
              0.30000001192092896,
              0.20000000298023224,
              0.6000000238418579,
              0.4000000059604645,
              0.30000001192092896,
              0.20000000298023224,
              0.20000000298023224,
              0.20000000298023224,
              0.20000000298023224
             ]
            },
            {
             "hovertemplate": "color=red<br>0=%{x}<br>2=%{y}<br>3=%{z}<br>4=%{marker.size}<extra></extra>",
             "legendgroup": "red",
             "marker": {
              "color": "#EF553B",
              "opacity": 0.6,
              "size": [
               0.1,
               0.1,
               0.1,
               0.1,
               0.1,
               0.1,
               0.1,
               0.1,
               0.1,
               0.1,
               0.1,
               0.1,
               0.1,
               0.1,
               0.1,
               0.1,
               0.1,
               0.1,
               0.1,
               0.1,
               0.1,
               0.1,
               0.1,
               0.1,
               0.1,
               0.1,
               0.1,
               0.1,
               0.1,
               0.1,
               0.1,
               0.1,
               0.1,
               0.1,
               0.1,
               0.1,
               0.1,
               0.1,
               0.1,
               0.1,
               0.1,
               0.1,
               0.1,
               0.1,
               0.1,
               0.1,
               0.1,
               0.1,
               0.1,
               0.1
              ],
              "sizemode": "area",
              "sizeref": 0.0015,
              "symbol": "circle"
             },
             "mode": "markers",
             "name": "red",
             "scene": "scene",
             "showlegend": true,
             "type": "scatter3d",
             "x": [
              7,
              6.400000095367432,
              6.900000095367432,
              5.5,
              6.5,
              5.699999809265137,
              6.300000190734863,
              4.900000095367432,
              6.599999904632568,
              5.199999809265137,
              5,
              5.900000095367432,
              6,
              6.099999904632568,
              5.599999904632568,
              6.699999809265137,
              5.599999904632568,
              5.800000190734863,
              6.199999809265137,
              5.599999904632568,
              5.900000095367432,
              6.099999904632568,
              6.300000190734863,
              6.099999904632568,
              6.400000095367432,
              6.599999904632568,
              6.800000190734863,
              6.699999809265137,
              6,
              5.699999809265137,
              5.5,
              5.5,
              5.800000190734863,
              6,
              5.400000095367432,
              6,
              6.699999809265137,
              6.300000190734863,
              5.599999904632568,
              5.5,
              5.5,
              6.099999904632568,
              5.800000190734863,
              5,
              5.599999904632568,
              5.699999809265137,
              5.699999809265137,
              6.199999809265137,
              5.099999904632568,
              5.699999809265137
             ],
             "y": [
              4.699999809265137,
              4.5,
              4.900000095367432,
              4,
              4.599999904632568,
              4.5,
              4.699999809265137,
              3.299999952316284,
              4.599999904632568,
              3.9000000953674316,
              3.5,
              4.199999809265137,
              4,
              4.699999809265137,
              3.5999999046325684,
              4.400000095367432,
              4.5,
              4.099999904632568,
              4.5,
              3.9000000953674316,
              4.800000190734863,
              4,
              4.900000095367432,
              4.699999809265137,
              4.300000190734863,
              4.400000095367432,
              4.800000190734863,
              5,
              4.5,
              3.5,
              3.799999952316284,
              3.700000047683716,
              3.9000000953674316,
              5.099999904632568,
              4.5,
              4.5,
              4.699999809265137,
              4.400000095367432,
              4.099999904632568,
              4,
              4.400000095367432,
              4.599999904632568,
              4,
              3.299999952316284,
              4.199999809265137,
              4.199999809265137,
              4.199999809265137,
              4.300000190734863,
              3,
              4.099999904632568
             ],
             "z": [
              1.399999976158142,
              1.5,
              1.5,
              1.2999999523162842,
              1.5,
              1.2999999523162842,
              1.600000023841858,
              1,
              1.2999999523162842,
              1.399999976158142,
              1,
              1.5,
              1,
              1.399999976158142,
              1.2999999523162842,
              1.399999976158142,
              1.5,
              1,
              1.5,
              1.100000023841858,
              1.7999999523162842,
              1.2999999523162842,
              1.5,
              1.2000000476837158,
              1.2999999523162842,
              1.399999976158142,
              1.399999976158142,
              1.7000000476837158,
              1.5,
              1,
              1.100000023841858,
              1,
              1.2000000476837158,
              1.600000023841858,
              1.5,
              1.600000023841858,
              1.5,
              1.2999999523162842,
              1.2999999523162842,
              1.2999999523162842,
              1.2000000476837158,
              1.399999976158142,
              1.2000000476837158,
              1,
              1.2999999523162842,
              1.2000000476837158,
              1.2999999523162842,
              1.2999999523162842,
              1.100000023841858,
              1.2999999523162842
             ]
            },
            {
             "hovertemplate": "color=green<br>0=%{x}<br>2=%{y}<br>3=%{z}<br>4=%{marker.size}<extra></extra>",
             "legendgroup": "green",
             "marker": {
              "color": "#00cc96",
              "opacity": 0.6,
              "size": [
               0.1,
               0.1,
               0.1,
               0.1,
               0.1,
               0.1,
               0.1,
               0.1,
               0.1,
               0.1,
               0.1,
               0.1,
               0.1,
               0.1,
               0.1,
               0.1,
               0.1,
               0.1,
               0.1,
               0.1,
               0.1,
               0.1,
               0.1,
               0.1,
               0.1,
               0.1,
               0.1,
               0.1,
               0.1,
               0.1,
               0.1,
               0.1,
               0.1,
               0.1,
               0.1,
               0.1,
               0.1,
               0.1,
               0.1,
               0.1,
               0.1,
               0.1,
               0.1,
               0.1,
               0.1,
               0.1,
               0.1,
               0.1,
               0.1,
               0.1
              ],
              "sizemode": "area",
              "sizeref": 0.0015,
              "symbol": "circle"
             },
             "mode": "markers",
             "name": "green",
             "scene": "scene",
             "showlegend": true,
             "type": "scatter3d",
             "visible": "legendonly",
             "x": [
              6.300000190734863,
              5.800000190734863,
              7.099999904632568,
              6.300000190734863,
              6.5,
              7.599999904632568,
              4.900000095367432,
              7.300000190734863,
              6.699999809265137,
              7.199999809265137,
              6.5,
              6.400000095367432,
              6.800000190734863,
              5.699999809265137,
              5.800000190734863,
              6.400000095367432,
              6.5,
              7.699999809265137,
              7.699999809265137,
              6,
              6.900000095367432,
              5.599999904632568,
              7.699999809265137,
              6.300000190734863,
              6.699999809265137,
              7.199999809265137,
              6.199999809265137,
              6.099999904632568,
              6.400000095367432,
              7.199999809265137,
              7.400000095367432,
              7.900000095367432,
              6.400000095367432,
              6.300000190734863,
              6.099999904632568,
              7.699999809265137,
              6.300000190734863,
              6.400000095367432,
              6,
              6.900000095367432,
              6.699999809265137,
              6.900000095367432,
              5.800000190734863,
              6.800000190734863,
              6.699999809265137,
              6.699999809265137,
              6.300000190734863,
              6.5,
              6.199999809265137,
              5.900000095367432
             ],
             "y": [
              6,
              5.099999904632568,
              5.900000095367432,
              5.599999904632568,
              5.800000190734863,
              6.599999904632568,
              4.5,
              6.300000190734863,
              5.800000190734863,
              6.099999904632568,
              5.099999904632568,
              5.300000190734863,
              5.5,
              5,
              5.099999904632568,
              5.300000190734863,
              5.5,
              6.699999809265137,
              6.900000095367432,
              5,
              5.699999809265137,
              4.900000095367432,
              6.699999809265137,
              4.900000095367432,
              5.699999809265137,
              6,
              4.800000190734863,
              4.900000095367432,
              5.599999904632568,
              5.800000190734863,
              6.099999904632568,
              6.400000095367432,
              5.599999904632568,
              5.099999904632568,
              5.599999904632568,
              6.099999904632568,
              5.599999904632568,
              5.5,
              4.800000190734863,
              5.400000095367432,
              5.599999904632568,
              5.099999904632568,
              5.099999904632568,
              5.900000095367432,
              5.699999809265137,
              5.199999809265137,
              5,
              5.199999809265137,
              5.400000095367432,
              5.099999904632568
             ],
             "z": [
              2.5,
              1.899999976158142,
              2.0999999046325684,
              1.7999999523162842,
              2.200000047683716,
              2.0999999046325684,
              1.7000000476837158,
              1.7999999523162842,
              1.7999999523162842,
              2.5,
              2,
              1.899999976158142,
              2.0999999046325684,
              2,
              2.4000000953674316,
              2.299999952316284,
              1.7999999523162842,
              2.200000047683716,
              2.299999952316284,
              1.5,
              2.299999952316284,
              2,
              2,
              1.7999999523162842,
              2.0999999046325684,
              1.7999999523162842,
              1.7999999523162842,
              1.7999999523162842,
              2.0999999046325684,
              1.600000023841858,
              1.899999976158142,
              2,
              2.200000047683716,
              1.5,
              1.399999976158142,
              2.299999952316284,
              2.4000000953674316,
              1.7999999523162842,
              1.7999999523162842,
              2.0999999046325684,
              2.4000000953674316,
              2.299999952316284,
              1.899999976158142,
              2.299999952316284,
              2.5,
              2.299999952316284,
              1.899999976158142,
              2,
              2.299999952316284,
              1.7999999523162842
             ]
            },
            {
             "hovertemplate": "color=white<br>0=%{x}<br>2=%{y}<br>3=%{z}<br>4=%{marker.size}<extra></extra>",
             "legendgroup": "white",
             "marker": {
              "color": "#ab63fa",
              "opacity": 0.6,
              "size": [
               0.6
              ],
              "sizemode": "area",
              "sizeref": 0.0015,
              "symbol": "circle"
             },
             "mode": "markers",
             "name": "white",
             "scene": "scene",
             "showlegend": true,
             "type": "scatter3d",
             "visible": "legendonly",
             "x": [
              0
             ],
             "y": [
              0
             ],
             "z": [
              0
             ]
            }
           ],
           "layout": {
            "height": 600,
            "legend": {
             "itemsizing": "constant",
             "title": {
              "text": "color"
             },
             "tracegroupgap": 0
            },
            "margin": {
             "t": 60
            },
            "scene": {
             "aspectmode": "auto",
             "aspectratio": {
              "x": 1.0150752463183441,
              "y": 1.5414106322595698,
              "z": 0.6391214780477011
             },
             "camera": {
              "center": {
               "x": 0,
               "y": 0,
               "z": 0
              },
              "eye": {
               "x": 0.5678953989035351,
               "y": 0.7087950079387146,
               "z": 0.8845494853740627
              },
              "projection": {
               "type": "perspective"
              },
              "up": {
               "x": 0,
               "y": 0,
               "z": 1
              }
             },
             "domain": {
              "x": [
               0,
               1
              ],
              "y": [
               0,
               1
              ]
             },
             "xaxis": {
              "title": {
               "text": "0"
              },
              "type": "linear"
             },
             "yaxis": {
              "title": {
               "text": "2"
              },
              "type": "linear"
             },
             "zaxis": {
              "title": {
               "text": "3"
              },
              "type": "linear"
             }
            },
            "template": {
             "data": {
              "bar": [
               {
                "error_x": {
                 "color": "#2a3f5f"
                },
                "error_y": {
                 "color": "#2a3f5f"
                },
                "marker": {
                 "line": {
                  "color": "#E5ECF6",
                  "width": 0.5
                 },
                 "pattern": {
                  "fillmode": "overlay",
                  "size": 10,
                  "solidity": 0.2
                 }
                },
                "type": "bar"
               }
              ],
              "barpolar": [
               {
                "marker": {
                 "line": {
                  "color": "#E5ECF6",
                  "width": 0.5
                 },
                 "pattern": {
                  "fillmode": "overlay",
                  "size": 10,
                  "solidity": 0.2
                 }
                },
                "type": "barpolar"
               }
              ],
              "carpet": [
               {
                "aaxis": {
                 "endlinecolor": "#2a3f5f",
                 "gridcolor": "white",
                 "linecolor": "white",
                 "minorgridcolor": "white",
                 "startlinecolor": "#2a3f5f"
                },
                "baxis": {
                 "endlinecolor": "#2a3f5f",
                 "gridcolor": "white",
                 "linecolor": "white",
                 "minorgridcolor": "white",
                 "startlinecolor": "#2a3f5f"
                },
                "type": "carpet"
               }
              ],
              "choropleth": [
               {
                "colorbar": {
                 "outlinewidth": 0,
                 "ticks": ""
                },
                "type": "choropleth"
               }
              ],
              "contour": [
               {
                "colorbar": {
                 "outlinewidth": 0,
                 "ticks": ""
                },
                "colorscale": [
                 [
                  0,
                  "#0d0887"
                 ],
                 [
                  0.1111111111111111,
                  "#46039f"
                 ],
                 [
                  0.2222222222222222,
                  "#7201a8"
                 ],
                 [
                  0.3333333333333333,
                  "#9c179e"
                 ],
                 [
                  0.4444444444444444,
                  "#bd3786"
                 ],
                 [
                  0.5555555555555556,
                  "#d8576b"
                 ],
                 [
                  0.6666666666666666,
                  "#ed7953"
                 ],
                 [
                  0.7777777777777778,
                  "#fb9f3a"
                 ],
                 [
                  0.8888888888888888,
                  "#fdca26"
                 ],
                 [
                  1,
                  "#f0f921"
                 ]
                ],
                "type": "contour"
               }
              ],
              "contourcarpet": [
               {
                "colorbar": {
                 "outlinewidth": 0,
                 "ticks": ""
                },
                "type": "contourcarpet"
               }
              ],
              "heatmap": [
               {
                "colorbar": {
                 "outlinewidth": 0,
                 "ticks": ""
                },
                "colorscale": [
                 [
                  0,
                  "#0d0887"
                 ],
                 [
                  0.1111111111111111,
                  "#46039f"
                 ],
                 [
                  0.2222222222222222,
                  "#7201a8"
                 ],
                 [
                  0.3333333333333333,
                  "#9c179e"
                 ],
                 [
                  0.4444444444444444,
                  "#bd3786"
                 ],
                 [
                  0.5555555555555556,
                  "#d8576b"
                 ],
                 [
                  0.6666666666666666,
                  "#ed7953"
                 ],
                 [
                  0.7777777777777778,
                  "#fb9f3a"
                 ],
                 [
                  0.8888888888888888,
                  "#fdca26"
                 ],
                 [
                  1,
                  "#f0f921"
                 ]
                ],
                "type": "heatmap"
               }
              ],
              "heatmapgl": [
               {
                "colorbar": {
                 "outlinewidth": 0,
                 "ticks": ""
                },
                "colorscale": [
                 [
                  0,
                  "#0d0887"
                 ],
                 [
                  0.1111111111111111,
                  "#46039f"
                 ],
                 [
                  0.2222222222222222,
                  "#7201a8"
                 ],
                 [
                  0.3333333333333333,
                  "#9c179e"
                 ],
                 [
                  0.4444444444444444,
                  "#bd3786"
                 ],
                 [
                  0.5555555555555556,
                  "#d8576b"
                 ],
                 [
                  0.6666666666666666,
                  "#ed7953"
                 ],
                 [
                  0.7777777777777778,
                  "#fb9f3a"
                 ],
                 [
                  0.8888888888888888,
                  "#fdca26"
                 ],
                 [
                  1,
                  "#f0f921"
                 ]
                ],
                "type": "heatmapgl"
               }
              ],
              "histogram": [
               {
                "marker": {
                 "pattern": {
                  "fillmode": "overlay",
                  "size": 10,
                  "solidity": 0.2
                 }
                },
                "type": "histogram"
               }
              ],
              "histogram2d": [
               {
                "colorbar": {
                 "outlinewidth": 0,
                 "ticks": ""
                },
                "colorscale": [
                 [
                  0,
                  "#0d0887"
                 ],
                 [
                  0.1111111111111111,
                  "#46039f"
                 ],
                 [
                  0.2222222222222222,
                  "#7201a8"
                 ],
                 [
                  0.3333333333333333,
                  "#9c179e"
                 ],
                 [
                  0.4444444444444444,
                  "#bd3786"
                 ],
                 [
                  0.5555555555555556,
                  "#d8576b"
                 ],
                 [
                  0.6666666666666666,
                  "#ed7953"
                 ],
                 [
                  0.7777777777777778,
                  "#fb9f3a"
                 ],
                 [
                  0.8888888888888888,
                  "#fdca26"
                 ],
                 [
                  1,
                  "#f0f921"
                 ]
                ],
                "type": "histogram2d"
               }
              ],
              "histogram2dcontour": [
               {
                "colorbar": {
                 "outlinewidth": 0,
                 "ticks": ""
                },
                "colorscale": [
                 [
                  0,
                  "#0d0887"
                 ],
                 [
                  0.1111111111111111,
                  "#46039f"
                 ],
                 [
                  0.2222222222222222,
                  "#7201a8"
                 ],
                 [
                  0.3333333333333333,
                  "#9c179e"
                 ],
                 [
                  0.4444444444444444,
                  "#bd3786"
                 ],
                 [
                  0.5555555555555556,
                  "#d8576b"
                 ],
                 [
                  0.6666666666666666,
                  "#ed7953"
                 ],
                 [
                  0.7777777777777778,
                  "#fb9f3a"
                 ],
                 [
                  0.8888888888888888,
                  "#fdca26"
                 ],
                 [
                  1,
                  "#f0f921"
                 ]
                ],
                "type": "histogram2dcontour"
               }
              ],
              "mesh3d": [
               {
                "colorbar": {
                 "outlinewidth": 0,
                 "ticks": ""
                },
                "type": "mesh3d"
               }
              ],
              "parcoords": [
               {
                "line": {
                 "colorbar": {
                  "outlinewidth": 0,
                  "ticks": ""
                 }
                },
                "type": "parcoords"
               }
              ],
              "pie": [
               {
                "automargin": true,
                "type": "pie"
               }
              ],
              "scatter": [
               {
                "marker": {
                 "colorbar": {
                  "outlinewidth": 0,
                  "ticks": ""
                 }
                },
                "type": "scatter"
               }
              ],
              "scatter3d": [
               {
                "line": {
                 "colorbar": {
                  "outlinewidth": 0,
                  "ticks": ""
                 }
                },
                "marker": {
                 "colorbar": {
                  "outlinewidth": 0,
                  "ticks": ""
                 }
                },
                "type": "scatter3d"
               }
              ],
              "scattercarpet": [
               {
                "marker": {
                 "colorbar": {
                  "outlinewidth": 0,
                  "ticks": ""
                 }
                },
                "type": "scattercarpet"
               }
              ],
              "scattergeo": [
               {
                "marker": {
                 "colorbar": {
                  "outlinewidth": 0,
                  "ticks": ""
                 }
                },
                "type": "scattergeo"
               }
              ],
              "scattergl": [
               {
                "marker": {
                 "colorbar": {
                  "outlinewidth": 0,
                  "ticks": ""
                 }
                },
                "type": "scattergl"
               }
              ],
              "scattermapbox": [
               {
                "marker": {
                 "colorbar": {
                  "outlinewidth": 0,
                  "ticks": ""
                 }
                },
                "type": "scattermapbox"
               }
              ],
              "scatterpolar": [
               {
                "marker": {
                 "colorbar": {
                  "outlinewidth": 0,
                  "ticks": ""
                 }
                },
                "type": "scatterpolar"
               }
              ],
              "scatterpolargl": [
               {
                "marker": {
                 "colorbar": {
                  "outlinewidth": 0,
                  "ticks": ""
                 }
                },
                "type": "scatterpolargl"
               }
              ],
              "scatterternary": [
               {
                "marker": {
                 "colorbar": {
                  "outlinewidth": 0,
                  "ticks": ""
                 }
                },
                "type": "scatterternary"
               }
              ],
              "surface": [
               {
                "colorbar": {
                 "outlinewidth": 0,
                 "ticks": ""
                },
                "colorscale": [
                 [
                  0,
                  "#0d0887"
                 ],
                 [
                  0.1111111111111111,
                  "#46039f"
                 ],
                 [
                  0.2222222222222222,
                  "#7201a8"
                 ],
                 [
                  0.3333333333333333,
                  "#9c179e"
                 ],
                 [
                  0.4444444444444444,
                  "#bd3786"
                 ],
                 [
                  0.5555555555555556,
                  "#d8576b"
                 ],
                 [
                  0.6666666666666666,
                  "#ed7953"
                 ],
                 [
                  0.7777777777777778,
                  "#fb9f3a"
                 ],
                 [
                  0.8888888888888888,
                  "#fdca26"
                 ],
                 [
                  1,
                  "#f0f921"
                 ]
                ],
                "type": "surface"
               }
              ],
              "table": [
               {
                "cells": {
                 "fill": {
                  "color": "#EBF0F8"
                 },
                 "line": {
                  "color": "white"
                 }
                },
                "header": {
                 "fill": {
                  "color": "#C8D4E3"
                 },
                 "line": {
                  "color": "white"
                 }
                },
                "type": "table"
               }
              ]
             },
             "layout": {
              "annotationdefaults": {
               "arrowcolor": "#2a3f5f",
               "arrowhead": 0,
               "arrowwidth": 1
              },
              "autotypenumbers": "strict",
              "coloraxis": {
               "colorbar": {
                "outlinewidth": 0,
                "ticks": ""
               }
              },
              "colorscale": {
               "diverging": [
                [
                 0,
                 "#8e0152"
                ],
                [
                 0.1,
                 "#c51b7d"
                ],
                [
                 0.2,
                 "#de77ae"
                ],
                [
                 0.3,
                 "#f1b6da"
                ],
                [
                 0.4,
                 "#fde0ef"
                ],
                [
                 0.5,
                 "#f7f7f7"
                ],
                [
                 0.6,
                 "#e6f5d0"
                ],
                [
                 0.7,
                 "#b8e186"
                ],
                [
                 0.8,
                 "#7fbc41"
                ],
                [
                 0.9,
                 "#4d9221"
                ],
                [
                 1,
                 "#276419"
                ]
               ],
               "sequential": [
                [
                 0,
                 "#0d0887"
                ],
                [
                 0.1111111111111111,
                 "#46039f"
                ],
                [
                 0.2222222222222222,
                 "#7201a8"
                ],
                [
                 0.3333333333333333,
                 "#9c179e"
                ],
                [
                 0.4444444444444444,
                 "#bd3786"
                ],
                [
                 0.5555555555555556,
                 "#d8576b"
                ],
                [
                 0.6666666666666666,
                 "#ed7953"
                ],
                [
                 0.7777777777777778,
                 "#fb9f3a"
                ],
                [
                 0.8888888888888888,
                 "#fdca26"
                ],
                [
                 1,
                 "#f0f921"
                ]
               ],
               "sequentialminus": [
                [
                 0,
                 "#0d0887"
                ],
                [
                 0.1111111111111111,
                 "#46039f"
                ],
                [
                 0.2222222222222222,
                 "#7201a8"
                ],
                [
                 0.3333333333333333,
                 "#9c179e"
                ],
                [
                 0.4444444444444444,
                 "#bd3786"
                ],
                [
                 0.5555555555555556,
                 "#d8576b"
                ],
                [
                 0.6666666666666666,
                 "#ed7953"
                ],
                [
                 0.7777777777777778,
                 "#fb9f3a"
                ],
                [
                 0.8888888888888888,
                 "#fdca26"
                ],
                [
                 1,
                 "#f0f921"
                ]
               ]
              },
              "colorway": [
               "#636efa",
               "#EF553B",
               "#00cc96",
               "#ab63fa",
               "#FFA15A",
               "#19d3f3",
               "#FF6692",
               "#B6E880",
               "#FF97FF",
               "#FECB52"
              ],
              "font": {
               "color": "#2a3f5f"
              },
              "geo": {
               "bgcolor": "white",
               "lakecolor": "white",
               "landcolor": "#E5ECF6",
               "showlakes": true,
               "showland": true,
               "subunitcolor": "white"
              },
              "hoverlabel": {
               "align": "left"
              },
              "hovermode": "closest",
              "mapbox": {
               "style": "light"
              },
              "paper_bgcolor": "white",
              "plot_bgcolor": "#E5ECF6",
              "polar": {
               "angularaxis": {
                "gridcolor": "white",
                "linecolor": "white",
                "ticks": ""
               },
               "bgcolor": "#E5ECF6",
               "radialaxis": {
                "gridcolor": "white",
                "linecolor": "white",
                "ticks": ""
               }
              },
              "scene": {
               "xaxis": {
                "backgroundcolor": "#E5ECF6",
                "gridcolor": "white",
                "gridwidth": 2,
                "linecolor": "white",
                "showbackground": true,
                "ticks": "",
                "zerolinecolor": "white"
               },
               "yaxis": {
                "backgroundcolor": "#E5ECF6",
                "gridcolor": "white",
                "gridwidth": 2,
                "linecolor": "white",
                "showbackground": true,
                "ticks": "",
                "zerolinecolor": "white"
               },
               "zaxis": {
                "backgroundcolor": "#E5ECF6",
                "gridcolor": "white",
                "gridwidth": 2,
                "linecolor": "white",
                "showbackground": true,
                "ticks": "",
                "zerolinecolor": "white"
               }
              },
              "shapedefaults": {
               "line": {
                "color": "#2a3f5f"
               }
              },
              "ternary": {
               "aaxis": {
                "gridcolor": "white",
                "linecolor": "white",
                "ticks": ""
               },
               "baxis": {
                "gridcolor": "white",
                "linecolor": "white",
                "ticks": ""
               },
               "bgcolor": "#E5ECF6",
               "caxis": {
                "gridcolor": "white",
                "linecolor": "white",
                "ticks": ""
               }
              },
              "title": {
               "x": 0.05
              },
              "xaxis": {
               "automargin": true,
               "gridcolor": "white",
               "linecolor": "white",
               "ticks": "",
               "title": {
                "standoff": 15
               },
               "zerolinecolor": "white",
               "zerolinewidth": 2
              },
              "yaxis": {
               "automargin": true,
               "gridcolor": "white",
               "linecolor": "white",
               "ticks": "",
               "title": {
                "standoff": 15
               },
               "zerolinecolor": "white",
               "zerolinewidth": 2
              }
             }
            },
            "width": 600
           }
          },
          "text/html": "<div>                            <div id=\"45c1a5c3-7462-45d8-bbce-24caafe3e687\" class=\"plotly-graph-div\" style=\"height:600px; width:600px;\"></div>            <script type=\"text/javascript\">                require([\"plotly\"], function(Plotly) {                    window.PLOTLYENV=window.PLOTLYENV || {};                                    if (document.getElementById(\"45c1a5c3-7462-45d8-bbce-24caafe3e687\")) {                    Plotly.newPlot(                        \"45c1a5c3-7462-45d8-bbce-24caafe3e687\",                        [{\"hovertemplate\":\"color=blue<br>0=%{x}<br>2=%{y}<br>3=%{z}<br>4=%{marker.size}<extra></extra>\",\"legendgroup\":\"blue\",\"marker\":{\"color\":\"#636efa\",\"opacity\":0.6,\"size\":[0.1,0.1,0.1,0.1,0.1,0.1,0.1,0.1,0.1,0.1,0.1,0.1,0.1,0.1,0.1,0.1,0.1,0.1,0.1,0.1,0.1,0.1,0.1,0.1,0.1,0.1,0.1,0.1,0.1,0.1,0.1,0.1,0.1,0.1,0.1,0.1,0.1,0.1,0.1,0.1,0.1,0.1,0.1,0.1,0.1,0.1,0.1,0.1,0.1,0.1],\"sizemode\":\"area\",\"sizeref\":0.0015,\"symbol\":\"circle\"},\"mode\":\"markers\",\"name\":\"blue\",\"scene\":\"scene\",\"showlegend\":true,\"x\":[5.099999904632568,4.900000095367432,4.699999809265137,4.599999904632568,5.0,5.400000095367432,4.599999904632568,5.0,4.400000095367432,4.900000095367432,5.400000095367432,4.800000190734863,4.800000190734863,4.300000190734863,5.800000190734863,5.699999809265137,5.400000095367432,5.099999904632568,5.699999809265137,5.099999904632568,5.400000095367432,5.099999904632568,4.599999904632568,5.099999904632568,4.800000190734863,5.0,5.0,5.199999809265137,5.199999809265137,4.699999809265137,4.800000190734863,5.400000095367432,5.199999809265137,5.5,4.900000095367432,5.0,5.5,4.900000095367432,4.400000095367432,5.099999904632568,5.0,4.5,4.400000095367432,5.0,5.099999904632568,4.800000190734863,5.099999904632568,4.599999904632568,5.300000190734863,5.0],\"y\":[1.399999976158142,1.399999976158142,1.2999999523162842,1.5,1.399999976158142,1.7000000476837158,1.399999976158142,1.5,1.399999976158142,1.5,1.5,1.600000023841858,1.399999976158142,1.100000023841858,1.2000000476837158,1.5,1.2999999523162842,1.399999976158142,1.7000000476837158,1.5,1.7000000476837158,1.5,1.0,1.7000000476837158,1.899999976158142,1.600000023841858,1.600000023841858,1.5,1.399999976158142,1.600000023841858,1.600000023841858,1.5,1.5,1.399999976158142,1.5,1.2000000476837158,1.2999999523162842,1.5,1.2999999523162842,1.5,1.2999999523162842,1.2999999523162842,1.2999999523162842,1.600000023841858,1.899999976158142,1.399999976158142,1.600000023841858,1.399999976158142,1.5,1.399999976158142],\"z\":[0.20000000298023224,0.20000000298023224,0.20000000298023224,0.20000000298023224,0.20000000298023224,0.4000000059604645,0.30000001192092896,0.20000000298023224,0.20000000298023224,0.10000000149011612,0.20000000298023224,0.20000000298023224,0.10000000149011612,0.10000000149011612,0.20000000298023224,0.4000000059604645,0.4000000059604645,0.30000001192092896,0.30000001192092896,0.30000001192092896,0.20000000298023224,0.4000000059604645,0.20000000298023224,0.5,0.20000000298023224,0.20000000298023224,0.4000000059604645,0.20000000298023224,0.20000000298023224,0.20000000298023224,0.20000000298023224,0.4000000059604645,0.10000000149011612,0.20000000298023224,0.10000000149011612,0.20000000298023224,0.20000000298023224,0.10000000149011612,0.20000000298023224,0.20000000298023224,0.30000001192092896,0.30000001192092896,0.20000000298023224,0.6000000238418579,0.4000000059604645,0.30000001192092896,0.20000000298023224,0.20000000298023224,0.20000000298023224,0.20000000298023224],\"type\":\"scatter3d\"},{\"hovertemplate\":\"color=red<br>0=%{x}<br>2=%{y}<br>3=%{z}<br>4=%{marker.size}<extra></extra>\",\"legendgroup\":\"red\",\"marker\":{\"color\":\"#EF553B\",\"opacity\":0.6,\"size\":[0.1,0.1,0.1,0.1,0.1,0.1,0.1,0.1,0.1,0.1,0.1,0.1,0.1,0.1,0.1,0.1,0.1,0.1,0.1,0.1,0.1,0.1,0.1,0.1,0.1,0.1,0.1,0.1,0.1,0.1,0.1,0.1,0.1,0.1,0.1,0.1,0.1,0.1,0.1,0.1,0.1,0.1,0.1,0.1,0.1,0.1,0.1,0.1,0.1,0.1],\"sizemode\":\"area\",\"sizeref\":0.0015,\"symbol\":\"circle\"},\"mode\":\"markers\",\"name\":\"red\",\"scene\":\"scene\",\"showlegend\":true,\"x\":[7.0,6.400000095367432,6.900000095367432,5.5,6.5,5.699999809265137,6.300000190734863,4.900000095367432,6.599999904632568,5.199999809265137,5.0,5.900000095367432,6.0,6.099999904632568,5.599999904632568,6.699999809265137,5.599999904632568,5.800000190734863,6.199999809265137,5.599999904632568,5.900000095367432,6.099999904632568,6.300000190734863,6.099999904632568,6.400000095367432,6.599999904632568,6.800000190734863,6.699999809265137,6.0,5.699999809265137,5.5,5.5,5.800000190734863,6.0,5.400000095367432,6.0,6.699999809265137,6.300000190734863,5.599999904632568,5.5,5.5,6.099999904632568,5.800000190734863,5.0,5.599999904632568,5.699999809265137,5.699999809265137,6.199999809265137,5.099999904632568,5.699999809265137],\"y\":[4.699999809265137,4.5,4.900000095367432,4.0,4.599999904632568,4.5,4.699999809265137,3.299999952316284,4.599999904632568,3.9000000953674316,3.5,4.199999809265137,4.0,4.699999809265137,3.5999999046325684,4.400000095367432,4.5,4.099999904632568,4.5,3.9000000953674316,4.800000190734863,4.0,4.900000095367432,4.699999809265137,4.300000190734863,4.400000095367432,4.800000190734863,5.0,4.5,3.5,3.799999952316284,3.700000047683716,3.9000000953674316,5.099999904632568,4.5,4.5,4.699999809265137,4.400000095367432,4.099999904632568,4.0,4.400000095367432,4.599999904632568,4.0,3.299999952316284,4.199999809265137,4.199999809265137,4.199999809265137,4.300000190734863,3.0,4.099999904632568],\"z\":[1.399999976158142,1.5,1.5,1.2999999523162842,1.5,1.2999999523162842,1.600000023841858,1.0,1.2999999523162842,1.399999976158142,1.0,1.5,1.0,1.399999976158142,1.2999999523162842,1.399999976158142,1.5,1.0,1.5,1.100000023841858,1.7999999523162842,1.2999999523162842,1.5,1.2000000476837158,1.2999999523162842,1.399999976158142,1.399999976158142,1.7000000476837158,1.5,1.0,1.100000023841858,1.0,1.2000000476837158,1.600000023841858,1.5,1.600000023841858,1.5,1.2999999523162842,1.2999999523162842,1.2999999523162842,1.2000000476837158,1.399999976158142,1.2000000476837158,1.0,1.2999999523162842,1.2000000476837158,1.2999999523162842,1.2999999523162842,1.100000023841858,1.2999999523162842],\"type\":\"scatter3d\"},{\"hovertemplate\":\"color=green<br>0=%{x}<br>2=%{y}<br>3=%{z}<br>4=%{marker.size}<extra></extra>\",\"legendgroup\":\"green\",\"marker\":{\"color\":\"#00cc96\",\"opacity\":0.6,\"size\":[0.1,0.1,0.1,0.1,0.1,0.1,0.1,0.1,0.1,0.1,0.1,0.1,0.1,0.1,0.1,0.1,0.1,0.1,0.1,0.1,0.1,0.1,0.1,0.1,0.1,0.1,0.1,0.1,0.1,0.1,0.1,0.1,0.1,0.1,0.1,0.1,0.1,0.1,0.1,0.1,0.1,0.1,0.1,0.1,0.1,0.1,0.1,0.1,0.1,0.1],\"sizemode\":\"area\",\"sizeref\":0.0015,\"symbol\":\"circle\"},\"mode\":\"markers\",\"name\":\"green\",\"scene\":\"scene\",\"showlegend\":true,\"x\":[6.300000190734863,5.800000190734863,7.099999904632568,6.300000190734863,6.5,7.599999904632568,4.900000095367432,7.300000190734863,6.699999809265137,7.199999809265137,6.5,6.400000095367432,6.800000190734863,5.699999809265137,5.800000190734863,6.400000095367432,6.5,7.699999809265137,7.699999809265137,6.0,6.900000095367432,5.599999904632568,7.699999809265137,6.300000190734863,6.699999809265137,7.199999809265137,6.199999809265137,6.099999904632568,6.400000095367432,7.199999809265137,7.400000095367432,7.900000095367432,6.400000095367432,6.300000190734863,6.099999904632568,7.699999809265137,6.300000190734863,6.400000095367432,6.0,6.900000095367432,6.699999809265137,6.900000095367432,5.800000190734863,6.800000190734863,6.699999809265137,6.699999809265137,6.300000190734863,6.5,6.199999809265137,5.900000095367432],\"y\":[6.0,5.099999904632568,5.900000095367432,5.599999904632568,5.800000190734863,6.599999904632568,4.5,6.300000190734863,5.800000190734863,6.099999904632568,5.099999904632568,5.300000190734863,5.5,5.0,5.099999904632568,5.300000190734863,5.5,6.699999809265137,6.900000095367432,5.0,5.699999809265137,4.900000095367432,6.699999809265137,4.900000095367432,5.699999809265137,6.0,4.800000190734863,4.900000095367432,5.599999904632568,5.800000190734863,6.099999904632568,6.400000095367432,5.599999904632568,5.099999904632568,5.599999904632568,6.099999904632568,5.599999904632568,5.5,4.800000190734863,5.400000095367432,5.599999904632568,5.099999904632568,5.099999904632568,5.900000095367432,5.699999809265137,5.199999809265137,5.0,5.199999809265137,5.400000095367432,5.099999904632568],\"z\":[2.5,1.899999976158142,2.0999999046325684,1.7999999523162842,2.200000047683716,2.0999999046325684,1.7000000476837158,1.7999999523162842,1.7999999523162842,2.5,2.0,1.899999976158142,2.0999999046325684,2.0,2.4000000953674316,2.299999952316284,1.7999999523162842,2.200000047683716,2.299999952316284,1.5,2.299999952316284,2.0,2.0,1.7999999523162842,2.0999999046325684,1.7999999523162842,1.7999999523162842,1.7999999523162842,2.0999999046325684,1.600000023841858,1.899999976158142,2.0,2.200000047683716,1.5,1.399999976158142,2.299999952316284,2.4000000953674316,1.7999999523162842,1.7999999523162842,2.0999999046325684,2.4000000953674316,2.299999952316284,1.899999976158142,2.299999952316284,2.5,2.299999952316284,1.899999976158142,2.0,2.299999952316284,1.7999999523162842],\"type\":\"scatter3d\"},{\"hovertemplate\":\"color=white<br>0=%{x}<br>2=%{y}<br>3=%{z}<br>4=%{marker.size}<extra></extra>\",\"legendgroup\":\"white\",\"marker\":{\"color\":\"#ab63fa\",\"opacity\":0.6,\"size\":[0.6],\"sizemode\":\"area\",\"sizeref\":0.0015,\"symbol\":\"circle\"},\"mode\":\"markers\",\"name\":\"white\",\"scene\":\"scene\",\"showlegend\":true,\"x\":[0.0],\"y\":[0.0],\"z\":[0.0],\"type\":\"scatter3d\"}],                        {\"template\":{\"data\":{\"bar\":[{\"error_x\":{\"color\":\"#2a3f5f\"},\"error_y\":{\"color\":\"#2a3f5f\"},\"marker\":{\"line\":{\"color\":\"#E5ECF6\",\"width\":0.5},\"pattern\":{\"fillmode\":\"overlay\",\"size\":10,\"solidity\":0.2}},\"type\":\"bar\"}],\"barpolar\":[{\"marker\":{\"line\":{\"color\":\"#E5ECF6\",\"width\":0.5},\"pattern\":{\"fillmode\":\"overlay\",\"size\":10,\"solidity\":0.2}},\"type\":\"barpolar\"}],\"carpet\":[{\"aaxis\":{\"endlinecolor\":\"#2a3f5f\",\"gridcolor\":\"white\",\"linecolor\":\"white\",\"minorgridcolor\":\"white\",\"startlinecolor\":\"#2a3f5f\"},\"baxis\":{\"endlinecolor\":\"#2a3f5f\",\"gridcolor\":\"white\",\"linecolor\":\"white\",\"minorgridcolor\":\"white\",\"startlinecolor\":\"#2a3f5f\"},\"type\":\"carpet\"}],\"choropleth\":[{\"colorbar\":{\"outlinewidth\":0,\"ticks\":\"\"},\"type\":\"choropleth\"}],\"contour\":[{\"colorbar\":{\"outlinewidth\":0,\"ticks\":\"\"},\"colorscale\":[[0.0,\"#0d0887\"],[0.1111111111111111,\"#46039f\"],[0.2222222222222222,\"#7201a8\"],[0.3333333333333333,\"#9c179e\"],[0.4444444444444444,\"#bd3786\"],[0.5555555555555556,\"#d8576b\"],[0.6666666666666666,\"#ed7953\"],[0.7777777777777778,\"#fb9f3a\"],[0.8888888888888888,\"#fdca26\"],[1.0,\"#f0f921\"]],\"type\":\"contour\"}],\"contourcarpet\":[{\"colorbar\":{\"outlinewidth\":0,\"ticks\":\"\"},\"type\":\"contourcarpet\"}],\"heatmap\":[{\"colorbar\":{\"outlinewidth\":0,\"ticks\":\"\"},\"colorscale\":[[0.0,\"#0d0887\"],[0.1111111111111111,\"#46039f\"],[0.2222222222222222,\"#7201a8\"],[0.3333333333333333,\"#9c179e\"],[0.4444444444444444,\"#bd3786\"],[0.5555555555555556,\"#d8576b\"],[0.6666666666666666,\"#ed7953\"],[0.7777777777777778,\"#fb9f3a\"],[0.8888888888888888,\"#fdca26\"],[1.0,\"#f0f921\"]],\"type\":\"heatmap\"}],\"heatmapgl\":[{\"colorbar\":{\"outlinewidth\":0,\"ticks\":\"\"},\"colorscale\":[[0.0,\"#0d0887\"],[0.1111111111111111,\"#46039f\"],[0.2222222222222222,\"#7201a8\"],[0.3333333333333333,\"#9c179e\"],[0.4444444444444444,\"#bd3786\"],[0.5555555555555556,\"#d8576b\"],[0.6666666666666666,\"#ed7953\"],[0.7777777777777778,\"#fb9f3a\"],[0.8888888888888888,\"#fdca26\"],[1.0,\"#f0f921\"]],\"type\":\"heatmapgl\"}],\"histogram\":[{\"marker\":{\"pattern\":{\"fillmode\":\"overlay\",\"size\":10,\"solidity\":0.2}},\"type\":\"histogram\"}],\"histogram2d\":[{\"colorbar\":{\"outlinewidth\":0,\"ticks\":\"\"},\"colorscale\":[[0.0,\"#0d0887\"],[0.1111111111111111,\"#46039f\"],[0.2222222222222222,\"#7201a8\"],[0.3333333333333333,\"#9c179e\"],[0.4444444444444444,\"#bd3786\"],[0.5555555555555556,\"#d8576b\"],[0.6666666666666666,\"#ed7953\"],[0.7777777777777778,\"#fb9f3a\"],[0.8888888888888888,\"#fdca26\"],[1.0,\"#f0f921\"]],\"type\":\"histogram2d\"}],\"histogram2dcontour\":[{\"colorbar\":{\"outlinewidth\":0,\"ticks\":\"\"},\"colorscale\":[[0.0,\"#0d0887\"],[0.1111111111111111,\"#46039f\"],[0.2222222222222222,\"#7201a8\"],[0.3333333333333333,\"#9c179e\"],[0.4444444444444444,\"#bd3786\"],[0.5555555555555556,\"#d8576b\"],[0.6666666666666666,\"#ed7953\"],[0.7777777777777778,\"#fb9f3a\"],[0.8888888888888888,\"#fdca26\"],[1.0,\"#f0f921\"]],\"type\":\"histogram2dcontour\"}],\"mesh3d\":[{\"colorbar\":{\"outlinewidth\":0,\"ticks\":\"\"},\"type\":\"mesh3d\"}],\"parcoords\":[{\"line\":{\"colorbar\":{\"outlinewidth\":0,\"ticks\":\"\"}},\"type\":\"parcoords\"}],\"pie\":[{\"automargin\":true,\"type\":\"pie\"}],\"scatter\":[{\"marker\":{\"colorbar\":{\"outlinewidth\":0,\"ticks\":\"\"}},\"type\":\"scatter\"}],\"scatter3d\":[{\"line\":{\"colorbar\":{\"outlinewidth\":0,\"ticks\":\"\"}},\"marker\":{\"colorbar\":{\"outlinewidth\":0,\"ticks\":\"\"}},\"type\":\"scatter3d\"}],\"scattercarpet\":[{\"marker\":{\"colorbar\":{\"outlinewidth\":0,\"ticks\":\"\"}},\"type\":\"scattercarpet\"}],\"scattergeo\":[{\"marker\":{\"colorbar\":{\"outlinewidth\":0,\"ticks\":\"\"}},\"type\":\"scattergeo\"}],\"scattergl\":[{\"marker\":{\"colorbar\":{\"outlinewidth\":0,\"ticks\":\"\"}},\"type\":\"scattergl\"}],\"scattermapbox\":[{\"marker\":{\"colorbar\":{\"outlinewidth\":0,\"ticks\":\"\"}},\"type\":\"scattermapbox\"}],\"scatterpolar\":[{\"marker\":{\"colorbar\":{\"outlinewidth\":0,\"ticks\":\"\"}},\"type\":\"scatterpolar\"}],\"scatterpolargl\":[{\"marker\":{\"colorbar\":{\"outlinewidth\":0,\"ticks\":\"\"}},\"type\":\"scatterpolargl\"}],\"scatterternary\":[{\"marker\":{\"colorbar\":{\"outlinewidth\":0,\"ticks\":\"\"}},\"type\":\"scatterternary\"}],\"surface\":[{\"colorbar\":{\"outlinewidth\":0,\"ticks\":\"\"},\"colorscale\":[[0.0,\"#0d0887\"],[0.1111111111111111,\"#46039f\"],[0.2222222222222222,\"#7201a8\"],[0.3333333333333333,\"#9c179e\"],[0.4444444444444444,\"#bd3786\"],[0.5555555555555556,\"#d8576b\"],[0.6666666666666666,\"#ed7953\"],[0.7777777777777778,\"#fb9f3a\"],[0.8888888888888888,\"#fdca26\"],[1.0,\"#f0f921\"]],\"type\":\"surface\"}],\"table\":[{\"cells\":{\"fill\":{\"color\":\"#EBF0F8\"},\"line\":{\"color\":\"white\"}},\"header\":{\"fill\":{\"color\":\"#C8D4E3\"},\"line\":{\"color\":\"white\"}},\"type\":\"table\"}]},\"layout\":{\"annotationdefaults\":{\"arrowcolor\":\"#2a3f5f\",\"arrowhead\":0,\"arrowwidth\":1},\"autotypenumbers\":\"strict\",\"coloraxis\":{\"colorbar\":{\"outlinewidth\":0,\"ticks\":\"\"}},\"colorscale\":{\"diverging\":[[0,\"#8e0152\"],[0.1,\"#c51b7d\"],[0.2,\"#de77ae\"],[0.3,\"#f1b6da\"],[0.4,\"#fde0ef\"],[0.5,\"#f7f7f7\"],[0.6,\"#e6f5d0\"],[0.7,\"#b8e186\"],[0.8,\"#7fbc41\"],[0.9,\"#4d9221\"],[1,\"#276419\"]],\"sequential\":[[0.0,\"#0d0887\"],[0.1111111111111111,\"#46039f\"],[0.2222222222222222,\"#7201a8\"],[0.3333333333333333,\"#9c179e\"],[0.4444444444444444,\"#bd3786\"],[0.5555555555555556,\"#d8576b\"],[0.6666666666666666,\"#ed7953\"],[0.7777777777777778,\"#fb9f3a\"],[0.8888888888888888,\"#fdca26\"],[1.0,\"#f0f921\"]],\"sequentialminus\":[[0.0,\"#0d0887\"],[0.1111111111111111,\"#46039f\"],[0.2222222222222222,\"#7201a8\"],[0.3333333333333333,\"#9c179e\"],[0.4444444444444444,\"#bd3786\"],[0.5555555555555556,\"#d8576b\"],[0.6666666666666666,\"#ed7953\"],[0.7777777777777778,\"#fb9f3a\"],[0.8888888888888888,\"#fdca26\"],[1.0,\"#f0f921\"]]},\"colorway\":[\"#636efa\",\"#EF553B\",\"#00cc96\",\"#ab63fa\",\"#FFA15A\",\"#19d3f3\",\"#FF6692\",\"#B6E880\",\"#FF97FF\",\"#FECB52\"],\"font\":{\"color\":\"#2a3f5f\"},\"geo\":{\"bgcolor\":\"white\",\"lakecolor\":\"white\",\"landcolor\":\"#E5ECF6\",\"showlakes\":true,\"showland\":true,\"subunitcolor\":\"white\"},\"hoverlabel\":{\"align\":\"left\"},\"hovermode\":\"closest\",\"mapbox\":{\"style\":\"light\"},\"paper_bgcolor\":\"white\",\"plot_bgcolor\":\"#E5ECF6\",\"polar\":{\"angularaxis\":{\"gridcolor\":\"white\",\"linecolor\":\"white\",\"ticks\":\"\"},\"bgcolor\":\"#E5ECF6\",\"radialaxis\":{\"gridcolor\":\"white\",\"linecolor\":\"white\",\"ticks\":\"\"}},\"scene\":{\"xaxis\":{\"backgroundcolor\":\"#E5ECF6\",\"gridcolor\":\"white\",\"gridwidth\":2,\"linecolor\":\"white\",\"showbackground\":true,\"ticks\":\"\",\"zerolinecolor\":\"white\"},\"yaxis\":{\"backgroundcolor\":\"#E5ECF6\",\"gridcolor\":\"white\",\"gridwidth\":2,\"linecolor\":\"white\",\"showbackground\":true,\"ticks\":\"\",\"zerolinecolor\":\"white\"},\"zaxis\":{\"backgroundcolor\":\"#E5ECF6\",\"gridcolor\":\"white\",\"gridwidth\":2,\"linecolor\":\"white\",\"showbackground\":true,\"ticks\":\"\",\"zerolinecolor\":\"white\"}},\"shapedefaults\":{\"line\":{\"color\":\"#2a3f5f\"}},\"ternary\":{\"aaxis\":{\"gridcolor\":\"white\",\"linecolor\":\"white\",\"ticks\":\"\"},\"baxis\":{\"gridcolor\":\"white\",\"linecolor\":\"white\",\"ticks\":\"\"},\"bgcolor\":\"#E5ECF6\",\"caxis\":{\"gridcolor\":\"white\",\"linecolor\":\"white\",\"ticks\":\"\"}},\"title\":{\"x\":0.05},\"xaxis\":{\"automargin\":true,\"gridcolor\":\"white\",\"linecolor\":\"white\",\"ticks\":\"\",\"title\":{\"standoff\":15},\"zerolinecolor\":\"white\",\"zerolinewidth\":2},\"yaxis\":{\"automargin\":true,\"gridcolor\":\"white\",\"linecolor\":\"white\",\"ticks\":\"\",\"title\":{\"standoff\":15},\"zerolinecolor\":\"white\",\"zerolinewidth\":2}}},\"scene\":{\"domain\":{\"x\":[0.0,1.0],\"y\":[0.0,1.0]},\"xaxis\":{\"title\":{\"text\":\"0\"}},\"yaxis\":{\"title\":{\"text\":\"2\"}},\"zaxis\":{\"title\":{\"text\":\"3\"}}},\"legend\":{\"title\":{\"text\":\"color\"},\"tracegroupgap\":0,\"itemsizing\":\"constant\"},\"margin\":{\"t\":60},\"width\":600,\"height\":600},                        {\"responsive\": true}                    ).then(function(){\n                            \nvar gd = document.getElementById('45c1a5c3-7462-45d8-bbce-24caafe3e687');\nvar x = new MutationObserver(function (mutations, observer) {{\n        var display = window.getComputedStyle(gd).display;\n        if (!display || display === 'none') {{\n            console.log([gd, 'removed!']);\n            Plotly.purge(gd);\n            observer.disconnect();\n        }}\n}});\n\n// Listen for the removal of the full notebook cells\nvar notebookContainer = gd.closest('#notebook-container');\nif (notebookContainer) {{\n    x.observe(notebookContainer, {childList: true});\n}}\n\n// Listen for the clearing of the current output cell\nvar outputEl = gd.closest('.output');\nif (outputEl) {{\n    x.observe(outputEl, {childList: true});\n}}\n\n                        })                };                });            </script>        </div>"
         },
         "metadata": {},
         "output_type": "display_data"
        }
       ]
      }
     },
     "374641965c2a40bab0b14bb75270184f": {
      "model_module": "@jupyter-widgets/controls",
      "model_module_version": "1.5.0",
      "model_name": "RadioButtonsModel",
      "state": {
       "_options_labels": [
        "0",
        "1",
        "2",
        "3"
       ],
       "description": "第２変数",
       "index": 2,
       "layout": "IPY_MODEL_787ea0b11fc94b669b377d15a32d0f56",
       "style": "IPY_MODEL_1f11edb3e526426f8c2ad79d44884793"
      }
     },
     "3a28064ae4ef4c7a91b0e14a6de02ca3": {
      "model_module": "@jupyter-widgets/base",
      "model_module_version": "1.2.0",
      "model_name": "LayoutModel",
      "state": {}
     },
     "43cc984e1db9445493caf51096172d6c": {
      "model_module": "@jupyter-widgets/base",
      "model_module_version": "1.2.0",
      "model_name": "LayoutModel",
      "state": {}
     },
     "44563eee786640348f32b02a0e703164": {
      "model_module": "@jupyter-widgets/controls",
      "model_module_version": "1.5.0",
      "model_name": "DescriptionStyleModel",
      "state": {
       "description_width": ""
      }
     },
     "59e32a1cca71495eb5b7a79fc64ec85a": {
      "model_module": "@jupyter-widgets/output",
      "model_module_version": "1.0.0",
      "model_name": "OutputModel",
      "state": {
       "layout": "IPY_MODEL_7b1dedd84d5b42f5bdf3668463088b76",
       "outputs": [
        {
         "ename": "NameError",
         "evalue": "name 'DA4' is not defined",
         "output_type": "error",
         "traceback": [
          "\u001b[0;31m---------------------------------------------------------------------------\u001b[0m",
          "\u001b[0;31mNameError\u001b[0m                                 Traceback (most recent call last)",
          "File \u001b[0;32m/opt/homebrew/Caskroom/miniforge/base/envs/torch/lib/python3.9/site-packages/ipywidgets/widgets/interaction.py:257\u001b[0m, in \u001b[0;36minteractive.update\u001b[0;34m(self, *args)\u001b[0m\n\u001b[1;32m    255\u001b[0m     value \u001b[38;5;241m=\u001b[39m widget\u001b[38;5;241m.\u001b[39mget_interact_value()\n\u001b[1;32m    256\u001b[0m     \u001b[38;5;28mself\u001b[39m\u001b[38;5;241m.\u001b[39mkwargs[widget\u001b[38;5;241m.\u001b[39m_kwarg] \u001b[38;5;241m=\u001b[39m value\n\u001b[0;32m--> 257\u001b[0m \u001b[38;5;28mself\u001b[39m\u001b[38;5;241m.\u001b[39mresult \u001b[38;5;241m=\u001b[39m \u001b[38;5;28;43mself\u001b[39;49m\u001b[38;5;241;43m.\u001b[39;49m\u001b[43mf\u001b[49m\u001b[43m(\u001b[49m\u001b[38;5;241;43m*\u001b[39;49m\u001b[38;5;241;43m*\u001b[39;49m\u001b[38;5;28;43mself\u001b[39;49m\u001b[38;5;241;43m.\u001b[39;49m\u001b[43mkwargs\u001b[49m\u001b[43m)\u001b[49m\n\u001b[1;32m    258\u001b[0m show_inline_matplotlib_plots()\n\u001b[1;32m    259\u001b[0m \u001b[38;5;28;01mif\u001b[39;00m \u001b[38;5;28mself\u001b[39m\u001b[38;5;241m.\u001b[39mauto_display \u001b[38;5;129;01mand\u001b[39;00m \u001b[38;5;28mself\u001b[39m\u001b[38;5;241m.\u001b[39mresult \u001b[38;5;129;01mis\u001b[39;00m \u001b[38;5;129;01mnot\u001b[39;00m \u001b[38;5;28;01mNone\u001b[39;00m:\n",
          "Input \u001b[0;32mIn [2]\u001b[0m, in \u001b[0;36msc3d\u001b[0;34m(a, b, c)\u001b[0m\n\u001b[1;32m    124\u001b[0m \u001b[38;5;28;01mdef\u001b[39;00m \u001b[38;5;21msc3d\u001b[39m(a,b,c):\n\u001b[1;32m    125\u001b[0m     \u001b[38;5;28;01mimport\u001b[39;00m \u001b[38;5;21;01mplotly\u001b[39;00m\u001b[38;5;21;01m.\u001b[39;00m\u001b[38;5;21;01mexpress\u001b[39;00m \u001b[38;5;28;01mas\u001b[39;00m \u001b[38;5;21;01mpx\u001b[39;00m\n\u001b[0;32m--> 126\u001b[0m     DA5\u001b[38;5;241m=\u001b[39mnp\u001b[38;5;241m.\u001b[39mvstack([\u001b[43mDA4\u001b[49m\u001b[38;5;241m.\u001b[39mT,\u001b[38;5;241m0.1\u001b[39m\u001b[38;5;241m*\u001b[39mnp\u001b[38;5;241m.\u001b[39mones(\u001b[38;5;241m150\u001b[39m)])\u001b[38;5;241m.\u001b[39mT\n\u001b[1;32m    127\u001b[0m     DA5A\u001b[38;5;241m=\u001b[39mnp\u001b[38;5;241m.\u001b[39mvstack([DA5,[\u001b[38;5;241m0\u001b[39m,\u001b[38;5;241m0\u001b[39m,\u001b[38;5;241m0\u001b[39m,\u001b[38;5;241m0\u001b[39m,\u001b[38;5;241m0.6\u001b[39m]])\n\u001b[1;32m    128\u001b[0m     DAcolor_name_1\u001b[38;5;241m=\u001b[39mnp\u001b[38;5;241m.\u001b[39mhstack([DAcolor_name,\u001b[38;5;124m\"\u001b[39m\u001b[38;5;124mwhite\u001b[39m\u001b[38;5;124m\"\u001b[39m])\n",
          "\u001b[0;31mNameError\u001b[0m: name 'DA4' is not defined"
         ]
        }
       ]
      }
     },
     "6729390218e9423ea8125bbbd65ca32c": {
      "model_module": "@jupyter-widgets/controls",
      "model_module_version": "1.5.0",
      "model_name": "DescriptionStyleModel",
      "state": {
       "description_width": ""
      }
     },
     "6cb77fd1ad124fb8b13e3afa13d681c4": {
      "model_module": "@jupyter-widgets/controls",
      "model_module_version": "1.5.0",
      "model_name": "DescriptionStyleModel",
      "state": {
       "description_width": ""
      }
     },
     "6ec74b020178427486ae2621ce12547b": {
      "model_module": "@jupyter-widgets/controls",
      "model_module_version": "1.5.0",
      "model_name": "VBoxModel",
      "state": {
       "_dom_classes": [
        "widget-interact"
       ],
       "children": [
        "IPY_MODEL_0da7e8fdba0d4b14bed9228946dbe80e",
        "IPY_MODEL_374641965c2a40bab0b14bb75270184f",
        "IPY_MODEL_9c5b9dbf75694f799d3b4d6638533db9",
        "IPY_MODEL_29bd7f8589c84db0971ab12e7b23d8df"
       ],
       "layout": "IPY_MODEL_c5104efaad964e4bacb089daf725ce7d"
      }
     },
     "787ea0b11fc94b669b377d15a32d0f56": {
      "model_module": "@jupyter-widgets/base",
      "model_module_version": "1.2.0",
      "model_name": "LayoutModel",
      "state": {}
     },
     "7b1dedd84d5b42f5bdf3668463088b76": {
      "model_module": "@jupyter-widgets/base",
      "model_module_version": "1.2.0",
      "model_name": "LayoutModel",
      "state": {}
     },
     "7c6c8dd6f44348abb58efd99fe202c6b": {
      "model_module": "@jupyter-widgets/base",
      "model_module_version": "1.2.0",
      "model_name": "LayoutModel",
      "state": {}
     },
     "7cb3f57ab28046c7b98719a0df5b55f6": {
      "model_module": "@jupyter-widgets/base",
      "model_module_version": "1.2.0",
      "model_name": "LayoutModel",
      "state": {}
     },
     "83bf4465f63d448e89f30e7064d74d0b": {
      "model_module": "@jupyter-widgets/controls",
      "model_module_version": "1.5.0",
      "model_name": "RadioButtonsModel",
      "state": {
       "_options_labels": [
        "0",
        "1",
        "2",
        "3"
       ],
       "description": "第２変数",
       "index": 1,
       "layout": "IPY_MODEL_7c6c8dd6f44348abb58efd99fe202c6b",
       "style": "IPY_MODEL_1c05c4a2b1c04a41a9f080f63db985ba"
      }
     },
     "8ee2344ccc554dd79768c0179b78923e": {
      "model_module": "@jupyter-widgets/controls",
      "model_module_version": "1.5.0",
      "model_name": "DescriptionStyleModel",
      "state": {
       "description_width": ""
      }
     },
     "9c5b9dbf75694f799d3b4d6638533db9": {
      "model_module": "@jupyter-widgets/controls",
      "model_module_version": "1.5.0",
      "model_name": "RadioButtonsModel",
      "state": {
       "_options_labels": [
        "0",
        "1",
        "2",
        "3"
       ],
       "description": "第３変数",
       "index": 3,
       "layout": "IPY_MODEL_7cb3f57ab28046c7b98719a0df5b55f6",
       "style": "IPY_MODEL_0094df890f7344ea90140096e77bb6b6"
      }
     },
     "9ff211bd028c4b16ab1dc34c85cf5d44": {
      "model_module": "@jupyter-widgets/output",
      "model_module_version": "1.0.0",
      "model_name": "OutputModel",
      "state": {
       "layout": "IPY_MODEL_cac67210951c44f8be0d70862eb145f5",
       "outputs": [
        {
         "data": {
          "application/vnd.plotly.v1+json": {
           "config": {
            "plotlyServerURL": "https://plot.ly"
           },
           "data": [
            {
             "hovertemplate": "color=blue<br>0=%{x}<br>1=%{y}<br>2=%{z}<br>4=%{marker.size}<extra></extra>",
             "legendgroup": "blue",
             "marker": {
              "color": "#636efa",
              "opacity": 0.6,
              "size": [
               0.1,
               0.1,
               0.1,
               0.1,
               0.1,
               0.1,
               0.1,
               0.1,
               0.1,
               0.1,
               0.1,
               0.1,
               0.1,
               0.1,
               0.1,
               0.1,
               0.1,
               0.1,
               0.1,
               0.1,
               0.1,
               0.1,
               0.1,
               0.1,
               0.1,
               0.1,
               0.1,
               0.1,
               0.1,
               0.1,
               0.1,
               0.1,
               0.1,
               0.1,
               0.1,
               0.1,
               0.1,
               0.1,
               0.1,
               0.1,
               0.1,
               0.1,
               0.1,
               0.1,
               0.1,
               0.1,
               0.1,
               0.1,
               0.1,
               0.1
              ],
              "sizemode": "area",
              "sizeref": 0.0015,
              "symbol": "circle"
             },
             "mode": "markers",
             "name": "blue",
             "scene": "scene",
             "showlegend": true,
             "type": "scatter3d",
             "x": [
              5.099999904632568,
              4.900000095367432,
              4.699999809265137,
              4.599999904632568,
              5,
              5.400000095367432,
              4.599999904632568,
              5,
              4.400000095367432,
              4.900000095367432,
              5.400000095367432,
              4.800000190734863,
              4.800000190734863,
              4.300000190734863,
              5.800000190734863,
              5.699999809265137,
              5.400000095367432,
              5.099999904632568,
              5.699999809265137,
              5.099999904632568,
              5.400000095367432,
              5.099999904632568,
              4.599999904632568,
              5.099999904632568,
              4.800000190734863,
              5,
              5,
              5.199999809265137,
              5.199999809265137,
              4.699999809265137,
              4.800000190734863,
              5.400000095367432,
              5.199999809265137,
              5.5,
              4.900000095367432,
              5,
              5.5,
              4.900000095367432,
              4.400000095367432,
              5.099999904632568,
              5,
              4.5,
              4.400000095367432,
              5,
              5.099999904632568,
              4.800000190734863,
              5.099999904632568,
              4.599999904632568,
              5.300000190734863,
              5
             ],
             "y": [
              3.5,
              3,
              3.200000047683716,
              3.0999999046325684,
              3.5999999046325684,
              3.9000000953674316,
              3.4000000953674316,
              3.4000000953674316,
              2.9000000953674316,
              3.0999999046325684,
              3.700000047683716,
              3.4000000953674316,
              3,
              3,
              4,
              4.400000095367432,
              3.9000000953674316,
              3.5,
              3.799999952316284,
              3.799999952316284,
              3.4000000953674316,
              3.700000047683716,
              3.5999999046325684,
              3.299999952316284,
              3.4000000953674316,
              3,
              3.4000000953674316,
              3.5,
              3.4000000953674316,
              3.200000047683716,
              3.0999999046325684,
              3.4000000953674316,
              4.099999904632568,
              4.199999809265137,
              3.0999999046325684,
              3.200000047683716,
              3.5,
              3.0999999046325684,
              3,
              3.4000000953674316,
              3.5,
              2.299999952316284,
              3.200000047683716,
              3.5,
              3.799999952316284,
              3,
              3.799999952316284,
              3.200000047683716,
              3.700000047683716,
              3.299999952316284
             ],
             "z": [
              1.399999976158142,
              1.399999976158142,
              1.2999999523162842,
              1.5,
              1.399999976158142,
              1.7000000476837158,
              1.399999976158142,
              1.5,
              1.399999976158142,
              1.5,
              1.5,
              1.600000023841858,
              1.399999976158142,
              1.100000023841858,
              1.2000000476837158,
              1.5,
              1.2999999523162842,
              1.399999976158142,
              1.7000000476837158,
              1.5,
              1.7000000476837158,
              1.5,
              1,
              1.7000000476837158,
              1.899999976158142,
              1.600000023841858,
              1.600000023841858,
              1.5,
              1.399999976158142,
              1.600000023841858,
              1.600000023841858,
              1.5,
              1.5,
              1.399999976158142,
              1.5,
              1.2000000476837158,
              1.2999999523162842,
              1.5,
              1.2999999523162842,
              1.5,
              1.2999999523162842,
              1.2999999523162842,
              1.2999999523162842,
              1.600000023841858,
              1.899999976158142,
              1.399999976158142,
              1.600000023841858,
              1.399999976158142,
              1.5,
              1.399999976158142
             ]
            },
            {
             "hovertemplate": "color=red<br>0=%{x}<br>1=%{y}<br>2=%{z}<br>4=%{marker.size}<extra></extra>",
             "legendgroup": "red",
             "marker": {
              "color": "#EF553B",
              "opacity": 0.6,
              "size": [
               0.1,
               0.1,
               0.1,
               0.1,
               0.1,
               0.1,
               0.1,
               0.1,
               0.1,
               0.1,
               0.1,
               0.1,
               0.1,
               0.1,
               0.1,
               0.1,
               0.1,
               0.1,
               0.1,
               0.1,
               0.1,
               0.1,
               0.1,
               0.1,
               0.1,
               0.1,
               0.1,
               0.1,
               0.1,
               0.1,
               0.1,
               0.1,
               0.1,
               0.1,
               0.1,
               0.1,
               0.1,
               0.1,
               0.1,
               0.1,
               0.1,
               0.1,
               0.1,
               0.1,
               0.1,
               0.1,
               0.1,
               0.1,
               0.1,
               0.1
              ],
              "sizemode": "area",
              "sizeref": 0.0015,
              "symbol": "circle"
             },
             "mode": "markers",
             "name": "red",
             "scene": "scene",
             "showlegend": true,
             "type": "scatter3d",
             "x": [
              7,
              6.400000095367432,
              6.900000095367432,
              5.5,
              6.5,
              5.699999809265137,
              6.300000190734863,
              4.900000095367432,
              6.599999904632568,
              5.199999809265137,
              5,
              5.900000095367432,
              6,
              6.099999904632568,
              5.599999904632568,
              6.699999809265137,
              5.599999904632568,
              5.800000190734863,
              6.199999809265137,
              5.599999904632568,
              5.900000095367432,
              6.099999904632568,
              6.300000190734863,
              6.099999904632568,
              6.400000095367432,
              6.599999904632568,
              6.800000190734863,
              6.699999809265137,
              6,
              5.699999809265137,
              5.5,
              5.5,
              5.800000190734863,
              6,
              5.400000095367432,
              6,
              6.699999809265137,
              6.300000190734863,
              5.599999904632568,
              5.5,
              5.5,
              6.099999904632568,
              5.800000190734863,
              5,
              5.599999904632568,
              5.699999809265137,
              5.699999809265137,
              6.199999809265137,
              5.099999904632568,
              5.699999809265137
             ],
             "y": [
              3.200000047683716,
              3.200000047683716,
              3.0999999046325684,
              2.299999952316284,
              2.799999952316284,
              2.799999952316284,
              3.299999952316284,
              2.4000000953674316,
              2.9000000953674316,
              2.700000047683716,
              2,
              3,
              2.200000047683716,
              2.9000000953674316,
              2.9000000953674316,
              3.0999999046325684,
              3,
              2.700000047683716,
              2.200000047683716,
              2.5,
              3.200000047683716,
              2.799999952316284,
              2.5,
              2.799999952316284,
              2.9000000953674316,
              3,
              2.799999952316284,
              3,
              2.9000000953674316,
              2.5999999046325684,
              2.4000000953674316,
              2.4000000953674316,
              2.700000047683716,
              2.700000047683716,
              3,
              3.4000000953674316,
              3.0999999046325684,
              2.299999952316284,
              3,
              2.5,
              2.5999999046325684,
              3,
              2.5999999046325684,
              2.299999952316284,
              2.700000047683716,
              3,
              2.9000000953674316,
              2.9000000953674316,
              2.5,
              2.799999952316284
             ],
             "z": [
              4.699999809265137,
              4.5,
              4.900000095367432,
              4,
              4.599999904632568,
              4.5,
              4.699999809265137,
              3.299999952316284,
              4.599999904632568,
              3.9000000953674316,
              3.5,
              4.199999809265137,
              4,
              4.699999809265137,
              3.5999999046325684,
              4.400000095367432,
              4.5,
              4.099999904632568,
              4.5,
              3.9000000953674316,
              4.800000190734863,
              4,
              4.900000095367432,
              4.699999809265137,
              4.300000190734863,
              4.400000095367432,
              4.800000190734863,
              5,
              4.5,
              3.5,
              3.799999952316284,
              3.700000047683716,
              3.9000000953674316,
              5.099999904632568,
              4.5,
              4.5,
              4.699999809265137,
              4.400000095367432,
              4.099999904632568,
              4,
              4.400000095367432,
              4.599999904632568,
              4,
              3.299999952316284,
              4.199999809265137,
              4.199999809265137,
              4.199999809265137,
              4.300000190734863,
              3,
              4.099999904632568
             ]
            },
            {
             "hovertemplate": "color=green<br>0=%{x}<br>1=%{y}<br>2=%{z}<br>4=%{marker.size}<extra></extra>",
             "legendgroup": "green",
             "marker": {
              "color": "#00cc96",
              "opacity": 0.6,
              "size": [
               0.1,
               0.1,
               0.1,
               0.1,
               0.1,
               0.1,
               0.1,
               0.1,
               0.1,
               0.1,
               0.1,
               0.1,
               0.1,
               0.1,
               0.1,
               0.1,
               0.1,
               0.1,
               0.1,
               0.1,
               0.1,
               0.1,
               0.1,
               0.1,
               0.1,
               0.1,
               0.1,
               0.1,
               0.1,
               0.1,
               0.1,
               0.1,
               0.1,
               0.1,
               0.1,
               0.1,
               0.1,
               0.1,
               0.1,
               0.1,
               0.1,
               0.1,
               0.1,
               0.1,
               0.1,
               0.1,
               0.1,
               0.1,
               0.1,
               0.1
              ],
              "sizemode": "area",
              "sizeref": 0.0015,
              "symbol": "circle"
             },
             "mode": "markers",
             "name": "green",
             "scene": "scene",
             "showlegend": true,
             "type": "scatter3d",
             "x": [
              6.300000190734863,
              5.800000190734863,
              7.099999904632568,
              6.300000190734863,
              6.5,
              7.599999904632568,
              4.900000095367432,
              7.300000190734863,
              6.699999809265137,
              7.199999809265137,
              6.5,
              6.400000095367432,
              6.800000190734863,
              5.699999809265137,
              5.800000190734863,
              6.400000095367432,
              6.5,
              7.699999809265137,
              7.699999809265137,
              6,
              6.900000095367432,
              5.599999904632568,
              7.699999809265137,
              6.300000190734863,
              6.699999809265137,
              7.199999809265137,
              6.199999809265137,
              6.099999904632568,
              6.400000095367432,
              7.199999809265137,
              7.400000095367432,
              7.900000095367432,
              6.400000095367432,
              6.300000190734863,
              6.099999904632568,
              7.699999809265137,
              6.300000190734863,
              6.400000095367432,
              6,
              6.900000095367432,
              6.699999809265137,
              6.900000095367432,
              5.800000190734863,
              6.800000190734863,
              6.699999809265137,
              6.699999809265137,
              6.300000190734863,
              6.5,
              6.199999809265137,
              5.900000095367432
             ],
             "y": [
              3.299999952316284,
              2.700000047683716,
              3,
              2.9000000953674316,
              3,
              3,
              2.5,
              2.9000000953674316,
              2.5,
              3.5999999046325684,
              3.200000047683716,
              2.700000047683716,
              3,
              2.5,
              2.799999952316284,
              3.200000047683716,
              3,
              3.799999952316284,
              2.5999999046325684,
              2.200000047683716,
              3.200000047683716,
              2.799999952316284,
              2.799999952316284,
              2.700000047683716,
              3.299999952316284,
              3.200000047683716,
              2.799999952316284,
              3,
              2.799999952316284,
              3,
              2.799999952316284,
              3.799999952316284,
              2.799999952316284,
              2.799999952316284,
              2.5999999046325684,
              3,
              3.4000000953674316,
              3.0999999046325684,
              3,
              3.0999999046325684,
              3.0999999046325684,
              3.0999999046325684,
              2.700000047683716,
              3.200000047683716,
              3.299999952316284,
              3,
              2.5,
              3,
              3.4000000953674316,
              3
             ],
             "z": [
              6,
              5.099999904632568,
              5.900000095367432,
              5.599999904632568,
              5.800000190734863,
              6.599999904632568,
              4.5,
              6.300000190734863,
              5.800000190734863,
              6.099999904632568,
              5.099999904632568,
              5.300000190734863,
              5.5,
              5,
              5.099999904632568,
              5.300000190734863,
              5.5,
              6.699999809265137,
              6.900000095367432,
              5,
              5.699999809265137,
              4.900000095367432,
              6.699999809265137,
              4.900000095367432,
              5.699999809265137,
              6,
              4.800000190734863,
              4.900000095367432,
              5.599999904632568,
              5.800000190734863,
              6.099999904632568,
              6.400000095367432,
              5.599999904632568,
              5.099999904632568,
              5.599999904632568,
              6.099999904632568,
              5.599999904632568,
              5.5,
              4.800000190734863,
              5.400000095367432,
              5.599999904632568,
              5.099999904632568,
              5.099999904632568,
              5.900000095367432,
              5.699999809265137,
              5.199999809265137,
              5,
              5.199999809265137,
              5.400000095367432,
              5.099999904632568
             ]
            },
            {
             "hovertemplate": "color=white<br>0=%{x}<br>1=%{y}<br>2=%{z}<br>4=%{marker.size}<extra></extra>",
             "legendgroup": "white",
             "marker": {
              "color": "#ab63fa",
              "opacity": 0.6,
              "size": [
               0.6
              ],
              "sizemode": "area",
              "sizeref": 0.0015,
              "symbol": "circle"
             },
             "mode": "markers",
             "name": "white",
             "scene": "scene",
             "showlegend": true,
             "type": "scatter3d",
             "x": [
              0
             ],
             "y": [
              0
             ],
             "z": [
              0
             ]
            }
           ],
           "layout": {
            "height": 600,
            "legend": {
             "itemsizing": "constant",
             "title": {
              "text": "color"
             },
             "tracegroupgap": 0
            },
            "margin": {
             "t": 60
            },
            "scene": {
             "aspectmode": "auto",
             "aspectratio": {
              "x": 1.2715032369999593,
              "y": 0.7081790248762789,
              "z": 1.1105534621074793
             },
             "domain": {
              "x": [
               0,
               1
              ],
              "y": [
               0,
               1
              ]
             },
             "xaxis": {
              "title": {
               "text": "0"
              },
              "type": "linear"
             },
             "yaxis": {
              "title": {
               "text": "1"
              },
              "type": "linear"
             },
             "zaxis": {
              "title": {
               "text": "2"
              },
              "type": "linear"
             }
            },
            "template": {
             "data": {
              "bar": [
               {
                "error_x": {
                 "color": "#2a3f5f"
                },
                "error_y": {
                 "color": "#2a3f5f"
                },
                "marker": {
                 "line": {
                  "color": "#E5ECF6",
                  "width": 0.5
                 },
                 "pattern": {
                  "fillmode": "overlay",
                  "size": 10,
                  "solidity": 0.2
                 }
                },
                "type": "bar"
               }
              ],
              "barpolar": [
               {
                "marker": {
                 "line": {
                  "color": "#E5ECF6",
                  "width": 0.5
                 },
                 "pattern": {
                  "fillmode": "overlay",
                  "size": 10,
                  "solidity": 0.2
                 }
                },
                "type": "barpolar"
               }
              ],
              "carpet": [
               {
                "aaxis": {
                 "endlinecolor": "#2a3f5f",
                 "gridcolor": "white",
                 "linecolor": "white",
                 "minorgridcolor": "white",
                 "startlinecolor": "#2a3f5f"
                },
                "baxis": {
                 "endlinecolor": "#2a3f5f",
                 "gridcolor": "white",
                 "linecolor": "white",
                 "minorgridcolor": "white",
                 "startlinecolor": "#2a3f5f"
                },
                "type": "carpet"
               }
              ],
              "choropleth": [
               {
                "colorbar": {
                 "outlinewidth": 0,
                 "ticks": ""
                },
                "type": "choropleth"
               }
              ],
              "contour": [
               {
                "colorbar": {
                 "outlinewidth": 0,
                 "ticks": ""
                },
                "colorscale": [
                 [
                  0,
                  "#0d0887"
                 ],
                 [
                  0.1111111111111111,
                  "#46039f"
                 ],
                 [
                  0.2222222222222222,
                  "#7201a8"
                 ],
                 [
                  0.3333333333333333,
                  "#9c179e"
                 ],
                 [
                  0.4444444444444444,
                  "#bd3786"
                 ],
                 [
                  0.5555555555555556,
                  "#d8576b"
                 ],
                 [
                  0.6666666666666666,
                  "#ed7953"
                 ],
                 [
                  0.7777777777777778,
                  "#fb9f3a"
                 ],
                 [
                  0.8888888888888888,
                  "#fdca26"
                 ],
                 [
                  1,
                  "#f0f921"
                 ]
                ],
                "type": "contour"
               }
              ],
              "contourcarpet": [
               {
                "colorbar": {
                 "outlinewidth": 0,
                 "ticks": ""
                },
                "type": "contourcarpet"
               }
              ],
              "heatmap": [
               {
                "colorbar": {
                 "outlinewidth": 0,
                 "ticks": ""
                },
                "colorscale": [
                 [
                  0,
                  "#0d0887"
                 ],
                 [
                  0.1111111111111111,
                  "#46039f"
                 ],
                 [
                  0.2222222222222222,
                  "#7201a8"
                 ],
                 [
                  0.3333333333333333,
                  "#9c179e"
                 ],
                 [
                  0.4444444444444444,
                  "#bd3786"
                 ],
                 [
                  0.5555555555555556,
                  "#d8576b"
                 ],
                 [
                  0.6666666666666666,
                  "#ed7953"
                 ],
                 [
                  0.7777777777777778,
                  "#fb9f3a"
                 ],
                 [
                  0.8888888888888888,
                  "#fdca26"
                 ],
                 [
                  1,
                  "#f0f921"
                 ]
                ],
                "type": "heatmap"
               }
              ],
              "heatmapgl": [
               {
                "colorbar": {
                 "outlinewidth": 0,
                 "ticks": ""
                },
                "colorscale": [
                 [
                  0,
                  "#0d0887"
                 ],
                 [
                  0.1111111111111111,
                  "#46039f"
                 ],
                 [
                  0.2222222222222222,
                  "#7201a8"
                 ],
                 [
                  0.3333333333333333,
                  "#9c179e"
                 ],
                 [
                  0.4444444444444444,
                  "#bd3786"
                 ],
                 [
                  0.5555555555555556,
                  "#d8576b"
                 ],
                 [
                  0.6666666666666666,
                  "#ed7953"
                 ],
                 [
                  0.7777777777777778,
                  "#fb9f3a"
                 ],
                 [
                  0.8888888888888888,
                  "#fdca26"
                 ],
                 [
                  1,
                  "#f0f921"
                 ]
                ],
                "type": "heatmapgl"
               }
              ],
              "histogram": [
               {
                "marker": {
                 "pattern": {
                  "fillmode": "overlay",
                  "size": 10,
                  "solidity": 0.2
                 }
                },
                "type": "histogram"
               }
              ],
              "histogram2d": [
               {
                "colorbar": {
                 "outlinewidth": 0,
                 "ticks": ""
                },
                "colorscale": [
                 [
                  0,
                  "#0d0887"
                 ],
                 [
                  0.1111111111111111,
                  "#46039f"
                 ],
                 [
                  0.2222222222222222,
                  "#7201a8"
                 ],
                 [
                  0.3333333333333333,
                  "#9c179e"
                 ],
                 [
                  0.4444444444444444,
                  "#bd3786"
                 ],
                 [
                  0.5555555555555556,
                  "#d8576b"
                 ],
                 [
                  0.6666666666666666,
                  "#ed7953"
                 ],
                 [
                  0.7777777777777778,
                  "#fb9f3a"
                 ],
                 [
                  0.8888888888888888,
                  "#fdca26"
                 ],
                 [
                  1,
                  "#f0f921"
                 ]
                ],
                "type": "histogram2d"
               }
              ],
              "histogram2dcontour": [
               {
                "colorbar": {
                 "outlinewidth": 0,
                 "ticks": ""
                },
                "colorscale": [
                 [
                  0,
                  "#0d0887"
                 ],
                 [
                  0.1111111111111111,
                  "#46039f"
                 ],
                 [
                  0.2222222222222222,
                  "#7201a8"
                 ],
                 [
                  0.3333333333333333,
                  "#9c179e"
                 ],
                 [
                  0.4444444444444444,
                  "#bd3786"
                 ],
                 [
                  0.5555555555555556,
                  "#d8576b"
                 ],
                 [
                  0.6666666666666666,
                  "#ed7953"
                 ],
                 [
                  0.7777777777777778,
                  "#fb9f3a"
                 ],
                 [
                  0.8888888888888888,
                  "#fdca26"
                 ],
                 [
                  1,
                  "#f0f921"
                 ]
                ],
                "type": "histogram2dcontour"
               }
              ],
              "mesh3d": [
               {
                "colorbar": {
                 "outlinewidth": 0,
                 "ticks": ""
                },
                "type": "mesh3d"
               }
              ],
              "parcoords": [
               {
                "line": {
                 "colorbar": {
                  "outlinewidth": 0,
                  "ticks": ""
                 }
                },
                "type": "parcoords"
               }
              ],
              "pie": [
               {
                "automargin": true,
                "type": "pie"
               }
              ],
              "scatter": [
               {
                "marker": {
                 "colorbar": {
                  "outlinewidth": 0,
                  "ticks": ""
                 }
                },
                "type": "scatter"
               }
              ],
              "scatter3d": [
               {
                "line": {
                 "colorbar": {
                  "outlinewidth": 0,
                  "ticks": ""
                 }
                },
                "marker": {
                 "colorbar": {
                  "outlinewidth": 0,
                  "ticks": ""
                 }
                },
                "type": "scatter3d"
               }
              ],
              "scattercarpet": [
               {
                "marker": {
                 "colorbar": {
                  "outlinewidth": 0,
                  "ticks": ""
                 }
                },
                "type": "scattercarpet"
               }
              ],
              "scattergeo": [
               {
                "marker": {
                 "colorbar": {
                  "outlinewidth": 0,
                  "ticks": ""
                 }
                },
                "type": "scattergeo"
               }
              ],
              "scattergl": [
               {
                "marker": {
                 "colorbar": {
                  "outlinewidth": 0,
                  "ticks": ""
                 }
                },
                "type": "scattergl"
               }
              ],
              "scattermapbox": [
               {
                "marker": {
                 "colorbar": {
                  "outlinewidth": 0,
                  "ticks": ""
                 }
                },
                "type": "scattermapbox"
               }
              ],
              "scatterpolar": [
               {
                "marker": {
                 "colorbar": {
                  "outlinewidth": 0,
                  "ticks": ""
                 }
                },
                "type": "scatterpolar"
               }
              ],
              "scatterpolargl": [
               {
                "marker": {
                 "colorbar": {
                  "outlinewidth": 0,
                  "ticks": ""
                 }
                },
                "type": "scatterpolargl"
               }
              ],
              "scatterternary": [
               {
                "marker": {
                 "colorbar": {
                  "outlinewidth": 0,
                  "ticks": ""
                 }
                },
                "type": "scatterternary"
               }
              ],
              "surface": [
               {
                "colorbar": {
                 "outlinewidth": 0,
                 "ticks": ""
                },
                "colorscale": [
                 [
                  0,
                  "#0d0887"
                 ],
                 [
                  0.1111111111111111,
                  "#46039f"
                 ],
                 [
                  0.2222222222222222,
                  "#7201a8"
                 ],
                 [
                  0.3333333333333333,
                  "#9c179e"
                 ],
                 [
                  0.4444444444444444,
                  "#bd3786"
                 ],
                 [
                  0.5555555555555556,
                  "#d8576b"
                 ],
                 [
                  0.6666666666666666,
                  "#ed7953"
                 ],
                 [
                  0.7777777777777778,
                  "#fb9f3a"
                 ],
                 [
                  0.8888888888888888,
                  "#fdca26"
                 ],
                 [
                  1,
                  "#f0f921"
                 ]
                ],
                "type": "surface"
               }
              ],
              "table": [
               {
                "cells": {
                 "fill": {
                  "color": "#EBF0F8"
                 },
                 "line": {
                  "color": "white"
                 }
                },
                "header": {
                 "fill": {
                  "color": "#C8D4E3"
                 },
                 "line": {
                  "color": "white"
                 }
                },
                "type": "table"
               }
              ]
             },
             "layout": {
              "annotationdefaults": {
               "arrowcolor": "#2a3f5f",
               "arrowhead": 0,
               "arrowwidth": 1
              },
              "autotypenumbers": "strict",
              "coloraxis": {
               "colorbar": {
                "outlinewidth": 0,
                "ticks": ""
               }
              },
              "colorscale": {
               "diverging": [
                [
                 0,
                 "#8e0152"
                ],
                [
                 0.1,
                 "#c51b7d"
                ],
                [
                 0.2,
                 "#de77ae"
                ],
                [
                 0.3,
                 "#f1b6da"
                ],
                [
                 0.4,
                 "#fde0ef"
                ],
                [
                 0.5,
                 "#f7f7f7"
                ],
                [
                 0.6,
                 "#e6f5d0"
                ],
                [
                 0.7,
                 "#b8e186"
                ],
                [
                 0.8,
                 "#7fbc41"
                ],
                [
                 0.9,
                 "#4d9221"
                ],
                [
                 1,
                 "#276419"
                ]
               ],
               "sequential": [
                [
                 0,
                 "#0d0887"
                ],
                [
                 0.1111111111111111,
                 "#46039f"
                ],
                [
                 0.2222222222222222,
                 "#7201a8"
                ],
                [
                 0.3333333333333333,
                 "#9c179e"
                ],
                [
                 0.4444444444444444,
                 "#bd3786"
                ],
                [
                 0.5555555555555556,
                 "#d8576b"
                ],
                [
                 0.6666666666666666,
                 "#ed7953"
                ],
                [
                 0.7777777777777778,
                 "#fb9f3a"
                ],
                [
                 0.8888888888888888,
                 "#fdca26"
                ],
                [
                 1,
                 "#f0f921"
                ]
               ],
               "sequentialminus": [
                [
                 0,
                 "#0d0887"
                ],
                [
                 0.1111111111111111,
                 "#46039f"
                ],
                [
                 0.2222222222222222,
                 "#7201a8"
                ],
                [
                 0.3333333333333333,
                 "#9c179e"
                ],
                [
                 0.4444444444444444,
                 "#bd3786"
                ],
                [
                 0.5555555555555556,
                 "#d8576b"
                ],
                [
                 0.6666666666666666,
                 "#ed7953"
                ],
                [
                 0.7777777777777778,
                 "#fb9f3a"
                ],
                [
                 0.8888888888888888,
                 "#fdca26"
                ],
                [
                 1,
                 "#f0f921"
                ]
               ]
              },
              "colorway": [
               "#636efa",
               "#EF553B",
               "#00cc96",
               "#ab63fa",
               "#FFA15A",
               "#19d3f3",
               "#FF6692",
               "#B6E880",
               "#FF97FF",
               "#FECB52"
              ],
              "font": {
               "color": "#2a3f5f"
              },
              "geo": {
               "bgcolor": "white",
               "lakecolor": "white",
               "landcolor": "#E5ECF6",
               "showlakes": true,
               "showland": true,
               "subunitcolor": "white"
              },
              "hoverlabel": {
               "align": "left"
              },
              "hovermode": "closest",
              "mapbox": {
               "style": "light"
              },
              "paper_bgcolor": "white",
              "plot_bgcolor": "#E5ECF6",
              "polar": {
               "angularaxis": {
                "gridcolor": "white",
                "linecolor": "white",
                "ticks": ""
               },
               "bgcolor": "#E5ECF6",
               "radialaxis": {
                "gridcolor": "white",
                "linecolor": "white",
                "ticks": ""
               }
              },
              "scene": {
               "xaxis": {
                "backgroundcolor": "#E5ECF6",
                "gridcolor": "white",
                "gridwidth": 2,
                "linecolor": "white",
                "showbackground": true,
                "ticks": "",
                "zerolinecolor": "white"
               },
               "yaxis": {
                "backgroundcolor": "#E5ECF6",
                "gridcolor": "white",
                "gridwidth": 2,
                "linecolor": "white",
                "showbackground": true,
                "ticks": "",
                "zerolinecolor": "white"
               },
               "zaxis": {
                "backgroundcolor": "#E5ECF6",
                "gridcolor": "white",
                "gridwidth": 2,
                "linecolor": "white",
                "showbackground": true,
                "ticks": "",
                "zerolinecolor": "white"
               }
              },
              "shapedefaults": {
               "line": {
                "color": "#2a3f5f"
               }
              },
              "ternary": {
               "aaxis": {
                "gridcolor": "white",
                "linecolor": "white",
                "ticks": ""
               },
               "baxis": {
                "gridcolor": "white",
                "linecolor": "white",
                "ticks": ""
               },
               "bgcolor": "#E5ECF6",
               "caxis": {
                "gridcolor": "white",
                "linecolor": "white",
                "ticks": ""
               }
              },
              "title": {
               "x": 0.05
              },
              "xaxis": {
               "automargin": true,
               "gridcolor": "white",
               "linecolor": "white",
               "ticks": "",
               "title": {
                "standoff": 15
               },
               "zerolinecolor": "white",
               "zerolinewidth": 2
              },
              "yaxis": {
               "automargin": true,
               "gridcolor": "white",
               "linecolor": "white",
               "ticks": "",
               "title": {
                "standoff": 15
               },
               "zerolinecolor": "white",
               "zerolinewidth": 2
              }
             }
            },
            "width": 600
           }
          },
          "text/html": "<div>                            <div id=\"c535a00f-6645-43a0-aa10-8f0a34aa587c\" class=\"plotly-graph-div\" style=\"height:600px; width:600px;\"></div>            <script type=\"text/javascript\">                require([\"plotly\"], function(Plotly) {                    window.PLOTLYENV=window.PLOTLYENV || {};                                    if (document.getElementById(\"c535a00f-6645-43a0-aa10-8f0a34aa587c\")) {                    Plotly.newPlot(                        \"c535a00f-6645-43a0-aa10-8f0a34aa587c\",                        [{\"hovertemplate\":\"color=blue<br>0=%{x}<br>1=%{y}<br>2=%{z}<br>4=%{marker.size}<extra></extra>\",\"legendgroup\":\"blue\",\"marker\":{\"color\":\"#636efa\",\"opacity\":0.6,\"size\":[0.1,0.1,0.1,0.1,0.1,0.1,0.1,0.1,0.1,0.1,0.1,0.1,0.1,0.1,0.1,0.1,0.1,0.1,0.1,0.1,0.1,0.1,0.1,0.1,0.1,0.1,0.1,0.1,0.1,0.1,0.1,0.1,0.1,0.1,0.1,0.1,0.1,0.1,0.1,0.1,0.1,0.1,0.1,0.1,0.1,0.1,0.1,0.1,0.1,0.1],\"sizemode\":\"area\",\"sizeref\":0.0015,\"symbol\":\"circle\"},\"mode\":\"markers\",\"name\":\"blue\",\"scene\":\"scene\",\"showlegend\":true,\"x\":[5.099999904632568,4.900000095367432,4.699999809265137,4.599999904632568,5.0,5.400000095367432,4.599999904632568,5.0,4.400000095367432,4.900000095367432,5.400000095367432,4.800000190734863,4.800000190734863,4.300000190734863,5.800000190734863,5.699999809265137,5.400000095367432,5.099999904632568,5.699999809265137,5.099999904632568,5.400000095367432,5.099999904632568,4.599999904632568,5.099999904632568,4.800000190734863,5.0,5.0,5.199999809265137,5.199999809265137,4.699999809265137,4.800000190734863,5.400000095367432,5.199999809265137,5.5,4.900000095367432,5.0,5.5,4.900000095367432,4.400000095367432,5.099999904632568,5.0,4.5,4.400000095367432,5.0,5.099999904632568,4.800000190734863,5.099999904632568,4.599999904632568,5.300000190734863,5.0],\"y\":[3.5,3.0,3.200000047683716,3.0999999046325684,3.5999999046325684,3.9000000953674316,3.4000000953674316,3.4000000953674316,2.9000000953674316,3.0999999046325684,3.700000047683716,3.4000000953674316,3.0,3.0,4.0,4.400000095367432,3.9000000953674316,3.5,3.799999952316284,3.799999952316284,3.4000000953674316,3.700000047683716,3.5999999046325684,3.299999952316284,3.4000000953674316,3.0,3.4000000953674316,3.5,3.4000000953674316,3.200000047683716,3.0999999046325684,3.4000000953674316,4.099999904632568,4.199999809265137,3.0999999046325684,3.200000047683716,3.5,3.0999999046325684,3.0,3.4000000953674316,3.5,2.299999952316284,3.200000047683716,3.5,3.799999952316284,3.0,3.799999952316284,3.200000047683716,3.700000047683716,3.299999952316284],\"z\":[1.399999976158142,1.399999976158142,1.2999999523162842,1.5,1.399999976158142,1.7000000476837158,1.399999976158142,1.5,1.399999976158142,1.5,1.5,1.600000023841858,1.399999976158142,1.100000023841858,1.2000000476837158,1.5,1.2999999523162842,1.399999976158142,1.7000000476837158,1.5,1.7000000476837158,1.5,1.0,1.7000000476837158,1.899999976158142,1.600000023841858,1.600000023841858,1.5,1.399999976158142,1.600000023841858,1.600000023841858,1.5,1.5,1.399999976158142,1.5,1.2000000476837158,1.2999999523162842,1.5,1.2999999523162842,1.5,1.2999999523162842,1.2999999523162842,1.2999999523162842,1.600000023841858,1.899999976158142,1.399999976158142,1.600000023841858,1.399999976158142,1.5,1.399999976158142],\"type\":\"scatter3d\"},{\"hovertemplate\":\"color=red<br>0=%{x}<br>1=%{y}<br>2=%{z}<br>4=%{marker.size}<extra></extra>\",\"legendgroup\":\"red\",\"marker\":{\"color\":\"#EF553B\",\"opacity\":0.6,\"size\":[0.1,0.1,0.1,0.1,0.1,0.1,0.1,0.1,0.1,0.1,0.1,0.1,0.1,0.1,0.1,0.1,0.1,0.1,0.1,0.1,0.1,0.1,0.1,0.1,0.1,0.1,0.1,0.1,0.1,0.1,0.1,0.1,0.1,0.1,0.1,0.1,0.1,0.1,0.1,0.1,0.1,0.1,0.1,0.1,0.1,0.1,0.1,0.1,0.1,0.1],\"sizemode\":\"area\",\"sizeref\":0.0015,\"symbol\":\"circle\"},\"mode\":\"markers\",\"name\":\"red\",\"scene\":\"scene\",\"showlegend\":true,\"x\":[7.0,6.400000095367432,6.900000095367432,5.5,6.5,5.699999809265137,6.300000190734863,4.900000095367432,6.599999904632568,5.199999809265137,5.0,5.900000095367432,6.0,6.099999904632568,5.599999904632568,6.699999809265137,5.599999904632568,5.800000190734863,6.199999809265137,5.599999904632568,5.900000095367432,6.099999904632568,6.300000190734863,6.099999904632568,6.400000095367432,6.599999904632568,6.800000190734863,6.699999809265137,6.0,5.699999809265137,5.5,5.5,5.800000190734863,6.0,5.400000095367432,6.0,6.699999809265137,6.300000190734863,5.599999904632568,5.5,5.5,6.099999904632568,5.800000190734863,5.0,5.599999904632568,5.699999809265137,5.699999809265137,6.199999809265137,5.099999904632568,5.699999809265137],\"y\":[3.200000047683716,3.200000047683716,3.0999999046325684,2.299999952316284,2.799999952316284,2.799999952316284,3.299999952316284,2.4000000953674316,2.9000000953674316,2.700000047683716,2.0,3.0,2.200000047683716,2.9000000953674316,2.9000000953674316,3.0999999046325684,3.0,2.700000047683716,2.200000047683716,2.5,3.200000047683716,2.799999952316284,2.5,2.799999952316284,2.9000000953674316,3.0,2.799999952316284,3.0,2.9000000953674316,2.5999999046325684,2.4000000953674316,2.4000000953674316,2.700000047683716,2.700000047683716,3.0,3.4000000953674316,3.0999999046325684,2.299999952316284,3.0,2.5,2.5999999046325684,3.0,2.5999999046325684,2.299999952316284,2.700000047683716,3.0,2.9000000953674316,2.9000000953674316,2.5,2.799999952316284],\"z\":[4.699999809265137,4.5,4.900000095367432,4.0,4.599999904632568,4.5,4.699999809265137,3.299999952316284,4.599999904632568,3.9000000953674316,3.5,4.199999809265137,4.0,4.699999809265137,3.5999999046325684,4.400000095367432,4.5,4.099999904632568,4.5,3.9000000953674316,4.800000190734863,4.0,4.900000095367432,4.699999809265137,4.300000190734863,4.400000095367432,4.800000190734863,5.0,4.5,3.5,3.799999952316284,3.700000047683716,3.9000000953674316,5.099999904632568,4.5,4.5,4.699999809265137,4.400000095367432,4.099999904632568,4.0,4.400000095367432,4.599999904632568,4.0,3.299999952316284,4.199999809265137,4.199999809265137,4.199999809265137,4.300000190734863,3.0,4.099999904632568],\"type\":\"scatter3d\"},{\"hovertemplate\":\"color=green<br>0=%{x}<br>1=%{y}<br>2=%{z}<br>4=%{marker.size}<extra></extra>\",\"legendgroup\":\"green\",\"marker\":{\"color\":\"#00cc96\",\"opacity\":0.6,\"size\":[0.1,0.1,0.1,0.1,0.1,0.1,0.1,0.1,0.1,0.1,0.1,0.1,0.1,0.1,0.1,0.1,0.1,0.1,0.1,0.1,0.1,0.1,0.1,0.1,0.1,0.1,0.1,0.1,0.1,0.1,0.1,0.1,0.1,0.1,0.1,0.1,0.1,0.1,0.1,0.1,0.1,0.1,0.1,0.1,0.1,0.1,0.1,0.1,0.1,0.1],\"sizemode\":\"area\",\"sizeref\":0.0015,\"symbol\":\"circle\"},\"mode\":\"markers\",\"name\":\"green\",\"scene\":\"scene\",\"showlegend\":true,\"x\":[6.300000190734863,5.800000190734863,7.099999904632568,6.300000190734863,6.5,7.599999904632568,4.900000095367432,7.300000190734863,6.699999809265137,7.199999809265137,6.5,6.400000095367432,6.800000190734863,5.699999809265137,5.800000190734863,6.400000095367432,6.5,7.699999809265137,7.699999809265137,6.0,6.900000095367432,5.599999904632568,7.699999809265137,6.300000190734863,6.699999809265137,7.199999809265137,6.199999809265137,6.099999904632568,6.400000095367432,7.199999809265137,7.400000095367432,7.900000095367432,6.400000095367432,6.300000190734863,6.099999904632568,7.699999809265137,6.300000190734863,6.400000095367432,6.0,6.900000095367432,6.699999809265137,6.900000095367432,5.800000190734863,6.800000190734863,6.699999809265137,6.699999809265137,6.300000190734863,6.5,6.199999809265137,5.900000095367432],\"y\":[3.299999952316284,2.700000047683716,3.0,2.9000000953674316,3.0,3.0,2.5,2.9000000953674316,2.5,3.5999999046325684,3.200000047683716,2.700000047683716,3.0,2.5,2.799999952316284,3.200000047683716,3.0,3.799999952316284,2.5999999046325684,2.200000047683716,3.200000047683716,2.799999952316284,2.799999952316284,2.700000047683716,3.299999952316284,3.200000047683716,2.799999952316284,3.0,2.799999952316284,3.0,2.799999952316284,3.799999952316284,2.799999952316284,2.799999952316284,2.5999999046325684,3.0,3.4000000953674316,3.0999999046325684,3.0,3.0999999046325684,3.0999999046325684,3.0999999046325684,2.700000047683716,3.200000047683716,3.299999952316284,3.0,2.5,3.0,3.4000000953674316,3.0],\"z\":[6.0,5.099999904632568,5.900000095367432,5.599999904632568,5.800000190734863,6.599999904632568,4.5,6.300000190734863,5.800000190734863,6.099999904632568,5.099999904632568,5.300000190734863,5.5,5.0,5.099999904632568,5.300000190734863,5.5,6.699999809265137,6.900000095367432,5.0,5.699999809265137,4.900000095367432,6.699999809265137,4.900000095367432,5.699999809265137,6.0,4.800000190734863,4.900000095367432,5.599999904632568,5.800000190734863,6.099999904632568,6.400000095367432,5.599999904632568,5.099999904632568,5.599999904632568,6.099999904632568,5.599999904632568,5.5,4.800000190734863,5.400000095367432,5.599999904632568,5.099999904632568,5.099999904632568,5.900000095367432,5.699999809265137,5.199999809265137,5.0,5.199999809265137,5.400000095367432,5.099999904632568],\"type\":\"scatter3d\"},{\"hovertemplate\":\"color=white<br>0=%{x}<br>1=%{y}<br>2=%{z}<br>4=%{marker.size}<extra></extra>\",\"legendgroup\":\"white\",\"marker\":{\"color\":\"#ab63fa\",\"opacity\":0.6,\"size\":[0.6],\"sizemode\":\"area\",\"sizeref\":0.0015,\"symbol\":\"circle\"},\"mode\":\"markers\",\"name\":\"white\",\"scene\":\"scene\",\"showlegend\":true,\"x\":[0.0],\"y\":[0.0],\"z\":[0.0],\"type\":\"scatter3d\"}],                        {\"template\":{\"data\":{\"bar\":[{\"error_x\":{\"color\":\"#2a3f5f\"},\"error_y\":{\"color\":\"#2a3f5f\"},\"marker\":{\"line\":{\"color\":\"#E5ECF6\",\"width\":0.5},\"pattern\":{\"fillmode\":\"overlay\",\"size\":10,\"solidity\":0.2}},\"type\":\"bar\"}],\"barpolar\":[{\"marker\":{\"line\":{\"color\":\"#E5ECF6\",\"width\":0.5},\"pattern\":{\"fillmode\":\"overlay\",\"size\":10,\"solidity\":0.2}},\"type\":\"barpolar\"}],\"carpet\":[{\"aaxis\":{\"endlinecolor\":\"#2a3f5f\",\"gridcolor\":\"white\",\"linecolor\":\"white\",\"minorgridcolor\":\"white\",\"startlinecolor\":\"#2a3f5f\"},\"baxis\":{\"endlinecolor\":\"#2a3f5f\",\"gridcolor\":\"white\",\"linecolor\":\"white\",\"minorgridcolor\":\"white\",\"startlinecolor\":\"#2a3f5f\"},\"type\":\"carpet\"}],\"choropleth\":[{\"colorbar\":{\"outlinewidth\":0,\"ticks\":\"\"},\"type\":\"choropleth\"}],\"contour\":[{\"colorbar\":{\"outlinewidth\":0,\"ticks\":\"\"},\"colorscale\":[[0.0,\"#0d0887\"],[0.1111111111111111,\"#46039f\"],[0.2222222222222222,\"#7201a8\"],[0.3333333333333333,\"#9c179e\"],[0.4444444444444444,\"#bd3786\"],[0.5555555555555556,\"#d8576b\"],[0.6666666666666666,\"#ed7953\"],[0.7777777777777778,\"#fb9f3a\"],[0.8888888888888888,\"#fdca26\"],[1.0,\"#f0f921\"]],\"type\":\"contour\"}],\"contourcarpet\":[{\"colorbar\":{\"outlinewidth\":0,\"ticks\":\"\"},\"type\":\"contourcarpet\"}],\"heatmap\":[{\"colorbar\":{\"outlinewidth\":0,\"ticks\":\"\"},\"colorscale\":[[0.0,\"#0d0887\"],[0.1111111111111111,\"#46039f\"],[0.2222222222222222,\"#7201a8\"],[0.3333333333333333,\"#9c179e\"],[0.4444444444444444,\"#bd3786\"],[0.5555555555555556,\"#d8576b\"],[0.6666666666666666,\"#ed7953\"],[0.7777777777777778,\"#fb9f3a\"],[0.8888888888888888,\"#fdca26\"],[1.0,\"#f0f921\"]],\"type\":\"heatmap\"}],\"heatmapgl\":[{\"colorbar\":{\"outlinewidth\":0,\"ticks\":\"\"},\"colorscale\":[[0.0,\"#0d0887\"],[0.1111111111111111,\"#46039f\"],[0.2222222222222222,\"#7201a8\"],[0.3333333333333333,\"#9c179e\"],[0.4444444444444444,\"#bd3786\"],[0.5555555555555556,\"#d8576b\"],[0.6666666666666666,\"#ed7953\"],[0.7777777777777778,\"#fb9f3a\"],[0.8888888888888888,\"#fdca26\"],[1.0,\"#f0f921\"]],\"type\":\"heatmapgl\"}],\"histogram\":[{\"marker\":{\"pattern\":{\"fillmode\":\"overlay\",\"size\":10,\"solidity\":0.2}},\"type\":\"histogram\"}],\"histogram2d\":[{\"colorbar\":{\"outlinewidth\":0,\"ticks\":\"\"},\"colorscale\":[[0.0,\"#0d0887\"],[0.1111111111111111,\"#46039f\"],[0.2222222222222222,\"#7201a8\"],[0.3333333333333333,\"#9c179e\"],[0.4444444444444444,\"#bd3786\"],[0.5555555555555556,\"#d8576b\"],[0.6666666666666666,\"#ed7953\"],[0.7777777777777778,\"#fb9f3a\"],[0.8888888888888888,\"#fdca26\"],[1.0,\"#f0f921\"]],\"type\":\"histogram2d\"}],\"histogram2dcontour\":[{\"colorbar\":{\"outlinewidth\":0,\"ticks\":\"\"},\"colorscale\":[[0.0,\"#0d0887\"],[0.1111111111111111,\"#46039f\"],[0.2222222222222222,\"#7201a8\"],[0.3333333333333333,\"#9c179e\"],[0.4444444444444444,\"#bd3786\"],[0.5555555555555556,\"#d8576b\"],[0.6666666666666666,\"#ed7953\"],[0.7777777777777778,\"#fb9f3a\"],[0.8888888888888888,\"#fdca26\"],[1.0,\"#f0f921\"]],\"type\":\"histogram2dcontour\"}],\"mesh3d\":[{\"colorbar\":{\"outlinewidth\":0,\"ticks\":\"\"},\"type\":\"mesh3d\"}],\"parcoords\":[{\"line\":{\"colorbar\":{\"outlinewidth\":0,\"ticks\":\"\"}},\"type\":\"parcoords\"}],\"pie\":[{\"automargin\":true,\"type\":\"pie\"}],\"scatter\":[{\"marker\":{\"colorbar\":{\"outlinewidth\":0,\"ticks\":\"\"}},\"type\":\"scatter\"}],\"scatter3d\":[{\"line\":{\"colorbar\":{\"outlinewidth\":0,\"ticks\":\"\"}},\"marker\":{\"colorbar\":{\"outlinewidth\":0,\"ticks\":\"\"}},\"type\":\"scatter3d\"}],\"scattercarpet\":[{\"marker\":{\"colorbar\":{\"outlinewidth\":0,\"ticks\":\"\"}},\"type\":\"scattercarpet\"}],\"scattergeo\":[{\"marker\":{\"colorbar\":{\"outlinewidth\":0,\"ticks\":\"\"}},\"type\":\"scattergeo\"}],\"scattergl\":[{\"marker\":{\"colorbar\":{\"outlinewidth\":0,\"ticks\":\"\"}},\"type\":\"scattergl\"}],\"scattermapbox\":[{\"marker\":{\"colorbar\":{\"outlinewidth\":0,\"ticks\":\"\"}},\"type\":\"scattermapbox\"}],\"scatterpolar\":[{\"marker\":{\"colorbar\":{\"outlinewidth\":0,\"ticks\":\"\"}},\"type\":\"scatterpolar\"}],\"scatterpolargl\":[{\"marker\":{\"colorbar\":{\"outlinewidth\":0,\"ticks\":\"\"}},\"type\":\"scatterpolargl\"}],\"scatterternary\":[{\"marker\":{\"colorbar\":{\"outlinewidth\":0,\"ticks\":\"\"}},\"type\":\"scatterternary\"}],\"surface\":[{\"colorbar\":{\"outlinewidth\":0,\"ticks\":\"\"},\"colorscale\":[[0.0,\"#0d0887\"],[0.1111111111111111,\"#46039f\"],[0.2222222222222222,\"#7201a8\"],[0.3333333333333333,\"#9c179e\"],[0.4444444444444444,\"#bd3786\"],[0.5555555555555556,\"#d8576b\"],[0.6666666666666666,\"#ed7953\"],[0.7777777777777778,\"#fb9f3a\"],[0.8888888888888888,\"#fdca26\"],[1.0,\"#f0f921\"]],\"type\":\"surface\"}],\"table\":[{\"cells\":{\"fill\":{\"color\":\"#EBF0F8\"},\"line\":{\"color\":\"white\"}},\"header\":{\"fill\":{\"color\":\"#C8D4E3\"},\"line\":{\"color\":\"white\"}},\"type\":\"table\"}]},\"layout\":{\"annotationdefaults\":{\"arrowcolor\":\"#2a3f5f\",\"arrowhead\":0,\"arrowwidth\":1},\"autotypenumbers\":\"strict\",\"coloraxis\":{\"colorbar\":{\"outlinewidth\":0,\"ticks\":\"\"}},\"colorscale\":{\"diverging\":[[0,\"#8e0152\"],[0.1,\"#c51b7d\"],[0.2,\"#de77ae\"],[0.3,\"#f1b6da\"],[0.4,\"#fde0ef\"],[0.5,\"#f7f7f7\"],[0.6,\"#e6f5d0\"],[0.7,\"#b8e186\"],[0.8,\"#7fbc41\"],[0.9,\"#4d9221\"],[1,\"#276419\"]],\"sequential\":[[0.0,\"#0d0887\"],[0.1111111111111111,\"#46039f\"],[0.2222222222222222,\"#7201a8\"],[0.3333333333333333,\"#9c179e\"],[0.4444444444444444,\"#bd3786\"],[0.5555555555555556,\"#d8576b\"],[0.6666666666666666,\"#ed7953\"],[0.7777777777777778,\"#fb9f3a\"],[0.8888888888888888,\"#fdca26\"],[1.0,\"#f0f921\"]],\"sequentialminus\":[[0.0,\"#0d0887\"],[0.1111111111111111,\"#46039f\"],[0.2222222222222222,\"#7201a8\"],[0.3333333333333333,\"#9c179e\"],[0.4444444444444444,\"#bd3786\"],[0.5555555555555556,\"#d8576b\"],[0.6666666666666666,\"#ed7953\"],[0.7777777777777778,\"#fb9f3a\"],[0.8888888888888888,\"#fdca26\"],[1.0,\"#f0f921\"]]},\"colorway\":[\"#636efa\",\"#EF553B\",\"#00cc96\",\"#ab63fa\",\"#FFA15A\",\"#19d3f3\",\"#FF6692\",\"#B6E880\",\"#FF97FF\",\"#FECB52\"],\"font\":{\"color\":\"#2a3f5f\"},\"geo\":{\"bgcolor\":\"white\",\"lakecolor\":\"white\",\"landcolor\":\"#E5ECF6\",\"showlakes\":true,\"showland\":true,\"subunitcolor\":\"white\"},\"hoverlabel\":{\"align\":\"left\"},\"hovermode\":\"closest\",\"mapbox\":{\"style\":\"light\"},\"paper_bgcolor\":\"white\",\"plot_bgcolor\":\"#E5ECF6\",\"polar\":{\"angularaxis\":{\"gridcolor\":\"white\",\"linecolor\":\"white\",\"ticks\":\"\"},\"bgcolor\":\"#E5ECF6\",\"radialaxis\":{\"gridcolor\":\"white\",\"linecolor\":\"white\",\"ticks\":\"\"}},\"scene\":{\"xaxis\":{\"backgroundcolor\":\"#E5ECF6\",\"gridcolor\":\"white\",\"gridwidth\":2,\"linecolor\":\"white\",\"showbackground\":true,\"ticks\":\"\",\"zerolinecolor\":\"white\"},\"yaxis\":{\"backgroundcolor\":\"#E5ECF6\",\"gridcolor\":\"white\",\"gridwidth\":2,\"linecolor\":\"white\",\"showbackground\":true,\"ticks\":\"\",\"zerolinecolor\":\"white\"},\"zaxis\":{\"backgroundcolor\":\"#E5ECF6\",\"gridcolor\":\"white\",\"gridwidth\":2,\"linecolor\":\"white\",\"showbackground\":true,\"ticks\":\"\",\"zerolinecolor\":\"white\"}},\"shapedefaults\":{\"line\":{\"color\":\"#2a3f5f\"}},\"ternary\":{\"aaxis\":{\"gridcolor\":\"white\",\"linecolor\":\"white\",\"ticks\":\"\"},\"baxis\":{\"gridcolor\":\"white\",\"linecolor\":\"white\",\"ticks\":\"\"},\"bgcolor\":\"#E5ECF6\",\"caxis\":{\"gridcolor\":\"white\",\"linecolor\":\"white\",\"ticks\":\"\"}},\"title\":{\"x\":0.05},\"xaxis\":{\"automargin\":true,\"gridcolor\":\"white\",\"linecolor\":\"white\",\"ticks\":\"\",\"title\":{\"standoff\":15},\"zerolinecolor\":\"white\",\"zerolinewidth\":2},\"yaxis\":{\"automargin\":true,\"gridcolor\":\"white\",\"linecolor\":\"white\",\"ticks\":\"\",\"title\":{\"standoff\":15},\"zerolinecolor\":\"white\",\"zerolinewidth\":2}}},\"scene\":{\"domain\":{\"x\":[0.0,1.0],\"y\":[0.0,1.0]},\"xaxis\":{\"title\":{\"text\":\"0\"}},\"yaxis\":{\"title\":{\"text\":\"1\"}},\"zaxis\":{\"title\":{\"text\":\"2\"}}},\"legend\":{\"title\":{\"text\":\"color\"},\"tracegroupgap\":0,\"itemsizing\":\"constant\"},\"margin\":{\"t\":60},\"width\":600,\"height\":600},                        {\"responsive\": true}                    ).then(function(){\n                            \nvar gd = document.getElementById('c535a00f-6645-43a0-aa10-8f0a34aa587c');\nvar x = new MutationObserver(function (mutations, observer) {{\n        var display = window.getComputedStyle(gd).display;\n        if (!display || display === 'none') {{\n            console.log([gd, 'removed!']);\n            Plotly.purge(gd);\n            observer.disconnect();\n        }}\n}});\n\n// Listen for the removal of the full notebook cells\nvar notebookContainer = gd.closest('#notebook-container');\nif (notebookContainer) {{\n    x.observe(notebookContainer, {childList: true});\n}}\n\n// Listen for the clearing of the current output cell\nvar outputEl = gd.closest('.output');\nif (outputEl) {{\n    x.observe(outputEl, {childList: true});\n}}\n\n                        })                };                });            </script>        </div>"
         },
         "metadata": {},
         "output_type": "display_data"
        }
       ]
      }
     },
     "a1121d6ffd6745e9b9541fcd8d718f3a": {
      "model_module": "@jupyter-widgets/controls",
      "model_module_version": "1.5.0",
      "model_name": "DescriptionStyleModel",
      "state": {
       "description_width": ""
      }
     },
     "b0c45568e53d42e7ae3dfd39093f144d": {
      "model_module": "@jupyter-widgets/controls",
      "model_module_version": "1.5.0",
      "model_name": "RadioButtonsModel",
      "state": {
       "_options_labels": [
        "0",
        "1",
        "2",
        "3"
       ],
       "description": "第３変数",
       "index": 2,
       "layout": "IPY_MODEL_f57d9a13b6ba4068857952d0f9f05286",
       "style": "IPY_MODEL_6cb77fd1ad124fb8b13e3afa13d681c4"
      }
     },
     "b1432da2e40f42f98f62740b85eb30d1": {
      "model_module": "@jupyter-widgets/base",
      "model_module_version": "1.2.0",
      "model_name": "LayoutModel",
      "state": {}
     },
     "b2eaac15cb8e4fe4a8612c563012050c": {
      "model_module": "@jupyter-widgets/controls",
      "model_module_version": "1.5.0",
      "model_name": "VBoxModel",
      "state": {
       "_dom_classes": [
        "widget-interact"
       ],
       "children": [
        "IPY_MODEL_07d12448f4244ac3825b8014b0b61f30",
        "IPY_MODEL_f8fdf5a5dbbb4e12978d06ccd839d107",
        "IPY_MODEL_b0c45568e53d42e7ae3dfd39093f144d",
        "IPY_MODEL_59e32a1cca71495eb5b7a79fc64ec85a"
       ],
       "layout": "IPY_MODEL_082dc44025484445bd45a20bd338300a"
      }
     },
     "b86141780c484c65b6b40053bdb67bb2": {
      "model_module": "@jupyter-widgets/base",
      "model_module_version": "1.2.0",
      "model_name": "LayoutModel",
      "state": {}
     },
     "c5104efaad964e4bacb089daf725ce7d": {
      "model_module": "@jupyter-widgets/base",
      "model_module_version": "1.2.0",
      "model_name": "LayoutModel",
      "state": {}
     },
     "c512c5974e8a4b59a104c84fe20536b0": {
      "model_module": "@jupyter-widgets/controls",
      "model_module_version": "1.5.0",
      "model_name": "VBoxModel",
      "state": {
       "_dom_classes": [
        "widget-interact"
       ],
       "children": [
        "IPY_MODEL_ff47ea137ba7490894aa30e4006bc117",
        "IPY_MODEL_83bf4465f63d448e89f30e7064d74d0b",
        "IPY_MODEL_ecf7b530d59249898678fa9a9736228b",
        "IPY_MODEL_9ff211bd028c4b16ab1dc34c85cf5d44"
       ],
       "layout": "IPY_MODEL_43cc984e1db9445493caf51096172d6c"
      }
     },
     "cac67210951c44f8be0d70862eb145f5": {
      "model_module": "@jupyter-widgets/base",
      "model_module_version": "1.2.0",
      "model_name": "LayoutModel",
      "state": {}
     },
     "d9d5070987f9482f82562b4ab1f6e8a1": {
      "model_module": "@jupyter-widgets/base",
      "model_module_version": "1.2.0",
      "model_name": "LayoutModel",
      "state": {}
     },
     "ecf7b530d59249898678fa9a9736228b": {
      "model_module": "@jupyter-widgets/controls",
      "model_module_version": "1.5.0",
      "model_name": "RadioButtonsModel",
      "state": {
       "_options_labels": [
        "0",
        "1",
        "2",
        "3"
       ],
       "description": "第３変数",
       "index": 2,
       "layout": "IPY_MODEL_b1432da2e40f42f98f62740b85eb30d1",
       "style": "IPY_MODEL_6729390218e9423ea8125bbbd65ca32c"
      }
     },
     "f57d9a13b6ba4068857952d0f9f05286": {
      "model_module": "@jupyter-widgets/base",
      "model_module_version": "1.2.0",
      "model_name": "LayoutModel",
      "state": {}
     },
     "f8fdf5a5dbbb4e12978d06ccd839d107": {
      "model_module": "@jupyter-widgets/controls",
      "model_module_version": "1.5.0",
      "model_name": "RadioButtonsModel",
      "state": {
       "_options_labels": [
        "0",
        "1",
        "2",
        "3"
       ],
       "description": "第２変数",
       "index": 1,
       "layout": "IPY_MODEL_d9d5070987f9482f82562b4ab1f6e8a1",
       "style": "IPY_MODEL_44563eee786640348f32b02a0e703164"
      }
     },
     "fb45d349d66b4d22b80e59ec7f4dffaa": {
      "model_module": "@jupyter-widgets/base",
      "model_module_version": "1.2.0",
      "model_name": "LayoutModel",
      "state": {}
     },
     "ff47ea137ba7490894aa30e4006bc117": {
      "model_module": "@jupyter-widgets/controls",
      "model_module_version": "1.5.0",
      "model_name": "RadioButtonsModel",
      "state": {
       "_options_labels": [
        "0",
        "1",
        "2",
        "3"
       ],
       "description": "第1変数",
       "index": 0,
       "layout": "IPY_MODEL_3a28064ae4ef4c7a91b0e14a6de02ca3",
       "style": "IPY_MODEL_8ee2344ccc554dd79768c0179b78923e"
      }
     },
     "ff956c2622cd4cadaf4a010c38fae8cf": {
      "model_module": "@jupyter-widgets/base",
      "model_module_version": "1.2.0",
      "model_name": "LayoutModel",
      "state": {}
     }
    },
    "version_major": 2,
    "version_minor": 0
   }
  }
 },
 "nbformat": 4,
 "nbformat_minor": 4
}
