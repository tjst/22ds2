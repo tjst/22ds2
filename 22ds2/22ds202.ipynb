{
 "cells": [
  {
   "cell_type": "markdown",
   "metadata": {
    "id": "ouqOM1he6Yv7"
   },
   "source": [
    "<hr style=\"border-top: 3px double #8c8b8b;\"/>\n",
    "<br/>\n",
    "<center><font size=7 color=\"green\">データサイエンスII   第2回 可視化 実習</font><br/>\n",
    "\n",
    "2022.4.19\n",
    "</center>\n",
    "<hr style=\"border-top: 3px double #8c8b8b;\"/>\n"
   ]
  },
  {
   "cell_type": "markdown",
   "metadata": {
    "tags": []
   },
   "source": [
    "## 準備"
   ]
  },
  {
   "cell_type": "code",
   "execution_count": null,
   "metadata": {
    "ExecuteTime": {
     "end_time": "2021-06-01T01:38:07.219359Z",
     "start_time": "2021-06-01T01:38:06.575288Z"
    }
   },
   "outputs": [],
   "source": [
    "import numpy as np\n",
    "import pandas as pd\n",
    "import plotly.express as px\n",
    "import scipy as sy\n",
    "\n",
    "\n",
    "# 実数集合Dの表示\n",
    "def plot1d(D,width=600,height=300):\n",
    "    import plotly.express as px\n",
    "    import numpy as np\n",
    "    fig=px.scatter(x=D,y=np.zeros(len(D)))\n",
    "    fig.update_layout(width=width,height=height)\n",
    "    fig.show()\n",
    "    \n",
    "    \n",
    "# １変数関数のグラフ表示, flist は表示する関数のリスト、labels はそれぞれのラベル, xrange はxの動く範囲\n",
    "def showgraph(flist,labels,xrange=[0,1],K=50):\n",
    "    import plotly.graph_objects as go\n",
    "    import numpy as np\n",
    "    fig = go.Figure()\n",
    "    tmin,tmax=xrange\n",
    "    ts=np.linspace(tmin,tmax,K)\n",
    "    for i in range(len(flist)):\n",
    "        fig.add_trace(go.Scatter(x=ts, y=[flist[i](t) for t in ts], name=labels[i]))\n",
    "    if len(flist)==1:\n",
    "        fig.update_layout(title=labels[0])\n",
    "    fig.update_layout(width=600,height=600)\n",
    "\n",
    "    fig.show() \n",
    "\n",
    "# ２変数関数fのグラフを表示\n",
    "def showgraph2(f,xrange=[-1,1],yrange=[-1,1],K=50,opacity=0.5):\n",
    "    import numpy as np\n",
    "    import plotly.graph_objects as go\n",
    "    xmin,xmax=xrange\n",
    "    ymin,ymax=yrange\n",
    "    a0=np.linspace(xmin,xmax,K)\n",
    "    b0=np.linspace(ymin,ymax,K)\n",
    "    xx,yy=np.meshgrid(a0,b0)\n",
    "    F=go.Figure()\n",
    "    F.add_surface(x=xx,y=yy,z=f(xx,yy),opacity=opacity)  \n",
    "    F.update_layout(width=600,height=600)\n",
    "    F.show()\n",
    "\n",
    "\n",
    "def make2data(cov=[[0.2, 0], [0, 0.2]],N=100): \n",
    "    import numpy as np\n",
    "    D21=np.vstack([np.random.multivariate_normal([2*i,2*j], cov, N) for i in range(2) for j in range(2)])\n",
    "    return D21\n",
    "\n",
    "def make1data(heikin=0,bunsan=1,size=100):\n",
    "    return np.random.normal(loc=heikin,scale=bunsan,size=size)\n",
    "\n",
    "def show1data(データリスト,ラベルリスト,毛=False,ヒストグラム=False,密度=False,ビンサイズ=1.0):\n",
    "    import plotly.figure_factory as ff\n",
    "    ff.create_distplot(データリスト,ラベルリスト,show_rug=毛, show_hist=ヒストグラム,show_curve=密度,bin_size=ビンサイズ).show()\n",
    "\n",
    "def plot2d(D,color=[],width=600,height=600,透明度=1.0):\n",
    "    import plotly.express as px\n",
    "    import numpy as np\n",
    "    if len(color)==0:\n",
    "        color=np.zeros(len(D))\n",
    "    fig=px.scatter(x=D[:,0],y=D[:,1],opacity=透明度,color=color)\n",
    "    fig.update_layout(width=width,height=height)\n",
    "    fig.update_yaxes(scaleanchor=\"x\", scaleratio=1)\n",
    "    fig.show()\n",
    "\n",
    "def ヒストグラム2次元(D,xビン数=10,yビン数=10,周辺分布=False):\n",
    "    import plotly.express as px\n",
    "    if 周辺分布:\n",
    "        fig = px.density_heatmap(x=D.T[0], y=D.T[1],nbinsx=xビン数,nbinsy=yビン数,marginal_x=\"histogram\", marginal_y=\"histogram\")\n",
    "    else:\n",
    "        fig = px.density_heatmap(x=D.T[0], y=D.T[1],nbinsx=xビン数,nbinsy=yビン数)\n",
    "    fig.update_layout(width=500,height=500)\n",
    "    fig.show()\n",
    "\n",
    "def 密度等高線(D,width=500,height=500,周辺分布=False,濃淡=False,ラベル=False):\n",
    "    if 周辺分布:\n",
    "        fig = px.density_contour(x=D.T[0], y=D.T[1],marginal_x=\"histogram\", marginal_y=\"histogram\")\n",
    "    else:\n",
    "        fig = px.density_contour(x=D.T[0], y=D.T[1])\n",
    "    if 濃淡:\n",
    "        fig.update_traces(contours_coloring=\"fill\")\n",
    "    if ラベル:\n",
    "        fig.update_traces(contours_showlabels = True)\n",
    "    fig.update_layout(width=width,height=height)\n",
    "    fig.show()\n",
    "\n",
    "def readcsv(url):\n",
    "    import pandas as pd\n",
    "    return pd.read_csv(url).to_numpy()\n",
    "\n",
    "def plot3d1(D,color=[],透明度=0.8,点サイズ=1,形状=\"circle\",width=500,height=500):\n",
    "    import plotly.graph_objects as go\n",
    "    import plotly.express as px\n",
    "    fig=px.scatter()\n",
    "    fig.add_trace(go.Scatter3d(x=D.T[0],y=D.T[1],z=D.T[2],mode=\"markers\",\\\n",
    "                               marker=dict(size=点サイズ, symbol=形状, color=color,opacity=透明度)))\n",
    "    fig.update_layout(width=width,height=height)\n",
    "    fig.show()\n",
    "                    \n",
    "                  \n",
    "\n",
    "def plot3d(D,color=[],透明度=0.8,点サイズ=0.5,width=500,height=500):\n",
    "    import numpy as np\n",
    "    import plotly.express as px\n",
    "    if len(color)==0:\n",
    "        color=np.ones(len(D))\n",
    "    D1=np.vstack([D.T,点サイズ*0.1*np.ones(len(D))]).T\n",
    "    D2=np.vstack([D1,[0,0,0,0.6]])\n",
    "    Dcolor=np.hstack([color,\"white\"])\n",
    "\n",
    "    fig=px.scatter_3d(D2,x=0,y=1,z=2,color=Dcolor,opacity=透明度,size=3)\n",
    "    fig.update_layout(width=600,height=600)\n",
    "    print(\" 'white' をクリックして大きな球を消去してください\")\n",
    "    fig.show()    \n",
    "\n",
    "\n",
    "def DAyame():\n",
    "    import plotly.express as px\n",
    "    temp = px.data.iris().to_numpy()\n",
    "    return temp[:,[0,1,2,3,5]].astype(\"float32\")\n",
    "\n",
    "def sc3d(a,b,c):\n",
    "    import plotly.express as px\n",
    "    D45=np.vstack([D44.T,0.1*np.ones(150)]).T\n",
    "    D45A=np.vstack([D45,[0,0,0,0,0.6]])\n",
    "    D4color_name_1=np.hstack([D4color_name,\"white\"])\n",
    "    fig=px.scatter_3d(D45A,x=a,y=b,z=c,color=D4color_name_1,opacity=0.6,size=4)\n",
    "    fig.update_layout(width=600,height=600)\n",
    "    fig.show()    \n",
    "\n",
    "def proj3d():\n",
    "    from ipywidgets import interact\n",
    "    import ipywidgets as widgets\n",
    "    interact(sc3d  \n",
    "        ,a=widgets.RadioButtons(description=\"第1変数\",value=0,options=[0,1,2,3])\n",
    "        ,b=widgets.RadioButtons(description=\"第２変数\",value=1,options=[0,1,2,3])\n",
    "        ,c=widgets.RadioButtons(description=\"第３変数\",value=2,options=[0,1,2,3])\n",
    "            )    \n",
    "def バブル表示(D,透明度=0.5):\n",
    "    fig=px.scatter(x=D.T[0],y=D.T[1],size=100*np.abs(D.T[2]),opacity=透明度)\n",
    "    fig.update_yaxes(scaleanchor=\"x\", scaleratio=1)\n",
    "    fig.update_layout(width=500,height=500)\n",
    "    fig.show()\n",
    "\n",
    "def normalgraph(D):    \n",
    "    fig1=px.line(D,x=range(12),y=[0,1])\n",
    "    fig1.update_layout(width=500,height=500)\n",
    "    fig1.show() \n",
    "\n",
    "def climograph(D,label=[]):\n",
    "    import plotly.express as px\n",
    "    if len(label)==0:\n",
    "        label=np.arange(len(D))\n",
    "    fig=px.line(D,x=0,y=1,text=label)\n",
    "    fig.update_layout(width=500,height=500)\n",
    "    fig.show()\n",
    "\n",
    "def 関数表示(D,color=[]):\n",
    "    import numpy as np\n",
    "    import plotly.express as px\n",
    "    if(len(color)==0):\n",
    "        color=np.zeros(len(D[0]))\n",
    "    fig = px.parallel_coordinates(D, color=color)\n",
    "    fig.show()\n",
    "\n",
    "def 二次元散布図(D,color=[],透明度=0.7,width=1000,height=1000,seaborn=False):\n",
    "    import pandas as pd\n",
    "    N=len(D)\n",
    "    if len(color)==0:\n",
    "        color=np.zeros(len(D))\n",
    "    if seaborn:\n",
    "        import seaborn as sbn\n",
    "        Df=pd.DataFrame(D)\n",
    "        Df[\"color\"]=color\n",
    "        sbn.pairplot(Df,kind=\"kde\",hue=\"color\")        \n",
    "    else:\n",
    "        fig=px.scatter_matrix(pd.DataFrame(D),opacity=透明度,color=color)\n",
    "        fig.update_layout(width=width,height=height)\n",
    "        fig.show()"
   ]
  },
  {
   "cell_type": "markdown",
   "metadata": {
    "jp-MarkdownHeadingCollapsed": true,
    "tags": []
   },
   "source": [
    "# 実習1 データ可視化：１次元"
   ]
  },
  {
   "cell_type": "markdown",
   "metadata": {
    "tags": []
   },
   "source": [
    "##  １次元データD1"
   ]
  },
  {
   "cell_type": "markdown",
   "metadata": {},
   "source": [
    "+ 次は、平均が0,分散が1の実数データを100個ランダムに生成. 毎回結果が違う."
   ]
  },
  {
   "cell_type": "code",
   "execution_count": null,
   "metadata": {
    "tags": []
   },
   "outputs": [],
   "source": [
    "N=100\n",
    "D11=make1data(heikin=0,bunsan=1,size=N)\n",
    "D11"
   ]
  },
  {
   "cell_type": "markdown",
   "metadata": {},
   "source": [
    "## 単純プロット"
   ]
  },
  {
   "cell_type": "code",
   "execution_count": null,
   "metadata": {
    "tags": []
   },
   "outputs": [],
   "source": [
    "plot1d(D11)"
   ]
  },
  {
   "cell_type": "markdown",
   "metadata": {},
   "source": [
    "+ 点で表示すると密集しているところがわかりにくいので、縦線で描くほうがよい"
   ]
  },
  {
   "cell_type": "code",
   "execution_count": null,
   "metadata": {},
   "outputs": [],
   "source": [
    "show1data([D11],[\"1\"],毛=True)\n"
   ]
  },
  {
   "cell_type": "markdown",
   "metadata": {},
   "source": [
    "+ 複数のデータを同時に表示"
   ]
  },
  {
   "cell_type": "markdown",
   "metadata": {},
   "source": [
    "+ 次は、平均が0.5,分散が0.3の実数データを100個ランダムに生成. これも毎回結果が違う."
   ]
  },
  {
   "cell_type": "code",
   "execution_count": null,
   "metadata": {},
   "outputs": [],
   "source": [
    "D12=make1data(heikin=0.5,bunsan=0.3,size=N)\n",
    "D12"
   ]
  },
  {
   "cell_type": "markdown",
   "metadata": {},
   "source": [
    "+ 両方を同時に表示する. "
   ]
  },
  {
   "cell_type": "code",
   "execution_count": null,
   "metadata": {},
   "outputs": [],
   "source": [
    "show1data([D11,D12],[1,2],毛=True)"
   ]
  },
  {
   "cell_type": "markdown",
   "metadata": {},
   "source": [
    "## ヒストグラム"
   ]
  },
  {
   "cell_type": "code",
   "execution_count": null,
   "metadata": {},
   "outputs": [],
   "source": [
    "show1data([D11],[1],ヒストグラム=True,ビンサイズ=0.1)"
   ]
  },
  {
   "cell_type": "markdown",
   "metadata": {},
   "source": [
    "+ 複数のデータのヒストグラム"
   ]
  },
  {
   "cell_type": "code",
   "execution_count": null,
   "metadata": {},
   "outputs": [],
   "source": [
    "show1data([D11,D12],[1,2],ヒストグラム=True,ビンサイズ=0.1)"
   ]
  },
  {
   "cell_type": "markdown",
   "metadata": {},
   "source": [
    "## 密度関数表示\n",
    "\n"
   ]
  },
  {
   "cell_type": "code",
   "execution_count": null,
   "metadata": {},
   "outputs": [],
   "source": [
    "show1data([D11],[1],密度=True)"
   ]
  },
  {
   "cell_type": "code",
   "execution_count": null,
   "metadata": {},
   "outputs": [],
   "source": [
    "show1data([D11,D12],[1,2],密度=True)"
   ]
  },
  {
   "cell_type": "markdown",
   "metadata": {},
   "source": [
    "## ３種同時表示\n",
    "\n",
    "+ 三種類の表示を全て行う。冗長だがわかりやすい。"
   ]
  },
  {
   "cell_type": "code",
   "execution_count": null,
   "metadata": {},
   "outputs": [],
   "source": [
    "show1data([D11,D12],[1,2],毛=True,密度=True,ヒストグラム=True,ビンサイズ=0.2)"
   ]
  },
  {
   "cell_type": "markdown",
   "metadata": {
    "tags": []
   },
   "source": [
    "# <font color=\"green\" size=5>実習2.  2 次元データ集合の可視化</font>"
   ]
  },
  {
   "cell_type": "markdown",
   "metadata": {
    "tags": []
   },
   "source": [
    "## D2 の定義"
   ]
  },
  {
   "cell_type": "code",
   "execution_count": null,
   "metadata": {
    "ExecuteTime": {
     "end_time": "2021-06-01T01:38:07.232460Z",
     "start_time": "2021-06-01T01:38:07.221273Z"
    }
   },
   "outputs": [],
   "source": [
    "D2=make2data(N=1000)\n",
    "D2.shape"
   ]
  },
  {
   "cell_type": "markdown",
   "metadata": {
    "tags": []
   },
   "source": [
    "## 単純プロット"
   ]
  },
  {
   "cell_type": "code",
   "execution_count": null,
   "metadata": {
    "ExecuteTime": {
     "end_time": "2021-06-01T01:38:07.857088Z",
     "start_time": "2021-06-01T01:38:07.235803Z"
    },
    "tags": []
   },
   "outputs": [],
   "source": [
    "plot2d(D2)"
   ]
  },
  {
   "cell_type": "markdown",
   "metadata": {},
   "source": [
    "### 濃淡で密度を表示"
   ]
  },
  {
   "cell_type": "code",
   "execution_count": null,
   "metadata": {
    "ExecuteTime": {
     "end_time": "2021-06-01T01:38:07.857088Z",
     "start_time": "2021-06-01T01:38:07.235803Z"
    },
    "tags": []
   },
   "outputs": [],
   "source": [
    "plot2d(D2,透明度=0.2)"
   ]
  },
  {
   "cell_type": "markdown",
   "metadata": {
    "tags": []
   },
   "source": [
    "## 二次元匕ストグラム"
   ]
  },
  {
   "cell_type": "markdown",
   "metadata": {},
   "source": [
    "+ x方向の分割数は xビン数\n",
    "+ y方向の分割数は yビン数"
   ]
  },
  {
   "cell_type": "markdown",
   "metadata": {},
   "source": [
    "+ デフォルトで x,y方向ともに分割数10"
   ]
  },
  {
   "cell_type": "code",
   "execution_count": null,
   "metadata": {
    "ExecuteTime": {
     "end_time": "2021-06-01T01:38:08.262885Z",
     "start_time": "2021-06-01T01:38:08.150324Z"
    },
    "tags": []
   },
   "outputs": [],
   "source": [
    "ヒストグラム2次元(D2)"
   ]
  },
  {
   "cell_type": "markdown",
   "metadata": {},
   "source": [
    "+ 次は各成分のヒストグラム(周辺分布という)も表示"
   ]
  },
  {
   "cell_type": "code",
   "execution_count": null,
   "metadata": {
    "ExecuteTime": {
     "end_time": "2021-06-01T01:38:08.262885Z",
     "start_time": "2021-06-01T01:38:08.150324Z"
    },
    "tags": []
   },
   "outputs": [],
   "source": [
    "ヒストグラム2次元(D2,周辺分布=True)"
   ]
  },
  {
   "cell_type": "markdown",
   "metadata": {
    "ExecuteTime": {
     "end_time": "2021-05-24T23:20:12.183680Z",
     "start_time": "2021-05-24T23:20:12.165481Z"
    }
   },
   "source": [
    "+ 分割数を増やしてみる: x,y方向それぞれ30等分する."
   ]
  },
  {
   "cell_type": "code",
   "execution_count": null,
   "metadata": {
    "ExecuteTime": {
     "end_time": "2021-06-01T01:38:08.262885Z",
     "start_time": "2021-06-01T01:38:08.150324Z"
    },
    "tags": []
   },
   "outputs": [],
   "source": [
    "ヒストグラム2次元(D2,xビン数=30,yビン数=30)"
   ]
  },
  {
   "cell_type": "markdown",
   "metadata": {
    "tags": []
   },
   "source": [
    "## 密度関数の表示"
   ]
  },
  {
   "cell_type": "markdown",
   "metadata": {},
   "source": [
    "### 等高線"
   ]
  },
  {
   "cell_type": "code",
   "execution_count": null,
   "metadata": {
    "tags": []
   },
   "outputs": [],
   "source": [
    "密度等高線(D2)"
   ]
  },
  {
   "cell_type": "code",
   "execution_count": null,
   "metadata": {
    "tags": []
   },
   "outputs": [],
   "source": [
    "密度等高線(D2,周辺分布=True)"
   ]
  },
  {
   "cell_type": "markdown",
   "metadata": {
    "tags": []
   },
   "source": [
    "### 濃淡で表示"
   ]
  },
  {
   "cell_type": "code",
   "execution_count": null,
   "metadata": {},
   "outputs": [],
   "source": [
    "密度等高線(D2,濃淡=True)"
   ]
  },
  {
   "cell_type": "code",
   "execution_count": null,
   "metadata": {},
   "outputs": [],
   "source": [
    "密度等高線(D2,濃淡=True,ラベル=True)"
   ]
  },
  {
   "cell_type": "markdown",
   "metadata": {
    "tags": []
   },
   "source": [
    "# 実習３ ３次元データ集合の可視化"
   ]
  },
  {
   "cell_type": "markdown",
   "metadata": {
    "tags": []
   },
   "source": [
    "## data 集合 D31 の設定"
   ]
  },
  {
   "cell_type": "code",
   "execution_count": null,
   "metadata": {},
   "outputs": [],
   "source": [
    "D3=readcsv(\"https://ac-net.org/tjst/lct/21/21ds2/dfD72A.csv\")\n",
    "D3"
   ]
  },
  {
   "cell_type": "code",
   "execution_count": null,
   "metadata": {
    "ExecuteTime": {
     "end_time": "2021-06-01T01:38:08.599439Z",
     "start_time": "2021-06-01T01:38:08.592296Z"
    }
   },
   "outputs": [],
   "source": [
    "D3.shape"
   ]
  },
  {
   "cell_type": "markdown",
   "metadata": {
    "tags": []
   },
   "source": [
    "## ３次元プロット"
   ]
  },
  {
   "cell_type": "code",
   "execution_count": null,
   "metadata": {
    "tags": []
   },
   "outputs": [],
   "source": [
    "plot3d(D3[:,:3])"
   ]
  },
  {
   "cell_type": "code",
   "execution_count": null,
   "metadata": {
    "tags": []
   },
   "outputs": [],
   "source": [
    "plot3d(D3[:,:3],color=D3.T[3])"
   ]
  },
  {
   "cell_type": "markdown",
   "metadata": {
    "tags": []
   },
   "source": [
    "## １次元プロット"
   ]
  },
  {
   "cell_type": "code",
   "execution_count": null,
   "metadata": {
    "tags": []
   },
   "outputs": [],
   "source": [
    "show1data([D3.T[0],D3.T[1],D3.T[2]],[\"x\",\"y\",\"z\"],ビンサイズ=0.2,毛=True,ヒストグラム=True,密度=True)"
   ]
  },
  {
   "cell_type": "markdown",
   "metadata": {
    "tags": []
   },
   "source": [
    "## ２変数への射影"
   ]
  },
  {
   "cell_type": "markdown",
   "metadata": {},
   "source": [
    "### x,y成分のプロット"
   ]
  },
  {
   "cell_type": "code",
   "execution_count": null,
   "metadata": {
    "tags": []
   },
   "outputs": [],
   "source": [
    "plot2d(D3.T[[1,2]].T,color=D3.T[3])"
   ]
  },
  {
   "cell_type": "markdown",
   "metadata": {},
   "source": [
    "### 二変数組すべてについてのプロット"
   ]
  },
  {
   "cell_type": "markdown",
   "metadata": {},
   "source": [
    "#### px.scatter_matrix"
   ]
  },
  {
   "cell_type": "code",
   "execution_count": null,
   "metadata": {},
   "outputs": [],
   "source": [
    "二次元散布図(D3[:,:3],color=D3.T[3])"
   ]
  },
  {
   "cell_type": "markdown",
   "metadata": {},
   "source": [
    "#### seaborn.pairplot"
   ]
  },
  {
   "cell_type": "code",
   "execution_count": null,
   "metadata": {},
   "outputs": [],
   "source": [
    "二次元散布図(D3[:,:3],color=D3.T[3],seaborn=True)"
   ]
  },
  {
   "cell_type": "markdown",
   "metadata": {
    "tags": []
   },
   "source": [
    "# <font color=\"green\" size=5>実習4.  4次元データ集合</font>"
   ]
  },
  {
   "cell_type": "markdown",
   "metadata": {
    "tags": []
   },
   "source": [
    "## iris(菖)データ "
   ]
  },
  {
   "cell_type": "markdown",
   "metadata": {},
   "source": [
    "+ plotly にあるデータセット iris を読み込む"
   ]
  },
  {
   "cell_type": "code",
   "execution_count": null,
   "metadata": {
    "ExecuteTime": {
     "end_time": "2021-06-01T01:38:15.047396Z",
     "start_time": "2021-06-01T01:38:15.042819Z"
    }
   },
   "outputs": [],
   "source": [
    "D4=DAyame()\n",
    "D4.shape"
   ]
  },
  {
   "cell_type": "code",
   "execution_count": null,
   "metadata": {},
   "outputs": [],
   "source": [
    "D4[0]"
   ]
  },
  {
   "cell_type": "markdown",
   "metadata": {},
   "source": [
    "+ 最初の４成分が実数、最後のデータがクラスを表している.\n"
   ]
  },
  {
   "cell_type": "code",
   "execution_count": null,
   "metadata": {},
   "outputs": [],
   "source": [
    "D44=D4.T[:4].T"
   ]
  },
  {
   "cell_type": "markdown",
   "metadata": {},
   "source": [
    "+ D44の最初の３成分を表示"
   ]
  },
  {
   "cell_type": "code",
   "execution_count": null,
   "metadata": {},
   "outputs": [],
   "source": [
    "D44[:3]"
   ]
  },
  {
   "cell_type": "markdown",
   "metadata": {},
   "source": [
    "+ DAの第４成分はクラスを表す。これを別のarray にしておく"
   ]
  },
  {
   "cell_type": "code",
   "execution_count": null,
   "metadata": {},
   "outputs": [],
   "source": [
    "D4color=D4.T[4]\n",
    "D4color"
   ]
  },
  {
   "cell_type": "markdown",
   "metadata": {},
   "source": [
    "+ DAcolor の成分を、色に変えておく"
   ]
  },
  {
   "cell_type": "code",
   "execution_count": null,
   "metadata": {},
   "outputs": [],
   "source": [
    "D4color_name=[(lambda x:\"blue\"  if x==1 else \"red\" if x==2 else \"green\")(u) for u in D4color]"
   ]
  },
  {
   "cell_type": "code",
   "execution_count": null,
   "metadata": {},
   "outputs": [],
   "source": [
    "print(D4color_name)"
   ]
  },
  {
   "cell_type": "markdown",
   "metadata": {
    "tags": []
   },
   "source": [
    "## 1次元射影"
   ]
  },
  {
   "cell_type": "markdown",
   "metadata": {},
   "source": [
    "### 単純プロット"
   ]
  },
  {
   "cell_type": "code",
   "execution_count": null,
   "metadata": {},
   "outputs": [],
   "source": [
    "show1data(D44.T,[1,2,3,4],毛=True)"
   ]
  },
  {
   "cell_type": "markdown",
   "metadata": {},
   "source": [
    "### ヒストグラム"
   ]
  },
  {
   "cell_type": "markdown",
   "metadata": {},
   "source": [
    "+ 第一引数は 実習のリストのリスト. DA4.T の形は (4,15) なので、実数のリストが4個ある. それぞれに、名前を1,2,3,4 とつけている"
   ]
  },
  {
   "cell_type": "code",
   "execution_count": null,
   "metadata": {
    "tags": []
   },
   "outputs": [],
   "source": [
    "show1data(D44.T,[1,2,3,4],ヒストグラム=True,ビンサイズ=0.2)"
   ]
  },
  {
   "cell_type": "markdown",
   "metadata": {},
   "source": [
    "### 密度表示"
   ]
  },
  {
   "cell_type": "code",
   "execution_count": null,
   "metadata": {},
   "outputs": [],
   "source": [
    "show1data(D44.T,[1,2,3,4],密度=True)"
   ]
  },
  {
   "cell_type": "markdown",
   "metadata": {},
   "source": [
    "### 以上を同時に表示"
   ]
  },
  {
   "cell_type": "code",
   "execution_count": null,
   "metadata": {},
   "outputs": [],
   "source": [
    "show1data(D44.T,[1,2,3,4],毛=True,ヒストグラム=True,密度=True,ビンサイズ=0.2)"
   ]
  },
  {
   "cell_type": "markdown",
   "metadata": {
    "tags": []
   },
   "source": [
    "## 2次元射影"
   ]
  },
  {
   "cell_type": "markdown",
   "metadata": {},
   "source": [
    "### 1,2成分の表示"
   ]
  },
  {
   "cell_type": "markdown",
   "metadata": {},
   "source": [
    "+ D4.T[-1] は 各データを持つ菖蒲のクラス. 三種類が 1,2,3 と番号つけられている"
   ]
  },
  {
   "cell_type": "markdown",
   "metadata": {},
   "source": [
    "+ クラスによって色を変えて表示する\n",
    "+ D44.T[[0,1]] は、D44.Tの行ベクトル D44.T[0]と D44.T[1]を取り出した 2x150 行列"
   ]
  },
  {
   "cell_type": "code",
   "execution_count": null,
   "metadata": {},
   "outputs": [],
   "source": [
    "plot2d(D44.T[[0,1]].T,color=D4color_name)\n",
    "                        "
   ]
  },
  {
   "cell_type": "markdown",
   "metadata": {
    "tags": []
   },
   "source": [
    "## 全2次元射影"
   ]
  },
  {
   "cell_type": "markdown",
   "metadata": {},
   "source": [
    "+ $4$次正方行列に２次元プロット図と並べる\n",
    "   + 対角成分$(i,i)$には$i$成分の分布\n",
    "   + $(i,j)$($i \\neq j$)成分は、$i,j$成分がつくる２次元データを表示\n"
   ]
  },
  {
   "cell_type": "markdown",
   "metadata": {
    "tags": []
   },
   "source": [
    "### plotly による"
   ]
  },
  {
   "cell_type": "code",
   "execution_count": null,
   "metadata": {},
   "outputs": [],
   "source": [
    "二次元散布図(D44,color=D4color)"
   ]
  },
  {
   "cell_type": "markdown",
   "metadata": {},
   "source": [
    "#### よく分離している対として（0,2)成分を取り出してプロットしてみる"
   ]
  },
  {
   "cell_type": "code",
   "execution_count": null,
   "metadata": {},
   "outputs": [],
   "source": [
    "plot2d(D44.T[[2,0]].T,color=D4color_name)"
   ]
  },
  {
   "cell_type": "markdown",
   "metadata": {},
   "source": [
    "### seaborn による"
   ]
  },
  {
   "cell_type": "code",
   "execution_count": null,
   "metadata": {},
   "outputs": [],
   "source": [
    "二次元散布図(D44,color=D4color_name,seaborn=True)"
   ]
  },
  {
   "cell_type": "markdown",
   "metadata": {
    "tags": []
   },
   "source": [
    "## 3dim射影"
   ]
  },
  {
   "cell_type": "markdown",
   "metadata": {},
   "source": [
    "+ 次は、どの３属性を描くかを、interactive に設定\n",
    "+ 大きな球は描画のためのダミーなので、white をクリックして消してください。"
   ]
  },
  {
   "cell_type": "code",
   "execution_count": null,
   "metadata": {},
   "outputs": [],
   "source": [
    "proj3d()"
   ]
  },
  {
   "cell_type": "markdown",
   "metadata": {
    "tags": []
   },
   "source": [
    "# 個々のデータの、図形による視覚化"
   ]
  },
  {
   "cell_type": "markdown",
   "metadata": {},
   "source": [
    "+ データを点で表現すると、データ同志の違いは位置の違いだけになり、直感的に、各データの「個性」は把握しにくい。\n",
    "+ そのため、個々のデータを図形で表現する方法も役に立つことが多い。方法は無数にあるが、簡単な例を２つ挙げる。"
   ]
  },
  {
   "cell_type": "markdown",
   "metadata": {
    "tags": []
   },
   "source": [
    "## 菖蒲データの関数グラフ表示"
   ]
  },
  {
   "cell_type": "code",
   "execution_count": null,
   "metadata": {
    "ExecuteTime": {
     "end_time": "2021-06-01T01:38:19.009106Z",
     "start_time": "2021-06-01T01:38:18.977545Z"
    }
   },
   "outputs": [],
   "source": [
    "関数表示(D44,color=D4.T[4])"
   ]
  },
  {
   "cell_type": "markdown",
   "metadata": {
    "tags": []
   },
   "source": [
    "## 菖蒲データ集合の長方形表示"
   ]
  },
  {
   "cell_type": "markdown",
   "metadata": {},
   "source": [
    "+ 赤長方形の縦は花弁幅、横は花弁長\n",
    "+ 緑長方形の縦は萼幅、横は萼長\n",
    "\n",
    "<img src=\"https://ac-net.org/tjst/lct/22/ayame_form.png\" width=500>"
   ]
  },
  {
   "cell_type": "markdown",
   "metadata": {
    "tags": []
   },
   "source": [
    "## クリモグラフ"
   ]
  },
  {
   "cell_type": "markdown",
   "metadata": {},
   "source": [
    "+ 東京の各月の平均湿度と平均気温のデータ"
   ]
  },
  {
   "cell_type": "code",
   "execution_count": null,
   "metadata": {},
   "outputs": [],
   "source": [
    "D5=np.array([[54,56,65,66,71,80,77,83,79,82,67,56],[5,6,12,17,20,23,28,27,23,17,12,7]]).T"
   ]
  },
  {
   "cell_type": "markdown",
   "metadata": {},
   "source": [
    "### 横軸を月にして気温と湿度をグラフ表現"
   ]
  },
  {
   "cell_type": "code",
   "execution_count": null,
   "metadata": {},
   "outputs": [],
   "source": [
    "normalgraph(D5)"
   ]
  },
  {
   "cell_type": "markdown",
   "metadata": {},
   "source": [
    "+ 注意. 湿度から50を引いて、気温に近づけておくと関係がわかりやすい"
   ]
  },
  {
   "cell_type": "code",
   "execution_count": null,
   "metadata": {},
   "outputs": [],
   "source": [
    "D5a=np.array([D5.T[0]-50,D5.T[1]]).T\n",
    "normalgraph(D5a)"
   ]
  },
  {
   "cell_type": "markdown",
   "metadata": {},
   "source": [
    "### (湿度,気温)を点にして平面上の折れ線で表現"
   ]
  },
  {
   "cell_type": "code",
   "execution_count": null,
   "metadata": {},
   "outputs": [],
   "source": [
    "climograph(D5)"
   ]
  },
  {
   "cell_type": "markdown",
   "metadata": {},
   "source": [
    "# 演習"
   ]
  },
  {
   "cell_type": "markdown",
   "metadata": {},
   "source": [
    "22ds202e.ipynb へ"
   ]
  }
 ],
 "metadata": {
  "kernelspec": {
   "display_name": "Python 3 (ipykernel)",
   "language": "python",
   "name": "python3"
  },
  "language_info": {
   "codemirror_mode": {
    "name": "ipython",
    "version": 3
   },
   "file_extension": ".py",
   "mimetype": "text/x-python",
   "name": "python",
   "nbconvert_exporter": "python",
   "pygments_lexer": "ipython3",
   "version": "3.9.6"
  },
  "toc": {
   "base_numbering": 1,
   "nav_menu": {},
   "number_sections": true,
   "sideBar": true,
   "skip_h1_title": false,
   "title_cell": "Table of Contents",
   "title_sidebar": "目次",
   "toc_cell": false,
   "toc_position": {
    "height": "153.6px",
    "left": "39px",
    "top": "139.6px",
    "width": "258px"
   },
   "toc_section_display": true,
   "toc_window_display": true
  },
  "toc-autonumbering": false,
  "widgets": {
   "application/vnd.jupyter.widget-state+json": {
    "state": {},
    "version_major": 2,
    "version_minor": 0
   }
  }
 },
 "nbformat": 4,
 "nbformat_minor": 4
}
