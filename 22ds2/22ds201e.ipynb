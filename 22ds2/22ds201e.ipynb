{
  "cells": [
    {
      "cell_type": "markdown",
      "id": "02439b67-a08b-42c0-bc43-9876bac90522",
      "metadata": {
        "jp-MarkdownHeadingCollapsed": true,
        "tags": [],
        "id": "02439b67-a08b-42c0-bc43-9876bac90522"
      },
      "source": [
        "<font size=8>データサイエンスII第１回演習問題</font>\n",
        "\n",
        "<font size=6>2022.4.12</font>"
      ]
    },
    {
      "cell_type": "markdown",
      "id": "16588869-1c8c-46b8-b833-a8f03579f25a",
      "metadata": {
        "id": "16588869-1c8c-46b8-b833-a8f03579f25a"
      },
      "source": [
        "<font size=5>\n",
        "    \n",
        "+ 氏名\n",
        "    \n",
        "+ 学籍番号\n",
        "    \n",
        "</font>    "
      ]
    },
    {
      "cell_type": "markdown",
      "id": "05022347-153a-42f2-afb1-7112ba4fd037",
      "metadata": {
        "jp-MarkdownHeadingCollapsed": true,
        "tags": [],
        "id": "05022347-153a-42f2-afb1-7112ba4fd037"
      },
      "source": [
        "# <font color=\"red\" size=6>最初に次を実行<font>"
      ]
    },
    {
      "cell_type": "code",
      "execution_count": null,
      "id": "46b9bffd-410b-4157-8af3-47d3b4b8bdd5",
      "metadata": {
        "id": "46b9bffd-410b-4157-8af3-47d3b4b8bdd5"
      },
      "outputs": [],
      "source": [
        "import numpy as np\n",
        "import plotly.express as px\n",
        "\n",
        "# 実数集合Dの表示\n",
        "def plot1d(D,width=600,height=300):\n",
        "    import plotly.express as px\n",
        "    import numpy as np\n",
        "    fig=px.scatter(x=D,y=np.zeros(len(D)))\n",
        "    fig.update_layout(width=width,height=height)\n",
        "    fig.show()\n",
        "    \n",
        "\n",
        "# 実数集合Dを、t未満とt以上で色を変えて表示    \n",
        "def plot1d2(D,t,width=600,height=300):\n",
        "    import plotly.express as px\n",
        "    import numpy as np\n",
        "    color=[(lambda x:\"blue\" if x<t else \"red\")(u) for u in D]\n",
        "    fig=px.scatter(x=D,y=np.zeros(len(D)),color=color)\n",
        "    fig.add_scatter(x=[t],y=[0])\n",
        "    fig.update_layout(width=width,height=height)\n",
        "    fig.show()\n",
        "    \n",
        "# １変数関数のグラフ表示, flist は表示する関数のリスト、labels はそれぞれのラベル, xrange はxの動く範囲\n",
        "def showgraph(flist,labels,xrange=[0,1],K=50):\n",
        "    import plotly.graph_objects as go\n",
        "    import numpy as np\n",
        "    fig = go.Figure()\n",
        "    tmin,tmax=xrange\n",
        "    ts=np.linspace(tmin,tmax,K)\n",
        "    for i in range(len(flist)):\n",
        "        fig.add_trace(go.Scatter(x=ts, y=[flist[i](t) for t in ts], name=labels[i]))\n",
        "    if len(flist)==1:\n",
        "        fig.update_layout(title=labels[0])\n",
        "    fig.update_layout(width=600,height=600)\n",
        "\n",
        "    fig.show() \n",
        "\n",
        "# ２変数関数fのグラフを表示\n",
        "def showgraph2(f,xrange=[-1,1],yrange=[-1,1],K=50,opacity=0.5):\n",
        "    import numpy as np\n",
        "    import plotly.graph_objects as go\n",
        "    xmin,xmax=xrange\n",
        "    ymin,ymax=yrange\n",
        "    a0=np.linspace(xmin,xmax,K)\n",
        "    b0=np.linspace(ymin,ymax,K)\n",
        "    xx,yy=np.meshgrid(a0,b0)\n",
        "    F=go.Figure()\n",
        "    F.add_surface(x=xx,y=yy,z=f(xx,yy),opacity=opacity)  \n",
        "    F.update_layout(width=600,height=600)\n",
        "    F.show()\n",
        "\n",
        "def toukousen(f,xrange=[0,1],yrange=[0,1],T=20,start=0,end=1,size=1):\n",
        "    import numpy as np\n",
        "    import plotly.graph_objects as go\n",
        "    xmin,xmax=xrange\n",
        "    ymin,ymax=yrange\n",
        "    a0=np.linspace(xmin,xmax,T)\n",
        "    b0=np.linspace(ymin,ymax,T)\n",
        "    x,y=np.meshgrid(a0,b0)\n",
        "    F=go.Figure()\n",
        "    F.add_contour(x=a0,y=b0,z=f(x,y),colorscale=\"oranges\",\n",
        "        contours=dict(\n",
        "            start=start, #2 等高線の高さの最小値\n",
        "            end=end,    #3 等高線の高さの最大値\n",
        "            size=size, #4 描く間隔\n",
        "            coloring='lines',\n",
        "            showlabels=True\n",
        "        ))\n",
        "    F.update_yaxes(scaleanchor=\"x\", scaleratio=1)\n",
        "    F.update_layout(width=600,height=600)\n",
        "    F.show()\n",
        "def heikin(D):    \n",
        "    return sum(D)/len(D)\n",
        "def bunsan(D):\n",
        "    if len(D)>0:\n",
        "        m=heikin(D)\n",
        "        return sum((D-m)**2)/len(D)\n",
        "    else:\n",
        "        return 0\n",
        "def mode(D):\n",
        "    D=sorted(D)\n",
        "    k=len(D)//2\n",
        "    if len(D)%2==1:\n",
        "        return D[k]\n",
        "    else:\n",
        "        return (D[k-1]+D[k])/2.\n",
        "def l1bunsan(D):\n",
        "    if len(D)>0:\n",
        "        m=mode(D)\n",
        "        return sum(abs(D-m))\n",
        "    else:\n",
        "        return 0"
      ]
    },
    {
      "cell_type": "markdown",
      "id": "42b1a51f-ff56-47ce-a7ac-bf6f97ec79b8",
      "metadata": {
        "tags": [],
        "id": "42b1a51f-ff56-47ce-a7ac-bf6f97ec79b8"
      },
      "source": [
        "<hr>\n",
        "<center><font size=8 color=\"blue\">実数データ集合を１点で近似</font></center>\n",
        "<hr>"
      ]
    },
    {
      "cell_type": "markdown",
      "id": "efab50c6-a9fb-4428-a4e7-3fe2e7c71e7a",
      "metadata": {
        "tags": [],
        "id": "efab50c6-a9fb-4428-a4e7-3fe2e7c71e7a"
      },
      "source": [
        "# 1 <font color=\"red\">演習1.$D=\\{1,2,3,4,7,8,15,30\\}$ を $L_2$ 誤差について最良近似する$1$実数を求めよ.</font>"
      ]
    },
    {
      "cell_type": "markdown",
      "id": "07692d8d-4231-43a2-a1c2-636806e5de1a",
      "metadata": {
        "id": "07692d8d-4231-43a2-a1c2-636806e5de1a"
      },
      "source": [
        "## 1.1 データ設定"
      ]
    },
    {
      "cell_type": "code",
      "execution_count": null,
      "id": "9f30ca29-750f-4553-ad04-e6517535a3e4",
      "metadata": {
        "id": "9f30ca29-750f-4553-ad04-e6517535a3e4"
      },
      "outputs": [],
      "source": [
        ""
      ]
    },
    {
      "cell_type": "markdown",
      "id": "36e0b74a-38d0-4733-9ca3-413e9d341050",
      "metadata": {
        "id": "36e0b74a-38d0-4733-9ca3-413e9d341050"
      },
      "source": [
        "## 1.2 エラー関数の定義"
      ]
    },
    {
      "cell_type": "markdown",
      "id": "88d5f20d-8974-40c8-83f0-56557421f02b",
      "metadata": {
        "id": "88d5f20d-8974-40c8-83f0-56557421f02b"
      },
      "source": [
        "+ 範囲を max(D)=30 が含まれるよう [0,32]にする."
      ]
    },
    {
      "cell_type": "code",
      "execution_count": null,
      "id": "a2c1e54f-a86b-4287-9e74-47c4ae441149",
      "metadata": {
        "id": "a2c1e54f-a86b-4287-9e74-47c4ae441149"
      },
      "outputs": [],
      "source": [
        ""
      ]
    },
    {
      "cell_type": "markdown",
      "id": "04eb5f3c-56ed-4de4-b5ab-d66a2c0a790f",
      "metadata": {
        "id": "04eb5f3c-56ed-4de4-b5ab-d66a2c0a790f"
      },
      "source": [
        "## 1.3 エラー関数の描画"
      ]
    },
    {
      "cell_type": "markdown",
      "id": "d9c322bf-fa54-4ca1-a32e-167ab2d64db0",
      "metadata": {
        "id": "d9c322bf-fa54-4ca1-a32e-167ab2d64db0"
      },
      "source": [
        "+ 範囲を max(D)=30 が含まれるよう [0,32]にする."
      ]
    },
    {
      "cell_type": "code",
      "execution_count": null,
      "id": "3c9efa33-d1cf-44c1-8e8d-020a8a4311f5",
      "metadata": {
        "id": "3c9efa33-d1cf-44c1-8e8d-020a8a4311f5"
      },
      "outputs": [],
      "source": [
        ""
      ]
    },
    {
      "cell_type": "markdown",
      "id": "a26223cb-3d52-4ed3-abcd-4298dade3a28",
      "metadata": {
        "id": "a26223cb-3d52-4ed3-abcd-4298dade3a28"
      },
      "source": [
        "## 1.4 数式処理で最小化を行う"
      ]
    },
    {
      "cell_type": "code",
      "execution_count": null,
      "id": "bb31e144-a9cb-45c6-9365-3a4fcc2d5e8a",
      "metadata": {
        "id": "bb31e144-a9cb-45c6-9365-3a4fcc2d5e8a"
      },
      "outputs": [],
      "source": [
        ""
      ]
    },
    {
      "cell_type": "markdown",
      "id": "10144fd5-6116-4506-91a2-cd368f1bd93d",
      "metadata": {
        "id": "10144fd5-6116-4506-91a2-cd368f1bd93d"
      },
      "source": [
        "## 1.5 aは平均値、gosa2(a,D)は分散であることを確認 "
      ]
    },
    {
      "cell_type": "code",
      "execution_count": null,
      "id": "b0306408-77cc-4d3b-b2e8-1b58bfcf755a",
      "metadata": {
        "id": "b0306408-77cc-4d3b-b2e8-1b58bfcf755a"
      },
      "outputs": [],
      "source": [
        ""
      ]
    },
    {
      "cell_type": "markdown",
      "id": "bab3ab99-0326-4cce-8c25-65b03f6176a8",
      "metadata": {
        "tags": [],
        "id": "bab3ab99-0326-4cce-8c25-65b03f6176a8"
      },
      "source": [
        "# 2 <font color=\"red\">演習2. $D$ を $L_1$ 誤差について最良近似する$1$実数を求めよ.</font>"
      ]
    },
    {
      "cell_type": "markdown",
      "id": "64b529d2-0308-40c3-be47-61c8960223b6",
      "metadata": {
        "id": "64b529d2-0308-40c3-be47-61c8960223b6"
      },
      "source": [
        "## 2.1 誤差関数の定義"
      ]
    },
    {
      "cell_type": "code",
      "execution_count": null,
      "id": "e6b7b7ef-8b0c-48cb-a55f-41642c8b4390",
      "metadata": {
        "id": "e6b7b7ef-8b0c-48cb-a55f-41642c8b4390"
      },
      "outputs": [],
      "source": [
        ""
      ]
    },
    {
      "cell_type": "markdown",
      "id": "7b332faf-6da9-4eda-ba29-95ec53487922",
      "metadata": {
        "id": "7b332faf-6da9-4eda-ba29-95ec53487922",
        "tags": []
      },
      "source": [
        "## 2.2 誤差関数のグラフ"
      ]
    },
    {
      "cell_type": "markdown",
      "id": "9ed4d413-c029-487a-822b-c946ef31f427",
      "metadata": {
        "id": "9ed4d413-c029-487a-822b-c946ef31f427"
      },
      "source": [
        "+ 範囲を max(D)=30 が含まれるよう [0,32]にする."
      ]
    },
    {
      "cell_type": "code",
      "execution_count": null,
      "id": "486b0221-bdf2-4af2-b813-3d9708e952e6",
      "metadata": {
        "id": "486b0221-bdf2-4af2-b813-3d9708e952e6"
      },
      "outputs": [],
      "source": [
        ""
      ]
    },
    {
      "cell_type": "markdown",
      "id": "2409047d-3096-43be-ac9c-9ea6f23a3c85",
      "metadata": {
        "id": "2409047d-3096-43be-ac9c-9ea6f23a3c85"
      },
      "source": [
        "## 2.3 数値微分のグラフ表示"
      ]
    },
    {
      "cell_type": "markdown",
      "id": "e72e7e3f-c337-4eb6-8f20-0a9a732f26e1",
      "metadata": {
        "id": "e72e7e3f-c337-4eb6-8f20-0a9a732f26e1"
      },
      "source": [
        "+ 範囲を max(D)=30 が含まれるよう [0,32]にする."
      ]
    },
    {
      "cell_type": "code",
      "execution_count": null,
      "id": "17f3cc53-e17e-42f6-96bc-82ceb1d0bd2c",
      "metadata": {
        "id": "17f3cc53-e17e-42f6-96bc-82ceb1d0bd2c"
      },
      "outputs": [],
      "source": [
        ""
      ]
    },
    {
      "cell_type": "markdown",
      "id": "755cfe28-1320-4f2a-8bd3-70b4cd21eb28",
      "metadata": {
        "id": "755cfe28-1320-4f2a-8bd3-70b4cd21eb28"
      },
      "source": [
        "## 2.4 これより、最小値を求めよ."
      ]
    },
    {
      "cell_type": "code",
      "execution_count": null,
      "id": "d76109c7-a602-4802-97af-57185a055c4f",
      "metadata": {
        "id": "d76109c7-a602-4802-97af-57185a055c4f"
      },
      "outputs": [],
      "source": [
        ""
      ]
    },
    {
      "cell_type": "markdown",
      "id": "5c787b74-fc41-48e2-8852-d179011f971c",
      "metadata": {
        "id": "5c787b74-fc41-48e2-8852-d179011f971c"
      },
      "source": [
        "## 2.5 (任意課題) 一般に$D$の中央値が$L_1$誤差を最小にすることを証明せよ."
      ]
    },
    {
      "cell_type": "markdown",
      "id": "a3ac1215-e49b-4435-8a98-21c9c7c1bde9",
      "metadata": {
        "id": "a3ac1215-e49b-4435-8a98-21c9c7c1bde9"
      },
      "source": [
        ""
      ]
    },
    {
      "cell_type": "markdown",
      "id": "630b99b7-d34c-4cce-9c6f-0d0147b907a1",
      "metadata": {
        "tags": [],
        "id": "630b99b7-d34c-4cce-9c6f-0d0147b907a1"
      },
      "source": [
        "<hr>\n",
        "<center><font size=8 color=\"blue\">実数データ集合を２点で近似</font></center>\n",
        "<hr>"
      ]
    },
    {
      "cell_type": "markdown",
      "id": "feeda7a5-6bb2-4b74-b256-34e3ed351a9a",
      "metadata": {
        "tags": [],
        "id": "feeda7a5-6bb2-4b74-b256-34e3ed351a9a"
      },
      "source": [
        "# 3 <font color=\"red\">演習3  実数データ集合を２点で近似<font>"
      ]
    },
    {
      "cell_type": "markdown",
      "id": "54cb2b3d-f781-4848-84ff-a06f46ff5b8f",
      "metadata": {
        "id": "54cb2b3d-f781-4848-84ff-a06f46ff5b8f"
      },
      "source": [
        "+ $D$ を$L_2$誤差について最良近似する２実数を求めよ."
      ]
    },
    {
      "cell_type": "markdown",
      "id": "3172a274-05c4-40b4-ad4c-6a65343f8fae",
      "metadata": {
        "id": "3172a274-05c4-40b4-ad4c-6a65343f8fae"
      },
      "source": [
        "## 3.1 誤差関数の定義"
      ]
    },
    {
      "cell_type": "code",
      "execution_count": null,
      "id": "a1384068-2efc-4ab9-84c0-45e13b1b7ac5",
      "metadata": {
        "id": "a1384068-2efc-4ab9-84c0-45e13b1b7ac5"
      },
      "outputs": [],
      "source": [
        ""
      ]
    },
    {
      "cell_type": "markdown",
      "id": "d2fcdb1d-d829-4520-8b04-a82976595cd8",
      "metadata": {
        "id": "d2fcdb1d-d829-4520-8b04-a82976595cd8"
      },
      "source": [
        "## 3.2 誤差関数のグラフ"
      ]
    },
    {
      "cell_type": "markdown",
      "id": "7e82f606-7a53-4520-a7ed-62e4d405542f",
      "metadata": {
        "id": "7e82f606-7a53-4520-a7ed-62e4d405542f"
      },
      "source": [
        "+ 範囲を max(D)=30 が含まれるよう [0,30]x[0,30] にする. マウスを動かし誤差値( z値)がどの程度かを観察する."
      ]
    },
    {
      "cell_type": "code",
      "execution_count": null,
      "id": "420b76f6-14cb-40ee-8bae-24459746c685",
      "metadata": {
        "id": "420b76f6-14cb-40ee-8bae-24459746c685"
      },
      "outputs": [],
      "source": [
        ""
      ]
    },
    {
      "cell_type": "markdown",
      "id": "0e972b59-16f8-4891-9de7-cbf8bf621b7f",
      "metadata": {
        "id": "0e972b59-16f8-4891-9de7-cbf8bf621b7f"
      },
      "source": [
        "### 3.2.1 関数の等高線表示(変更なし)"
      ]
    },
    {
      "cell_type": "markdown",
      "id": "6e24654c-712d-4f4e-afb3-778d80c2d487",
      "metadata": {
        "id": "6e24654c-712d-4f4e-afb3-778d80c2d487"
      },
      "source": [
        "+ 範囲は [0,40]x[0,40], start=100, end=200,size=10,T=100 から始め、絞り込む"
      ]
    },
    {
      "cell_type": "code",
      "execution_count": null,
      "id": "51eea1e6-4b17-402f-974b-946adbf57147",
      "metadata": {
        "id": "51eea1e6-4b17-402f-974b-946adbf57147"
      },
      "outputs": [],
      "source": [
        ""
      ]
    },
    {
      "cell_type": "markdown",
      "id": "a16a4313-db43-4108-9ef8-b96983054802",
      "metadata": {
        "id": "a16a4313-db43-4108-9ef8-b96983054802"
      },
      "source": [
        "これより、最小値を与える$a<b$の近似値として以下が求まる"
      ]
    },
    {
      "cell_type": "code",
      "execution_count": null,
      "id": "133021e6-5293-4eff-91e1-0d7d269a385f",
      "metadata": {
        "id": "133021e6-5293-4eff-91e1-0d7d269a385f"
      },
      "outputs": [],
      "source": [
        "a=\n",
        "b="
      ]
    },
    {
      "cell_type": "markdown",
      "id": "72e17b21-94b4-42b8-b4c1-f16a1db5dabc",
      "metadata": {
        "tags": [],
        "id": "72e17b21-94b4-42b8-b4c1-f16a1db5dabc"
      },
      "source": [
        "# 4 発展演習.分割法で$L_2$に関する問題2を解く"
      ]
    },
    {
      "cell_type": "markdown",
      "id": "300ff34e-a450-48e9-990e-5af78034e0c3",
      "metadata": {
        "id": "300ff34e-a450-48e9-990e-5af78034e0c3"
      },
      "source": [
        "## 4.1 誤差関数の定義とグラフ"
      ]
    },
    {
      "cell_type": "markdown",
      "id": "7bd053b6-0174-4aa2-942b-c716af33c791",
      "metadata": {
        "id": "7bd053b6-0174-4aa2-942b-c716af33c791"
      },
      "source": [
        "+ 範囲を max(D)=30 が含まれるよう [0,32]にする."
      ]
    },
    {
      "cell_type": "code",
      "execution_count": null,
      "id": "e7951ac2-d909-4458-9634-961fa04bfcbe",
      "metadata": {
        "id": "e7951ac2-d909-4458-9634-961fa04bfcbe"
      },
      "outputs": [],
      "source": [
        ""
      ]
    },
    {
      "cell_type": "markdown",
      "id": "deba2af2-c175-4607-a0df-590af5304556",
      "metadata": {
        "id": "deba2af2-c175-4607-a0df-590af5304556"
      },
      "source": [
        "## 4.2 解答"
      ]
    },
    {
      "cell_type": "markdown",
      "id": "7aa3643b-7197-4093-adb6-b521c93a3ec8",
      "metadata": {
        "id": "7aa3643b-7197-4093-adb6-b521c93a3ec8"
      },
      "source": [
        "gosaA2を最小化するtにより次のグループ分けが得らる、"
      ]
    },
    {
      "cell_type": "code",
      "execution_count": null,
      "id": "359daaac-fd05-4665-8092-e52a85abf8c2",
      "metadata": {
        "id": "359daaac-fd05-4665-8092-e52a85abf8c2"
      },
      "outputs": [],
      "source": [
        "D1=[...]\n",
        "D2=[...]"
      ]
    },
    {
      "cell_type": "markdown",
      "id": "3171e741-efef-406f-abbf-ef5a68a80e67",
      "metadata": {
        "id": "3171e741-efef-406f-abbf-ef5a68a80e67"
      },
      "source": [
        "これより、次のa,bが gosa2 を最小化することがわかる."
      ]
    },
    {
      "cell_type": "code",
      "execution_count": null,
      "id": "2e0a93a0-6e00-446e-b0b3-33d1a8cd543d",
      "metadata": {
        "id": "2e0a93a0-6e00-446e-b0b3-33d1a8cd543d"
      },
      "outputs": [],
      "source": [
        "a=\n",
        "b="
      ]
    },
    {
      "cell_type": "code",
      "execution_count": null,
      "id": "a242174c-3ef8-42c4-a0d0-2638af9d61c2",
      "metadata": {
        "jupyter": {
          "source_hidden": true
        },
        "tags": [],
        "id": "a242174c-3ef8-42c4-a0d0-2638af9d61c2"
      },
      "outputs": [],
      "source": [
        "gosa2(a,b)"
      ]
    },
    {
      "cell_type": "markdown",
      "id": "b1380693-c666-426e-b090-c33db4bd0931",
      "metadata": {
        "tags": [],
        "id": "b1380693-c666-426e-b090-c33db4bd0931"
      },
      "source": [
        "# 5 発展演習.分割法で$L_1$に関する問題2を解く"
      ]
    },
    {
      "cell_type": "markdown",
      "id": "0b5220a7-1aa0-4c2e-9d12-b3314bca9eaf",
      "metadata": {
        "id": "0b5220a7-1aa0-4c2e-9d12-b3314bca9eaf"
      },
      "source": [
        "## 5.1 誤差関数の定義とグラフ"
      ]
    },
    {
      "cell_type": "markdown",
      "id": "c74618fb-f200-4d7b-b9eb-0e9e4fe07cc8",
      "metadata": {
        "id": "c74618fb-f200-4d7b-b9eb-0e9e4fe07cc8"
      },
      "source": [
        "+ 範囲を max(D)=30 が含まれるよう [0,32]にする."
      ]
    },
    {
      "cell_type": "code",
      "execution_count": null,
      "id": "6ea1dc04-f79a-4857-8bf9-fef505088cac",
      "metadata": {
        "id": "6ea1dc04-f79a-4857-8bf9-fef505088cac"
      },
      "outputs": [],
      "source": [
        ""
      ]
    },
    {
      "cell_type": "markdown",
      "id": "9040212c-ca40-405b-8690-bf7ecd0933f1",
      "metadata": {
        "id": "9040212c-ca40-405b-8690-bf7ecd0933f1"
      },
      "source": [
        "## 5.2 解答"
      ]
    },
    {
      "cell_type": "markdown",
      "id": "fdeca419-3d57-4b21-98d6-d167de68c0aa",
      "metadata": {
        "id": "fdeca419-3d57-4b21-98d6-d167de68c0aa"
      },
      "source": [
        "gosaA1を最小化するtにより次のグループ分けが得らる、"
      ]
    },
    {
      "cell_type": "code",
      "execution_count": null,
      "id": "2fc374c1-c97c-4311-9f9b-a88ca3a0e710",
      "metadata": {
        "id": "2fc374c1-c97c-4311-9f9b-a88ca3a0e710"
      },
      "outputs": [],
      "source": [
        "D1=[...]\n",
        "D2=[...]"
      ]
    },
    {
      "cell_type": "markdown",
      "id": "e8da58e5-b295-4859-894d-d521c3ac7463",
      "metadata": {
        "id": "e8da58e5-b295-4859-894d-d521c3ac7463"
      },
      "source": [
        "これより、次のa,bが gosa1 を最小化することがわかる."
      ]
    },
    {
      "cell_type": "code",
      "execution_count": null,
      "id": "af5f5eba-577f-443c-8e75-a5245b70e617",
      "metadata": {
        "id": "af5f5eba-577f-443c-8e75-a5245b70e617"
      },
      "outputs": [],
      "source": [
        "a=\n",
        "b="
      ]
    },
    {
      "cell_type": "code",
      "execution_count": null,
      "id": "28284450-5c15-4bb6-9262-d18e6676613e",
      "metadata": {
        "tags": [],
        "id": "28284450-5c15-4bb6-9262-d18e6676613e"
      },
      "outputs": [],
      "source": [
        "gosa2(a,b)"
      ]
    }
  ],
  "metadata": {
    "kernelspec": {
      "display_name": "Python 3 (ipykernel)",
      "language": "python",
      "name": "python3"
    },
    "language_info": {
      "codemirror_mode": {
        "name": "ipython",
        "version": 3
      },
      "file_extension": ".py",
      "mimetype": "text/x-python",
      "name": "python",
      "nbconvert_exporter": "python",
      "pygments_lexer": "ipython3",
      "version": "3.9.10"
    },
    "toc-autonumbering": false,
    "colab": {
      "name": "22ds201e.ipynb",
      "provenance": []
    }
  },
  "nbformat": 4,
  "nbformat_minor": 5
}