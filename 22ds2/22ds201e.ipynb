{
 "cells": [
  {
   "cell_type": "markdown",
   "id": "02439b67-a08b-42c0-bc43-9876bac90522",
   "metadata": {
    "jp-MarkdownHeadingCollapsed": true,
    "tags": []
   },
   "source": [
    "<font size=8>データサイエンスII第１回演習問題</font>\n",
    "\n",
    "<font size=6>2022.4.12</font>"
   ]
  },
  {
   "cell_type": "markdown",
   "id": "16588869-1c8c-46b8-b833-a8f03579f25a",
   "metadata": {},
   "source": [
    "<font size=5>\n",
    "    \n",
    "+ 氏名\n",
    "    \n",
    "+ 学籍番号\n",
    "    \n",
    "</font>    "
   ]
  },
  {
   "cell_type": "markdown",
   "id": "05022347-153a-42f2-afb1-7112ba4fd037",
   "metadata": {},
   "source": [
    "<hr><font color=\"red\" size=6>最初に次を実行<font>"
   ]
  },
  {
   "cell_type": "code",
   "execution_count": null,
   "id": "4a00b2fb-4a6c-4759-bf31-452e35f575ec",
   "metadata": {},
   "outputs": [],
   "source": [
    "import numpy as np\n",
    "\n",
    "def showgraph(flist,labels,xrange=[0,1],K=50):\n",
    "    import plotly.graph_objects as go\n",
    "    import numpy as np\n",
    "    fig = go.Figure()\n",
    "    tmin,tmax=xrange\n",
    "    ts=np.linspace(tmin,tmax,K)\n",
    "    for i in range(len(flist)):\n",
    "        fig.add_trace(go.Scatter(x=ts, y=[flist[i](t) for t in ts], name=labels[i]))\n",
    "    if len(flist)==1:\n",
    "        fig.update_layout(title=labels[0])\n",
    "    fig.show() \n",
    "def showgraph2(f,xrange=[-1,1],yrange=[-1,1],K=50,opacity=0.5):\n",
    "    import numpy as np\n",
    "    import plotly.graph_objects as go\n",
    "    xmin,xmax=xrange\n",
    "    ymin,ymax=yrange\n",
    "    a0=np.linspace(xmin,xmax,K)\n",
    "    b0=np.linspace(ymin,ymax,K)\n",
    "    xx,yy=np.meshgrid(a0,b0)\n",
    "    F=go.Figure()\n",
    "    F.add_surface(x=xx,y=yy,z=f(xx,yy),opacity=opacity)   \n",
    "    F.show()\n",
    "def toukousen(f,xrange=[0,1],yrange=[0,1],T=20,start=0,end=0,size=1):\n",
    "    import numpy as np\n",
    "    import plotly.graph_objects as go\n",
    "    xmin,xmax=xrange\n",
    "    ymin,ymax=yrange\n",
    "    a0=np.linspace(xmin,xmax,T)\n",
    "    b0=np.linspace(ymin,ymax,T)\n",
    "    x,y=np.meshgrid(a0,b0)\n",
    "    F=go.Figure()\n",
    "    F.add_contour(x=a0,y=b0,z=f(x,y),colorscale=\"oranges\",\n",
    "        contours=dict(\n",
    "            start=start, #2等高線の高さの最小値\n",
    "            end=end,    #3等高線の高さの最大値\n",
    "            size=size, #4描く間隔\n",
    "            coloring='lines',\n",
    "            showlabels=True\n",
    "        ))\n",
    "    F.update_yaxes(scaleanchor=\"x\", scaleratio=1)\n",
    "    F.show()\n",
    "def heikin(D):    \n",
    "    return sum(D)/len(D)\n",
    "def bunsan(D):\n",
    "    if len(D)>0:\n",
    "        m=heikin(D)\n",
    "        return sum((D-m)**2)\n",
    "    else:\n",
    "        return 0\n",
    "def mode(D):\n",
    "    D=sorted(D)\n",
    "    k=len(D)//2\n",
    "    if len(D)%2==1:\n",
    "        return D[k]\n",
    "    else:\n",
    "        return (D[k-1]+D[k])/2.\n",
    "def l1bunsan(D):\n",
    "    if len(D)>0:\n",
    "        m=mode(D)\n",
    "        return sum(abs(D-m))\n",
    "    else:\n",
    "        return 0"
   ]
  },
  {
   "cell_type": "markdown",
   "id": "42b1a51f-ff56-47ce-a7ac-bf6f97ec79b8",
   "metadata": {
    "tags": []
   },
   "source": [
    "<hr>\n",
    "<center><font size=8 color=\"blue\">実数データ集合を１点で近似</font></center>\n",
    "<hr>"
   ]
  },
  {
   "cell_type": "markdown",
   "id": "efab50c6-a9fb-4428-a4e7-3fe2e7c71e7a",
   "metadata": {
    "tags": []
   },
   "source": [
    "# 1 <font color=\"red\">演習1.$D=\\{1,2,3,4,7,8,15,30\\}$ を $L_2$ 誤差について最良近似する$1$実数を求めよ.</font>"
   ]
  },
  {
   "cell_type": "markdown",
   "id": "07692d8d-4231-43a2-a1c2-636806e5de1a",
   "metadata": {},
   "source": [
    "## 1.1 データ設定(...部分を自分で入力)"
   ]
  },
  {
   "cell_type": "code",
   "execution_count": null,
   "id": "b512984f-20be-41b3-9b28-d59a8b09d827",
   "metadata": {
    "id": "oW2vyuqC6YwE"
   },
   "outputs": [],
   "source": [
    "D=np.array([...])"
   ]
  },
  {
   "cell_type": "markdown",
   "id": "36e0b74a-38d0-4733-9ca3-413e9d341050",
   "metadata": {},
   "source": [
    "## 1.2 エラー関数の定義(変更なし)"
   ]
  },
  {
   "cell_type": "code",
   "execution_count": null,
   "id": "92fb3ba4-5576-4fe3-85dd-9d6debd64922",
   "metadata": {
    "id": "UQdcy62f6YwE"
   },
   "outputs": [],
   "source": [
    "def gosa2(x,D):\n",
    "    return sum([(x-d)**2 for d in D]) "
   ]
  },
  {
   "cell_type": "markdown",
   "id": "04eb5f3c-56ed-4de4-b5ab-d66a2c0a790f",
   "metadata": {},
   "source": [
    "## 1.3 エラー関数の描画(変更なし)"
   ]
  },
  {
   "cell_type": "code",
   "execution_count": null,
   "id": "e946a2ff-beb4-4c1d-a527-9846f7288f2a",
   "metadata": {},
   "outputs": [],
   "source": [
    "gosa2D=lambda t:gosa2(t,D)"
   ]
  },
  {
   "cell_type": "code",
   "execution_count": null,
   "id": "ddfe6ccc-f365-4e5a-aa21-adcd1cd9b533",
   "metadata": {},
   "outputs": [],
   "source": [
    "showgraph([gosa2D],[\"L2誤差\"],[0,10])"
   ]
  },
  {
   "cell_type": "markdown",
   "id": "a26223cb-3d52-4ed3-abcd-4298dade3a28",
   "metadata": {
    "id": "67kemIA06YwG"
   },
   "source": [
    "## 1.4 数式処理で最小化を行う(変更なし)"
   ]
  },
  {
   "cell_type": "code",
   "execution_count": null,
   "id": "cd5598b1-5ac4-404c-b96c-77acb9d7a3da",
   "metadata": {
    "ExecuteTime": {
     "end_time": "2021-07-30T04:52:51.427381Z",
     "start_time": "2021-07-30T04:52:51.423757Z"
    },
    "id": "Tlg-3TVO6YwG",
    "tags": []
   },
   "outputs": [],
   "source": [
    "import sympy as sy\n",
    "from sympy.abc import a"
   ]
  },
  {
   "cell_type": "code",
   "execution_count": null,
   "id": "e0eb85b6-3324-4434-a5d3-af6ef20c9ed4",
   "metadata": {},
   "outputs": [],
   "source": [
    "gosa2D=gosa2(a,D)\n",
    "gosa2D"
   ]
  },
  {
   "cell_type": "code",
   "execution_count": null,
   "id": "27b9ed1e-56dd-43f0-a280-871c2ed1ba48",
   "metadata": {
    "colab": {
     "base_uri": "https://localhost:8080/",
     "height": 192
    },
    "id": "PMhn5Tjp6YwH",
    "outputId": "e0464912-0b2d-49b0-fc6c-c56e1de9b389"
   },
   "outputs": [],
   "source": [
    "sol=sy.solve(gosa2D.diff(a),a)\n",
    "a=sol[0]\n",
    "a.n(10)"
   ]
  },
  {
   "cell_type": "markdown",
   "id": "10144fd5-6116-4506-91a2-cd368f1bd93d",
   "metadata": {},
   "source": [
    "## 1.5 aは平均値、gosa2(a,D)は分散であることを確認 "
   ]
  },
  {
   "cell_type": "code",
   "execution_count": null,
   "id": "a2f3616a-504d-4595-801f-cccf33bcb724",
   "metadata": {},
   "outputs": [],
   "source": [
    "a.n(10),heikin(D)"
   ]
  },
  {
   "cell_type": "code",
   "execution_count": null,
   "id": "673c2ace-26c3-47f7-9427-29d67b6aa1cd",
   "metadata": {},
   "outputs": [],
   "source": [
    "gosa2(a,D).n(10),bunsan(D)"
   ]
  },
  {
   "cell_type": "markdown",
   "id": "bab3ab99-0326-4cce-8c25-65b03f6176a8",
   "metadata": {
    "tags": []
   },
   "source": [
    "# 2 <font color=\"red\">演習2. $D$ を $L_1$ 誤差について最良近似する$1$実数を求めよ.</font>"
   ]
  },
  {
   "cell_type": "markdown",
   "id": "64b529d2-0308-40c3-be47-61c8960223b6",
   "metadata": {},
   "source": [
    "## 2.1 誤差関数の定義(変更なし)"
   ]
  },
  {
   "cell_type": "code",
   "execution_count": null,
   "id": "6812bf79-0932-47bd-9098-d72d86c5b6b4",
   "metadata": {
    "id": "_CQA4PCa6YwJ",
    "tags": []
   },
   "outputs": [],
   "source": [
    "def gosa1(x,D):\n",
    "    return sum([abs(x-d) for d in D])"
   ]
  },
  {
   "cell_type": "markdown",
   "id": "7b332faf-6da9-4eda-ba29-95ec53487922",
   "metadata": {
    "id": "yenUC8U66YwK",
    "tags": []
   },
   "source": [
    "## 2.2 誤差関数のグラフ(変更なし)"
   ]
  },
  {
   "cell_type": "code",
   "execution_count": null,
   "id": "8cf7f386-24d0-4cd4-9272-402e86cb63ef",
   "metadata": {},
   "outputs": [],
   "source": [
    "gosa1D=lambda t:gosa1(t,D)\n",
    "showgraph([gosa1D],[\"L1誤差\"],[0,10],K=1000)"
   ]
  },
  {
   "cell_type": "markdown",
   "id": "2409047d-3096-43be-ac9c-9ea6f23a3c85",
   "metadata": {},
   "source": [
    "## 2.3 数値微分(変更なし)"
   ]
  },
  {
   "cell_type": "code",
   "execution_count": null,
   "id": "e756cb9b-d240-446a-852d-9d019a9843f2",
   "metadata": {},
   "outputs": [],
   "source": [
    "gosa1D=lambda x:gosa1(x,D)"
   ]
  },
  {
   "cell_type": "code",
   "execution_count": null,
   "id": "1345b4a1-d461-40cb-ad49-0d9846037f5f",
   "metadata": {},
   "outputs": [],
   "source": [
    "Dgosa1D=lambda x:ndiff(gosa1D,x)\n",
    "showgraph([gosa1D,Dgosa1D],[\"gosa1\",\"gosa1の微分\"],[0,10])"
   ]
  },
  {
   "cell_type": "markdown",
   "id": "755cfe28-1320-4f2a-8bd3-70b4cd21eb28",
   "metadata": {},
   "source": [
    "## 2.4 これより、最小値を求めよ."
   ]
  },
  {
   "cell_type": "code",
   "execution_count": null,
   "id": "d76109c7-a602-4802-97af-57185a055c4f",
   "metadata": {},
   "outputs": [],
   "source": []
  },
  {
   "cell_type": "markdown",
   "id": "5c787b74-fc41-48e2-8852-d179011f971c",
   "metadata": {},
   "source": [
    "## 2.5 (任意課題) 一般に$D$の中央値が$L_1$誤差を最小にすることを証明せよ."
   ]
  },
  {
   "cell_type": "markdown",
   "id": "a3ac1215-e49b-4435-8a98-21c9c7c1bde9",
   "metadata": {},
   "source": []
  },
  {
   "cell_type": "markdown",
   "id": "630b99b7-d34c-4cce-9c6f-0d0147b907a1",
   "metadata": {
    "tags": []
   },
   "source": [
    "<hr>\n",
    "<center><font size=8 color=\"blue\">実数データ集合を２点で近似</font></center>\n",
    "<hr>"
   ]
  },
  {
   "cell_type": "markdown",
   "id": "feeda7a5-6bb2-4b74-b256-34e3ed351a9a",
   "metadata": {},
   "source": [
    "# 3 <font color=\"red\">演習3  実数データ集合を２点で近似<font>"
   ]
  },
  {
   "cell_type": "markdown",
   "id": "54cb2b3d-f781-4848-84ff-a06f46ff5b8f",
   "metadata": {},
   "source": [
    "+ $D$ を$L_2$誤差について最良近似する２実数を求めよ."
   ]
  },
  {
   "cell_type": "markdown",
   "id": "3172a274-05c4-40b4-ad4c-6a65343f8fae",
   "metadata": {},
   "source": [
    "## 3.1 誤差関数の定義(変更なし)"
   ]
  },
  {
   "cell_type": "code",
   "execution_count": null,
   "id": "94e3265e-070f-4980-8cae-cf894f1a6096",
   "metadata": {
    "id": "5CLOf7t36YwN",
    "tags": []
   },
   "outputs": [],
   "source": [
    "def gosa22(a,b,D):\n",
    "    return sum(min((a-d)**2,(b-d)**2) for d in D)"
   ]
  },
  {
   "cell_type": "code",
   "execution_count": null,
   "id": "b0b5f9bc-3346-4b41-a9b3-b5b3d20c1b83",
   "metadata": {},
   "outputs": [],
   "source": [
    "gosa22D=lambda a,b: gosa22(a,b,D)\n",
    "gs22=np.frompyfunc(gosa22D,2,1)"
   ]
  },
  {
   "cell_type": "markdown",
   "id": "d2fcdb1d-d829-4520-8b04-a82976595cd8",
   "metadata": {},
   "source": [
    "## 3.2 誤差関数のグラフ(変更なし)"
   ]
  },
  {
   "cell_type": "code",
   "execution_count": null,
   "id": "dc398c4a-8683-4df1-b1ec-b8ba88855465",
   "metadata": {
    "id": "UPz-R7tN6YwN",
    "tags": []
   },
   "outputs": [],
   "source": [
    "my_surface_plot(gs22,xrange=[0,10],yrange=[0,10])"
   ]
  },
  {
   "cell_type": "markdown",
   "id": "0e972b59-16f8-4891-9de7-cbf8bf621b7f",
   "metadata": {},
   "source": [
    "### 3.2.1 関数の等高線表示(変更なし)"
   ]
  },
  {
   "cell_type": "code",
   "execution_count": null,
   "id": "20667ea6-4a0f-4c3e-87c8-483ca927a7b4",
   "metadata": {
    "id": "FKoLAQyl6YwN",
    "tags": []
   },
   "outputs": [],
   "source": [
    "toukousen(gs22,[0,20],[0,20],start=0,end=50,size=0.1,T=100)"
   ]
  },
  {
   "cell_type": "markdown",
   "id": "a16a4313-db43-4108-9ef8-b96983054802",
   "metadata": {
    "id": "1c34r7lu6YwN"
   },
   "source": [
    "これより、最小値を与える$a<b$の近似値として以下が求まる"
   ]
  },
  {
   "cell_type": "code",
   "execution_count": null,
   "id": "133021e6-5293-4eff-91e1-0d7d269a385f",
   "metadata": {},
   "outputs": [],
   "source": [
    "a=\n",
    "b="
   ]
  },
  {
   "cell_type": "markdown",
   "id": "72e17b21-94b4-42b8-b4c1-f16a1db5dabc",
   "metadata": {},
   "source": [
    "# 4 発展演習. $L_2$誤差に関する２点近似をグループ分けからもとめる"
   ]
  },
  {
   "cell_type": "markdown",
   "id": "300ff34e-a450-48e9-990e-5af78034e0c3",
   "metadata": {},
   "source": [
    "## 4.1 誤差関数の定義とグラフ"
   ]
  },
  {
   "cell_type": "code",
   "execution_count": null,
   "id": "374d87b1-c32c-4d1c-986e-28a519c4e89c",
   "metadata": {},
   "outputs": [],
   "source": [
    "def gosaA2(t,D):\n",
    "    return bunsan([d for d in D if d<t])+bunsan([d for d in D if d>=t])"
   ]
  },
  {
   "cell_type": "code",
   "execution_count": null,
   "id": "3d04b672-9826-4f1b-afd8-7bbf90aff865",
   "metadata": {
    "tags": []
   },
   "outputs": [],
   "source": [
    "gosaA2D=lambda t:gosaA2(t,D)\n",
    "showgraph([gosaA2D],[\"各グループの分散の和\"],[0,10])"
   ]
  },
  {
   "cell_type": "markdown",
   "id": "deba2af2-c175-4607-a0df-590af5304556",
   "metadata": {},
   "source": [
    "## 4.2 解答"
   ]
  },
  {
   "cell_type": "markdown",
   "id": "7aa3643b-7197-4093-adb6-b521c93a3ec8",
   "metadata": {},
   "source": [
    "gosaA2を最小化するtにより次のグループ分けが得らる、"
   ]
  },
  {
   "cell_type": "code",
   "execution_count": null,
   "id": "359daaac-fd05-4665-8092-e52a85abf8c2",
   "metadata": {},
   "outputs": [],
   "source": [
    "D1=[...]\n",
    "D2=[...]"
   ]
  },
  {
   "cell_type": "markdown",
   "id": "3171e741-efef-406f-abbf-ef5a68a80e67",
   "metadata": {},
   "source": [
    "これより、次のa,bが gosa2 を最小化することがわかる."
   ]
  },
  {
   "cell_type": "code",
   "execution_count": null,
   "id": "2e0a93a0-6e00-446e-b0b3-33d1a8cd543d",
   "metadata": {},
   "outputs": [],
   "source": [
    "a=\n",
    "b="
   ]
  },
  {
   "cell_type": "code",
   "execution_count": null,
   "id": "a242174c-3ef8-42c4-a0d0-2638af9d61c2",
   "metadata": {
    "jupyter": {
     "source_hidden": true
    },
    "tags": []
   },
   "outputs": [],
   "source": [
    "gosa2(a,b)"
   ]
  },
  {
   "cell_type": "markdown",
   "id": "8425c21b-d600-4fb2-9315-3900dbdc391e",
   "metadata": {
    "tags": []
   },
   "source": [
    "# 5 発展演習 $L_1$誤差に関する２点近似をグループ分けからもとめる"
   ]
  },
  {
   "cell_type": "markdown",
   "id": "0b5220a7-1aa0-4c2e-9d12-b3314bca9eaf",
   "metadata": {},
   "source": [
    "## 5.1 誤差関数のグラフ(変更なし)"
   ]
  },
  {
   "cell_type": "code",
   "execution_count": null,
   "id": "036b5084-7dc4-4b39-aecd-b0e2c4ee23cd",
   "metadata": {
    "id": "5CLOf7t36YwN",
    "tags": []
   },
   "outputs": [],
   "source": [
    "def gosa21(a,b,D):\n",
    "    return sum(min(abs(a-d),abs(b-d)) for d in D)"
   ]
  },
  {
   "cell_type": "code",
   "execution_count": null,
   "id": "067f5ce9-b245-41ca-967e-8255c365a519",
   "metadata": {},
   "outputs": [],
   "source": [
    "gosa21D=lambda a,b: gosa21(a,b,D)\n",
    "gs21=np.frompyfunc(gosa21D,2,1)\n",
    "\n",
    "my_surface_plot(gs21,xrange=[0,10],yrange=[0,10])"
   ]
  },
  {
   "cell_type": "markdown",
   "id": "a9691950-1b4a-4529-936e-22fc3cfe8f25",
   "metadata": {},
   "source": [
    "## 5.2 分割により解く"
   ]
  },
  {
   "cell_type": "code",
   "execution_count": null,
   "id": "f0ac1835-693f-496a-bab2-b5e35e7dfbda",
   "metadata": {
    "tags": []
   },
   "outputs": [],
   "source": [
    "def gosaA1(t,D):\n",
    "    return l1bunsan([d for d in D if d<t])+l1bunsan([d for d in D if d>=t])"
   ]
  },
  {
   "cell_type": "code",
   "execution_count": null,
   "id": "cbf392a3-7c2a-42fa-94e6-84465cfccaf5",
   "metadata": {},
   "outputs": [],
   "source": [
    "gosaA1D=lambda t:gosaA1(t,D)\n",
    "showgraph([gosaA1D],[\"分割された各グループのL1分散の和\"],[0,10])\n"
   ]
  },
  {
   "cell_type": "markdown",
   "id": "9040212c-ca40-405b-8690-bf7ecd0933f1",
   "metadata": {},
   "source": [
    "## 5.3 解答"
   ]
  },
  {
   "cell_type": "markdown",
   "id": "fdeca419-3d57-4b21-98d6-d167de68c0aa",
   "metadata": {},
   "source": [
    "gosaA1を最小化するtにより次のグループ分けが得らる、"
   ]
  },
  {
   "cell_type": "code",
   "execution_count": null,
   "id": "2fc374c1-c97c-4311-9f9b-a88ca3a0e710",
   "metadata": {},
   "outputs": [],
   "source": [
    "D1=[...]\n",
    "D2=[...]"
   ]
  },
  {
   "cell_type": "markdown",
   "id": "e8da58e5-b295-4859-894d-d521c3ac7463",
   "metadata": {},
   "source": [
    "これより、次のa,bが gosa1 を最小化することがわかる."
   ]
  },
  {
   "cell_type": "code",
   "execution_count": null,
   "id": "af5f5eba-577f-443c-8e75-a5245b70e617",
   "metadata": {},
   "outputs": [],
   "source": [
    "a=\n",
    "b="
   ]
  },
  {
   "cell_type": "code",
   "execution_count": null,
   "id": "28284450-5c15-4bb6-9262-d18e6676613e",
   "metadata": {
    "tags": []
   },
   "outputs": [],
   "source": [
    "gosa2(a,b)"
   ]
  }
 ],
 "metadata": {
  "kernelspec": {
   "display_name": "Python 3 (ipykernel)",
   "language": "python",
   "name": "python3"
  },
  "language_info": {
   "codemirror_mode": {
    "name": "ipython",
    "version": 3
   },
   "file_extension": ".py",
   "mimetype": "text/x-python",
   "name": "python",
   "nbconvert_exporter": "python",
   "pygments_lexer": "ipython3",
   "version": "3.9.10"
  },
  "toc-autonumbering": false,
  "widgets": {
   "application/vnd.jupyter.widget-state+json": {
    "state": {},
    "version_major": 2,
    "version_minor": 0
   }
  }
 },
 "nbformat": 4,
 "nbformat_minor": 5
}
