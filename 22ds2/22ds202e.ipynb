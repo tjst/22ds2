{
 "cells": [
  {
   "cell_type": "markdown",
   "metadata": {
    "jp-MarkdownHeadingCollapsed": true,
    "tags": []
   },
   "source": [
    "<font size=8>データサイエンスII第2回演習問題</font>\n",
    "\n",
    "<font size=6>2022.4.19</font>"
   ]
  },
  {
   "cell_type": "markdown",
   "metadata": {},
   "source": [
    "<font size=5>\n",
    "    \n",
    "+ 氏名\n",
    "    \n",
    "+ 学籍番号\n",
    "    \n",
    "</font>    "
   ]
  },
  {
   "cell_type": "markdown",
   "metadata": {
    "tags": []
   },
   "source": [
    "## 準備"
   ]
  },
  {
   "cell_type": "code",
   "execution_count": null,
   "metadata": {
    "ExecuteTime": {
     "end_time": "2021-06-01T01:38:07.219359Z",
     "start_time": "2021-06-01T01:38:06.575288Z"
    }
   },
   "outputs": [],
   "source": [
    "import numpy as np\n",
    "import pandas as pd\n",
    "import plotly.express as px\n",
    "import scipy as sy\n",
    "\n",
    "\n",
    "# 実数集合Dの表示\n",
    "def plot1d(D,width=600,height=300):\n",
    "    import plotly.express as px\n",
    "    import numpy as np\n",
    "    fig=px.scatter(x=D,y=np.zeros(len(D)))\n",
    "    fig.update_layout(width=width,height=height)\n",
    "    fig.show()\n",
    "    \n",
    "    \n",
    "# １変数関数のグラフ表示, flist は表示する関数のリスト、labels はそれぞれのラベル, xrange はxの動く範囲\n",
    "def showgraph(flist,labels,xrange=[0,1],K=50):\n",
    "    import plotly.graph_objects as go\n",
    "    import numpy as np\n",
    "    fig = go.Figure()\n",
    "    tmin,tmax=xrange\n",
    "    ts=np.linspace(tmin,tmax,K)\n",
    "    for i in range(len(flist)):\n",
    "        fig.add_trace(go.Scatter(x=ts, y=[flist[i](t) for t in ts], name=labels[i]))\n",
    "    if len(flist)==1:\n",
    "        fig.update_layout(title=labels[0])\n",
    "    fig.update_layout(width=600,height=600)\n",
    "\n",
    "    fig.show() \n",
    "\n",
    "# ２変数関数fのグラフを表示\n",
    "def showgraph2(f,xrange=[-1,1],yrange=[-1,1],K=50,opacity=0.5):\n",
    "    import numpy as np\n",
    "    import plotly.graph_objects as go\n",
    "    xmin,xmax=xrange\n",
    "    ymin,ymax=yrange\n",
    "    a0=np.linspace(xmin,xmax,K)\n",
    "    b0=np.linspace(ymin,ymax,K)\n",
    "    xx,yy=np.meshgrid(a0,b0)\n",
    "    F=go.Figure()\n",
    "    F.add_surface(x=xx,y=yy,z=f(xx,yy),opacity=opacity)  \n",
    "    F.update_layout(width=600,height=600)\n",
    "    F.show()\n",
    "\n",
    "\n",
    "def make2data(cov=[[0.2, 0], [0, 0.2]],N=100): \n",
    "    import numpy as np\n",
    "    D21=np.vstack([np.random.multivariate_normal([2*i,2*j], cov, N) for i in range(2) for j in range(2)])\n",
    "    return D21\n",
    "\n",
    "def make1data(heikin=0,bunsan=1,size=100):\n",
    "    return np.random.normal(loc=heikin,scale=bunsan,size=size)\n",
    "\n",
    "def show1data(データリスト,ラベルリスト,毛=False,ヒストグラム=False,密度=False,ビンサイズ=1.0):\n",
    "    import plotly.figure_factory as ff\n",
    "    ff.create_distplot(データリスト,ラベルリスト,show_rug=毛, show_hist=ヒストグラム,show_curve=密度,bin_size=ビンサイズ).show()\n",
    "\n",
    "def plot2d(D,color=[],width=600,height=600,透明度=1.0):\n",
    "    import plotly.express as px\n",
    "    import numpy as np\n",
    "    if len(color)==0:\n",
    "        color=np.zeros(len(D))\n",
    "    fig=px.scatter(x=D[:,0],y=D[:,1],opacity=透明度,color=color)\n",
    "    fig.update_layout(width=width,height=height)\n",
    "    fig.update_yaxes(scaleanchor=\"x\", scaleratio=1)\n",
    "    fig.show()\n",
    "\n",
    "def ヒストグラム2次元(D,xビン数=10,yビン数=10,周辺分布=False):\n",
    "    import plotly.express as px\n",
    "    if 周辺分布:\n",
    "        fig = px.density_heatmap(x=D.T[0], y=D.T[1],nbinsx=xビン数,nbinsy=yビン数,marginal_x=\"histogram\", marginal_y=\"histogram\")\n",
    "    else:\n",
    "        fig = px.density_heatmap(x=D.T[0], y=D.T[1],nbinsx=xビン数,nbinsy=yビン数)\n",
    "    fig.update_layout(width=500,height=500)\n",
    "    fig.show()\n",
    "\n",
    "def 密度等高線(D,width=500,height=500,周辺分布=False,濃淡=False,ラベル=False):\n",
    "    if 周辺分布:\n",
    "        fig = px.density_contour(x=D.T[0], y=D.T[1],marginal_x=\"histogram\", marginal_y=\"histogram\")\n",
    "    else:\n",
    "        fig = px.density_contour(x=D.T[0], y=D.T[1])\n",
    "    if 濃淡:\n",
    "        fig.update_traces(contours_coloring=\"fill\")\n",
    "    if ラベル:\n",
    "        fig.update_traces(contours_showlabels = True)\n",
    "    fig.update_layout(width=width,height=height)\n",
    "    fig.show()\n",
    "\n",
    "def readcsv(url):\n",
    "    import pandas as pd\n",
    "    return pd.read_csv(url).to_numpy()\n",
    "\n",
    "def plot3d1(D,color=[],透明度=0.8,点サイズ=1,形状=\"circle\",width=500,height=500):\n",
    "    import plotly.graph_objects as go\n",
    "    import plotly.express as px\n",
    "    fig=px.scatter()\n",
    "    fig.add_trace(go.Scatter3d(x=D.T[0],y=D.T[1],z=D.T[2],mode=\"markers\",\\\n",
    "                               marker=dict(size=点サイズ, symbol=形状, color=color,opacity=透明度)))\n",
    "    fig.update_layout(width=width,height=height)\n",
    "    fig.show()\n",
    "                    \n",
    "                  \n",
    "\n",
    "def plot3d(D,color=[],透明度=0.8,点サイズ=0.5,width=500,height=500):\n",
    "    import numpy as np\n",
    "    import plotly.express as px\n",
    "    if len(color)==0:\n",
    "        color=np.ones(len(D))\n",
    "    D1=np.vstack([D.T,点サイズ*0.1*np.ones(len(D))]).T\n",
    "    D2=np.vstack([D1,[0,0,0,0.6]])\n",
    "    Dcolor=np.hstack([color,\"white\"])\n",
    "\n",
    "    fig=px.scatter_3d(D2,x=0,y=1,z=2,color=Dcolor,opacity=透明度,size=3)\n",
    "    fig.update_layout(width=600,height=600)\n",
    "    print(\" 'white' をクリックして大きな球を消去してください\")\n",
    "    fig.show()    \n",
    "\n",
    "\n",
    "def DAyame():\n",
    "    import plotly.express as px\n",
    "    temp = px.data.iris().to_numpy()\n",
    "    return temp[:,[0,1,2,3,5]].astype(\"float32\")\n",
    "\n",
    "def sc3d(a,b,c):\n",
    "    import plotly.express as px\n",
    "    D45=np.vstack([D44.T,0.1*np.ones(150)]).T\n",
    "    D45A=np.vstack([D45,[0,0,0,0,0.6]])\n",
    "    D4color_name_1=np.hstack([D4color_name,\"white\"])\n",
    "    fig=px.scatter_3d(D45A,x=a,y=b,z=c,color=D4color_name_1,opacity=0.6,size=4)\n",
    "    fig.update_layout(width=600,height=600)\n",
    "    fig.show()    \n",
    "\n",
    "def proj3d():\n",
    "    from ipywidgets import interact\n",
    "    import ipywidgets as widgets\n",
    "    interact(sc3d  \n",
    "        ,a=widgets.RadioButtons(description=\"第1変数\",value=0,options=[0,1,2,3])\n",
    "        ,b=widgets.RadioButtons(description=\"第２変数\",value=1,options=[0,1,2,3])\n",
    "        ,c=widgets.RadioButtons(description=\"第３変数\",value=2,options=[0,1,2,3])\n",
    "            )    \n",
    "def バブル表示(D,透明度=0.5):\n",
    "    fig=px.scatter(x=D.T[0],y=D.T[1],size=100*np.abs(D.T[2]),opacity=透明度)\n",
    "    fig.update_yaxes(scaleanchor=\"x\", scaleratio=1)\n",
    "    fig.update_layout(width=500,height=500)\n",
    "    fig.show()\n",
    "\n",
    "def normalgraph(D):    \n",
    "    fig1=px.line(D,x=range(12),y=[0,1])\n",
    "    fig1.update_layout(width=500,height=500)\n",
    "    fig1.show() \n",
    "\n",
    "def climograph(D,label=[]):\n",
    "    import plotly.express as px\n",
    "    if len(label)==0:\n",
    "        label=np.arange(len(D))\n",
    "    fig=px.line(D,x=0,y=1,text=label)\n",
    "    fig.update_layout(width=500,height=500)\n",
    "    fig.show()\n",
    "\n",
    "def 関数表示(D,color=[]):\n",
    "    import numpy as np\n",
    "    import plotly.express as px\n",
    "    if(len(color)==0):\n",
    "        color=np.zeros(len(D[0]))\n",
    "    fig = px.parallel_coordinates(D, color=color)\n",
    "    fig.show()\n",
    "\n",
    "def 二次元散布図(D,color=[],透明度=0.7,width=1000,height=1000,seaborn=False):\n",
    "    import pandas as pd\n",
    "    N=len(D)\n",
    "    if len(color)==0:\n",
    "        color=np.zeros(len(D))\n",
    "    if seaborn:\n",
    "        import seaborn as sbn\n",
    "        import japanize_matplotlib\n",
    "        Df=pd.DataFrame(D)\n",
    "        Df[\"color\"]=color\n",
    "        sbn.pairplot(Df,kind=\"kde\",hue=\"color\")        \n",
    "    else:\n",
    "        fig=px.scatter_matrix(pd.DataFrame(D),opacity=透明度,color=color)\n",
    "        fig.update_layout(width=width,height=height)\n",
    "        fig.show()"
   ]
  },
  {
   "cell_type": "markdown",
   "metadata": {
    "tags": []
   },
   "source": [
    "# 演習"
   ]
  },
  {
   "cell_type": "markdown",
   "metadata": {
    "tags": []
   },
   "source": [
    "# <font color=\"red\">演習1</font>"
   ]
  },
  {
   "cell_type": "markdown",
   "metadata": {},
   "source": [
    "+ 次の実数データを３通り（単純プロット,ヒストグラム,密度関数) に表示。また３通りを同時に表示せよ。"
   ]
  },
  {
   "cell_type": "code",
   "execution_count": null,
   "metadata": {
    "ExecuteTime": {
     "end_time": "2021-05-25T01:40:36.544987Z",
     "start_time": "2021-05-25T01:40:11.988Z"
    }
   },
   "outputs": [],
   "source": [
    "D5=pd.read_csv(\"https://ac-net.org/tjst/lct/21/21ds2/ex6_3.csv\").to_numpy()"
   ]
  },
  {
   "cell_type": "code",
   "execution_count": null,
   "metadata": {
    "ExecuteTime": {
     "end_time": "2021-05-25T01:40:36.544987Z",
     "start_time": "2021-05-25T01:40:11.988Z"
    }
   },
   "outputs": [],
   "source": [
    "D5=D5[:,0]\n",
    "D5.shape"
   ]
  },
  {
   "cell_type": "markdown",
   "metadata": {
    "tags": []
   },
   "source": [
    "# <font color=\"red\">演習2</font> 次のデータ集合 D6について 実習３を行う\n"
   ]
  },
  {
   "cell_type": "code",
   "execution_count": null,
   "metadata": {
    "ExecuteTime": {
     "end_time": "2021-06-01T01:38:19.177344Z",
     "start_time": "2021-06-01T01:38:19.090853Z"
    }
   },
   "outputs": [],
   "source": [
    "D6=readcsv(\"https://ac-net.org/tjst/lct/21/21ds2/dfD72B.csv\")\n",
    "D6.shape"
   ]
  },
  {
   "cell_type": "markdown",
   "metadata": {},
   "source": [
    "+ 各行の様子を次で確認"
   ]
  },
  {
   "cell_type": "code",
   "execution_count": null,
   "metadata": {},
   "outputs": [],
   "source": [
    "D6[0]"
   ]
  },
  {
   "cell_type": "markdown",
   "metadata": {},
   "source": [
    " + 最後の成分 D6.T[3] がクラスを表す. 最初の10行をみてみると"
   ]
  },
  {
   "cell_type": "code",
   "execution_count": null,
   "metadata": {
    "tags": []
   },
   "outputs": [],
   "source": [
    "D6.T[3][:10]"
   ]
  },
  {
   "cell_type": "markdown",
   "metadata": {},
   "source": [
    "+ 次で、3次元表現をする"
   ]
  },
  {
   "cell_type": "code",
   "execution_count": null,
   "metadata": {
    "tags": []
   },
   "outputs": [],
   "source": [
    "plot3d(D6[:,:3],color=D6.T[3])"
   ]
  },
  {
   "cell_type": "markdown",
   "metadata": {},
   "source": [
    "+ 実習3のセルを以下にまとめてコピーペーストして実行していく"
   ]
  },
  {
   "cell_type": "markdown",
   "metadata": {
    "tags": []
   },
   "source": [
    "# <font color=\"red\">演習3</font>次の３次元データ集合 D7について、実習3 を行う"
   ]
  },
  {
   "cell_type": "code",
   "execution_count": null,
   "metadata": {
    "ExecuteTime": {
     "end_time": "2021-06-01T01:38:25.036032Z",
     "start_time": "2021-06-01T01:38:24.950292Z"
    }
   },
   "outputs": [],
   "source": [
    "D7=readcsv(\"https://ac-net.org/tjst/lct/21/21ds2/dfD72C.csv\")"
   ]
  },
  {
   "cell_type": "markdown",
   "metadata": {},
   "source": [
    "+ 以下は演習2と同様にする"
   ]
  },
  {
   "cell_type": "code",
   "execution_count": null,
   "metadata": {},
   "outputs": [],
   "source": []
  }
 ],
 "metadata": {
  "kernelspec": {
   "display_name": "Python 3 (ipykernel)",
   "language": "python",
   "name": "python3"
  },
  "language_info": {
   "codemirror_mode": {
    "name": "ipython",
    "version": 3
   },
   "file_extension": ".py",
   "mimetype": "text/x-python",
   "name": "python",
   "nbconvert_exporter": "python",
   "pygments_lexer": "ipython3",
   "version": "3.9.10"
  },
  "toc": {
   "base_numbering": 1,
   "nav_menu": {},
   "number_sections": true,
   "sideBar": true,
   "skip_h1_title": false,
   "title_cell": "Table of Contents",
   "title_sidebar": "目次",
   "toc_cell": false,
   "toc_position": {
    "height": "153.6px",
    "left": "39px",
    "top": "139.6px",
    "width": "258px"
   },
   "toc_section_display": true,
   "toc_window_display": true
  },
  "toc-autonumbering": true,
  "widgets": {
   "application/vnd.jupyter.widget-state+json": {
    "state": {},
    "version_major": 2,
    "version_minor": 0
   }
  }
 },
 "nbformat": 4,
 "nbformat_minor": 4
}
