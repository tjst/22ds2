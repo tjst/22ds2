{
 "cells": [
  {
   "cell_type": "markdown",
   "id": "287689db-7e6d-429a-9e31-7ee8584b9828",
   "metadata": {
    "id": "ouqOM1he6Yv7"
   },
   "source": [
    "<hr style=\"border-top: 3px double #8c8b8b;\"/>\n",
    "<br/>\n",
    "<center><font size=7 color=\"green\">データサイエンスII   第3回 最小二乗法</font><br/>\n",
    "\n",
    "2022.4.26\n",
    "</center>\n",
    "<hr style=\"border-top: 3px double #8c8b8b;\"/>\n"
   ]
  },
  {
   "cell_type": "markdown",
   "id": "cf4c6333-8def-4c8a-bdd5-cba64dbb4dd4",
   "metadata": {
    "tags": []
   },
   "source": [
    "## 準備"
   ]
  },
  {
   "cell_type": "code",
   "execution_count": null,
   "id": "afaff401-4f93-4174-9d5f-d8af8ded18a0",
   "metadata": {
    "tags": []
   },
   "outputs": [],
   "source": [
    "import numpy as np\n",
    "import plotly.express as px\n",
    "\n",
    "# 実数集合Dの表示\n",
    "def plot1d(D,width=600,height=300):\n",
    "    import plotly.express as px\n",
    "    import numpy as np\n",
    "    fig=px.scatter(x=D,y=np.zeros(len(D)))\n",
    "    fig.update_layout(width=width,height=height)\n",
    "    fig.show()\n",
    "    \n",
    "\n",
    "# 実数集合Dを、t未満とt以上で色を変えて表示    \n",
    "def plot1d2(D,t,width=600,height=300):\n",
    "    import plotly.express as px\n",
    "    import numpy as np\n",
    "    color=[(lambda x:\"blue\" if x<t else \"red\")(u) for u in D]\n",
    "    fig=px.scatter(x=D,y=np.zeros(len(D)),color=color)\n",
    "    fig.add_scatter(x=[t],y=[0])\n",
    "    fig.update_layout(width=width,height=height)\n",
    "    fig.show()\n",
    "    \n",
    "# １変数関数のグラフ表示, flist は表示する関数のリスト、labels はそれぞれのラベル, xrange はxの動く範囲\n",
    "def showgraph(flist,labels,xrange=[0,1],K=50):\n",
    "    import plotly.graph_objects as go\n",
    "    import numpy as np\n",
    "    fig = go.Figure()\n",
    "    tmin,tmax=xrange\n",
    "    ts=np.linspace(tmin,tmax,K)\n",
    "    for i in range(len(flist)):\n",
    "        fig.add_trace(go.Scatter(x=ts, y=[flist[i](t) for t in ts], name=labels[i]))\n",
    "    if len(flist)==1:\n",
    "        fig.update_layout(title=labels[0])\n",
    "    fig.update_layout(width=600,height=600)\n",
    "\n",
    "    fig.show() \n",
    "\n",
    "# ２変数関数fのグラフを表示\n",
    "def showgraph2(f,xrange=[-1,1],yrange=[-1,1],K=50,opacity=0.5):\n",
    "    import numpy as np\n",
    "    import plotly.graph_objects as go\n",
    "    xmin,xmax=xrange\n",
    "    ymin,ymax=yrange\n",
    "    a0=np.linspace(xmin,xmax,K)\n",
    "    b0=np.linspace(ymin,ymax,K)\n",
    "    xx,yy=np.meshgrid(a0,b0)\n",
    "    F=go.Figure()\n",
    "    F.add_surface(x=xx,y=yy,z=f(xx,yy),opacity=opacity)  \n",
    "    F.update_layout(width=600,height=600)\n",
    "    F.show()\n",
    "\n",
    "def toukousen(f,xrange=[0,1],yrange=[0,1],T=20,start=0,end=1,size=1,color=\"blues\"):\n",
    "    import numpy as np\n",
    "    import plotly.graph_objects as go\n",
    "    xmin,xmax=xrange\n",
    "    ymin,ymax=yrange\n",
    "    a0=np.linspace(xmin,xmax,T)\n",
    "    b0=np.linspace(ymin,ymax,T)\n",
    "    x,y=np.meshgrid(a0,b0)\n",
    "    F=go.Figure()\n",
    "    F.add_contour(x=a0,y=b0,z=f(x,y),colorscale=color,\n",
    "        contours=dict(\n",
    "            start=start, #2 等高線の高さの最小値\n",
    "            end=end,    #3 等高線の高さの最大値\n",
    "            size=size, #4 描く間隔\n",
    "            coloring='lines',\n",
    "            showlabels=True\n",
    "        ))\n",
    "    F.update_yaxes(scaleanchor=\"x\", scaleratio=1)\n",
    "    F.update_layout(width=600,height=600)\n",
    "    F.show()\n",
    "def heikin(D):    \n",
    "    return sum(D)/len(D)\n",
    "def bunsan(D):\n",
    "    if len(D)>0:\n",
    "        m=heikin(D)\n",
    "        return sum((D-m)**2)/len(D)\n",
    "    else:\n",
    "        return 0\n",
    "def mode(D):\n",
    "    D=sorted(D)\n",
    "    k=len(D)//2\n",
    "    if len(D)%2==1:\n",
    "        return D[k]\n",
    "    else:\n",
    "        return (D[k-1]+D[k])/2.\n",
    "def l1bunsan(D):\n",
    "    if len(D)>0:\n",
    "        m=mode(D)\n",
    "        return sum(abs(D-m))\n",
    "    else:\n",
    "        return 0\n",
    "\n",
    "import numpy as np\n",
    "import pandas as pd\n",
    "import plotly.express as px\n",
    "import scipy as sy\n",
    "\n",
    "\n",
    "# 実数集合Dの表示\n",
    "def plot1d(D,width=600,height=300):\n",
    "    import plotly.express as px\n",
    "    import numpy as np\n",
    "    fig=px.scatter(x=D,y=np.zeros(len(D)))\n",
    "    fig.update_layout(width=width,height=height)\n",
    "    fig.show()\n",
    "    \n",
    "    \n",
    "# １変数関数のグラフ表示, flist は表示する関数のリスト、labels はそれぞれのラベル, xrange はxの動く範囲\n",
    "def showgraph(flist,labels,xrange=[0,1],K=50):\n",
    "    import plotly.graph_objects as go\n",
    "    import numpy as np\n",
    "    fig = go.Figure()\n",
    "    tmin,tmax=xrange\n",
    "    ts=np.linspace(tmin,tmax,K)\n",
    "    for i in range(len(flist)):\n",
    "        fig.add_trace(go.Scatter(x=ts, y=[flist[i](t) for t in ts], name=labels[i]))\n",
    "    if len(flist)==1:\n",
    "        fig.update_layout(title=labels[0])\n",
    "    fig.update_layout(width=600,height=600)\n",
    "\n",
    "    fig.show() \n",
    "\n",
    "# ２変数関数fのグラフを表示\n",
    "def showgraph2(f,xrange=[-1,1],yrange=[-1,1],K=50,opacity=0.5):\n",
    "    import numpy as np\n",
    "    import plotly.graph_objects as go\n",
    "    xmin,xmax=xrange\n",
    "    ymin,ymax=yrange\n",
    "    a0=np.linspace(xmin,xmax,K)\n",
    "    b0=np.linspace(ymin,ymax,K)\n",
    "    xx,yy=np.meshgrid(a0,b0)\n",
    "    F=go.Figure()\n",
    "    F.add_surface(x=xx,y=yy,z=f(xx,yy),opacity=opacity)  \n",
    "    F.update_layout(width=600,height=600)\n",
    "    F.show()\n",
    "\n",
    "\n",
    "def make2data(cov=[[0.2, 0], [0, 0.2]],N=100): \n",
    "    import numpy as np\n",
    "    D21=np.vstack([np.random.multivariate_normal([2*i,2*j], cov, N) for i in range(2) for j in range(2)])\n",
    "    return D21\n",
    "\n",
    "def make1data(heikin=0,bunsan=1,size=100):\n",
    "    return np.random.normal(loc=heikin,scale=bunsan,size=size)\n",
    "\n",
    "def show1data(データリスト,ラベルリスト,毛=False,ヒストグラム=False,密度=False,ビンサイズ=1.0):\n",
    "    import plotly.figure_factory as ff\n",
    "    ff.create_distplot(データリスト,ラベルリスト,show_rug=毛, show_hist=ヒストグラム,show_curve=密度,bin_size=ビンサイズ).show()\n",
    "\n",
    "def plot2d(D,color=[],width=600,height=600,透明度=1.0):\n",
    "    import plotly.express as px\n",
    "    import numpy as np\n",
    "    if len(color)==0:\n",
    "        color=np.zeros(len(D))\n",
    "    fig=px.scatter(x=D[:,0],y=D[:,1],opacity=透明度,color=color)\n",
    "    fig.update_layout(width=width,height=height)\n",
    "    fig.update_yaxes(scaleanchor=\"x\", scaleratio=1)\n",
    "    fig.show()\n",
    "\n",
    "def ヒストグラム2次元(D,xビン数=10,yビン数=10,周辺分布=False):\n",
    "    import plotly.express as px\n",
    "    if 周辺分布:\n",
    "        fig = px.density_heatmap(x=D.T[0], y=D.T[1],nbinsx=xビン数,nbinsy=yビン数,marginal_x=\"histogram\", marginal_y=\"histogram\")\n",
    "    else:\n",
    "        fig = px.density_heatmap(x=D.T[0], y=D.T[1],nbinsx=xビン数,nbinsy=yビン数)\n",
    "    fig.update_layout(width=500,height=500)\n",
    "    fig.show()\n",
    "\n",
    "def 密度等高線(D,width=500,height=500,周辺分布=False,濃淡=False,ラベル=False):\n",
    "    if 周辺分布:\n",
    "        fig = px.density_contour(x=D.T[0], y=D.T[1],marginal_x=\"histogram\", marginal_y=\"histogram\")\n",
    "    else:\n",
    "        fig = px.density_contour(x=D.T[0], y=D.T[1])\n",
    "    if 濃淡:\n",
    "        fig.update_traces(contours_coloring=\"fill\")\n",
    "    if ラベル:\n",
    "        fig.update_traces(contours_showlabels = True)\n",
    "    fig.update_layout(width=width,height=height)\n",
    "    fig.show()\n",
    "\n",
    "def readcsv(url):\n",
    "    import pandas as pd\n",
    "    return pd.read_csv(url).to_numpy()\n",
    "\n",
    "def plot3d1(D,color=[],透明度=0.8,点サイズ=1,形状=\"circle\",width=500,height=500):\n",
    "    import plotly.graph_objects as go\n",
    "    import plotly.express as px\n",
    "    fig=px.scatter()\n",
    "    fig.add_trace(go.Scatter3d(x=D.T[0],y=D.T[1],z=D.T[2],mode=\"markers\",\\\n",
    "                               marker=dict(size=点サイズ, symbol=形状, color=color,opacity=透明度)))\n",
    "    fig.update_layout(width=width,height=height)\n",
    "    fig.show()\n",
    "                    \n",
    "                  \n",
    "\n",
    "def plot3d(D,color=[],透明度=0.8,点サイズ=0.5,width=500,height=500):\n",
    "    import numpy as np\n",
    "    import plotly.express as px\n",
    "    if len(color)==0:\n",
    "        color=np.ones(len(D))\n",
    "    D1=np.vstack([D.T,点サイズ*0.1*np.ones(len(D))]).T\n",
    "    D2=np.vstack([D1,[0,0,0,0.6]])\n",
    "    Dcolor=np.hstack([color,\"white\"])\n",
    "\n",
    "    fig=px.scatter_3d(D2,x=0,y=1,z=2,color=Dcolor,opacity=透明度,size=3)\n",
    "    fig.update_layout(width=600,height=600)\n",
    "    print(\" 'white' をクリックして大きな球を消去してください\")\n",
    "    fig.show()    \n",
    "\n",
    "\n",
    "def DAyame():\n",
    "    import plotly.express as px\n",
    "    temp = px.data.iris().to_numpy()\n",
    "    return temp[:,[0,1,2,3,5]].astype(\"float32\")\n",
    "\n",
    "def sc3d(a,b,c):\n",
    "    import plotly.express as px\n",
    "    D45=np.vstack([D44.T,0.1*np.ones(150)]).T\n",
    "    D45A=np.vstack([D45,[0,0,0,0,0.6]])\n",
    "    D4color_name_1=np.hstack([D4color_name,\"white\"])\n",
    "    fig=px.scatter_3d(D45A,x=a,y=b,z=c,color=D4color_name_1,opacity=0.6,size=4)\n",
    "    fig.update_layout(width=600,height=600)\n",
    "    fig.show()    \n",
    "\n",
    "def proj3d():\n",
    "    from ipywidgets import interact\n",
    "    import ipywidgets as widgets\n",
    "    interact(sc3d  \n",
    "        ,a=widgets.RadioButtons(description=\"第1変数\",value=0,options=[0,1,2,3])\n",
    "        ,b=widgets.RadioButtons(description=\"第２変数\",value=1,options=[0,1,2,3])\n",
    "        ,c=widgets.RadioButtons(description=\"第３変数\",value=2,options=[0,1,2,3])\n",
    "            )    \n",
    "def バブル表示(D,透明度=0.5):\n",
    "    fig=px.scatter(x=D.T[0],y=D.T[1],size=100*np.abs(D.T[2]),opacity=透明度)\n",
    "    fig.update_yaxes(scaleanchor=\"x\", scaleratio=1)\n",
    "    fig.update_layout(width=500,height=500)\n",
    "    fig.show()\n",
    "\n",
    "def normalgraph(D):    \n",
    "    fig1=px.line(D,x=range(12),y=[0,1])\n",
    "    fig1.update_layout(width=500,height=500)\n",
    "    fig1.show() \n",
    "\n",
    "def climograph(D,label=[]):\n",
    "    import plotly.express as px\n",
    "    if len(label)==0:\n",
    "        label=np.arange(len(D))\n",
    "    fig=px.line(D,x=0,y=1,text=label)\n",
    "    fig.update_layout(width=500,height=500)\n",
    "    fig.show()\n",
    "\n",
    "def 関数表示(D,color=[]):\n",
    "    import numpy as np\n",
    "    import plotly.express as px\n",
    "    if(len(color)==0):\n",
    "        color=np.zeros(len(D[0]))\n",
    "    fig = px.parallel_coordinates(D, color=color)\n",
    "    fig.show()\n",
    "\n",
    "def 二次元散布図(D,color=[],透明度=0.7,width=1000,height=1000,seaborn=False):\n",
    "    import pandas as pd\n",
    "    N=len(D)\n",
    "    if len(color)==0:\n",
    "        color=np.zeros(len(D))\n",
    "    if seaborn:\n",
    "        import seaborn as sbn\n",
    "        Df=pd.DataFrame(D)\n",
    "        Df[\"color\"]=color\n",
    "        sbn.pairplot(Df,kind=\"kde\",hue=\"color\")        \n",
    "    else:\n",
    "        fig=px.scatter_matrix(pd.DataFrame(D),opacity=透明度,color=color)\n",
    "        fig.update_layout(width=width,height=height)\n",
    "        fig.show()\n",
    "\n",
    "def showDC(D,k,xrg=[0,7],width=500,height=500):\n",
    "    import plotly.express as px\n",
    "    fig=px.scatter(D,x=0,y=1)\n",
    "    t=np.linspace(xrg[0],xrg[1])\n",
    "    fig.add_scatter(x=t,y=k[0]*t+k[1])\n",
    "    fig.update_yaxes(scaleanchor=\"x\", scaleratio=1)  \n",
    "    fig.update_layout(width=width,height=height) \n",
    "    \n",
    "    fig.show()"
   ]
  },
  {
   "cell_type": "markdown",
   "id": "c3a9c96b",
   "metadata": {
    "tags": []
   },
   "source": [
    "# 第３回 最小二乗法"
   ]
  },
  {
   "cell_type": "markdown",
   "id": "f271629a",
   "metadata": {
    "ExecuteTime": {
     "end_time": "2021-07-30T00:54:36.543290Z",
     "start_time": "2021-07-30T00:54:36.515146Z"
    }
   },
   "source": [
    "## 問題"
   ]
  },
  {
   "cell_type": "markdown",
   "id": "27f3feba",
   "metadata": {
    "ExecuteTime": {
     "end_time": "2021-07-30T00:54:36.543290Z",
     "start_time": "2021-07-30T00:54:36.515146Z"
    }
   },
   "source": [
    "+ 平面上に$N$個の点$(x_i,y_i)$($0\\leq i<N$)がある時、\n",
    "  $$gosa_2(a,b)=\\sum_i(f(x_i)-y_i)^2$$ が最小となるような$f(x)=ax+b$を求めよ."
   ]
  },
  {
   "cell_type": "markdown",
   "id": "085e4710",
   "metadata": {
    "jp-MarkdownHeadingCollapsed": true,
    "tags": []
   },
   "source": [
    "# 実習1"
   ]
  },
  {
   "cell_type": "markdown",
   "id": "0cafda41-8d3c-4ca8-877f-2c2e7da1455f",
   "metadata": {},
   "source": [
    " <font color=\"green\">例題</font>  $N=3$の場合"
   ]
  },
  {
   "cell_type": "markdown",
   "id": "f7145eda-3e27-40ec-ab61-bc25be493800",
   "metadata": {},
   "source": [
    "+ ３点$(1,2),(2,3),(5,4)$を近似する直線を求めよ."
   ]
  },
  {
   "cell_type": "markdown",
   "id": "268ca549-0681-4092-81e4-5f8ac6830442",
   "metadata": {},
   "source": [
    "## 解法1 最小二乗法による"
   ]
  },
  {
   "cell_type": "markdown",
   "id": "6564fd94-541a-47a4-a670-69f9bea915c1",
   "metadata": {},
   "source": [
    "### 方法"
   ]
  },
  {
   "cell_type": "markdown",
   "id": "e1c73d11-1f19-4694-8d9a-0d17014c01f9",
   "metadata": {},
   "source": [
    "$$A=\\left[\\begin{matrix}x_0&1\\\\x_1&1\\\\x_2&1 \\\\ \\vdots & \\vdots \\\\ x_{N-1} &1\\end{matrix}\\right],\n",
    "{\\mathbf y}:=\\left[\\begin{matrix}y_0\\\\y_1\\\\y_2\\\\\\vdots\\\\y_{N-1}\\end{matrix}\\right],\n",
    "\\left[\\begin{matrix}a_0\\\\b_0\\end{matrix}\\right]:=({}^tAA)^{-1}({}^tA{\\mathbf y})$$\n",
    "とおくと、\n",
    "$(a,b)=(a_0,b_0)$ のとき$L_2$誤差\n",
    "   $$gosa_2(a,b)=\\sum_i(ax_i+b-y_i)^2$$\n",
    "は最小となる."
   ]
  },
  {
   "cell_type": "markdown",
   "id": "d4d12fd0-85a6-40bf-ab99-bfefc687ac30",
   "metadata": {},
   "source": [
    "### ３点の座標データを、numpy の行列 Dとして定義. "
   ]
  },
  {
   "cell_type": "code",
   "execution_count": null,
   "id": "4a2dfa15-837e-473c-a7fb-08e8e4639d79",
   "metadata": {
    "ExecuteTime": {
     "end_time": "2021-07-30T04:48:48.673733Z",
     "start_time": "2021-07-30T04:48:48.662033Z"
    }
   },
   "outputs": [],
   "source": [
    "D=np.array([[1,2],[2,3],[5,4]])\n",
    "D"
   ]
  },
  {
   "cell_type": "markdown",
   "id": "057c4488-55ff-4972-aa06-f26b43d05f0a",
   "metadata": {},
   "source": [
    "+ plot2dで表示"
   ]
  },
  {
   "cell_type": "code",
   "execution_count": null,
   "id": "d6ac0685-a95e-4834-98e5-b3aa61c0cd86",
   "metadata": {
    "ExecuteTime": {
     "end_time": "2021-07-30T04:48:51.125966Z",
     "start_time": "2021-07-30T04:48:50.621262Z"
    }
   },
   "outputs": [],
   "source": [
    "plot2d(D)"
   ]
  },
  {
   "cell_type": "markdown",
   "id": "b9eb46b9-b0b1-4ae1-905d-e3987ff65b13",
   "metadata": {
    "tags": []
   },
   "source": [
    "### Aを定義"
   ]
  },
  {
   "cell_type": "markdown",
   "id": "33b4eb8b-7c91-4fad-829c-fa44f34a286d",
   "metadata": {},
   "source": [
    "+ Aの定義\n",
    "   + 第i成分が [D[i,0],1]"
   ]
  },
  {
   "cell_type": "code",
   "execution_count": null,
   "id": "f83c659c",
   "metadata": {
    "ExecuteTime": {
     "end_time": "2021-07-30T04:50:54.181878Z",
     "start_time": "2021-07-30T04:50:54.162205Z"
    }
   },
   "outputs": [],
   "source": [
    "A=np.array([[D[i,0],1] for i in range(len(D[:,0]))])\n",
    "A"
   ]
  },
  {
   "cell_type": "markdown",
   "id": "cc81b1f8-8b1b-41c7-ac6f-6e5dda1cf942",
   "metadata": {},
   "source": [
    "### 射影の計算"
   ]
  },
  {
   "cell_type": "markdown",
   "id": "9b7d53c0-78f5-43ef-8948-2597247a417e",
   "metadata": {},
   "source": [
    "+ ${\\mathbf k}=({}^tAA)^{-1}({}^tA{\\mathbf y})$の計算\n",
    "+ ${\\mathbf y}$ は Dの第二列なので `D[:,1]'\n",
    "+ numpy の線形演算 \n",
    "    + 行列の積は `A@B`, \n",
    "    + Pの逆行列は `np.linalg.inv(P)`"
   ]
  },
  {
   "cell_type": "code",
   "execution_count": null,
   "id": "a1f10235",
   "metadata": {
    "ExecuteTime": {
     "end_time": "2021-07-30T04:50:56.437949Z",
     "start_time": "2021-07-30T04:50:56.424444Z"
    },
    "tags": []
   },
   "outputs": [],
   "source": [
    "k=np.linalg.inv(A.T @ A) @ A.T @ D[:,1]\n",
    "k"
   ]
  },
  {
   "cell_type": "markdown",
   "id": "d4e9329c-c365-4156-99d1-71f31f45e7b3",
   "metadata": {},
   "source": [
    "### 誤差の値"
   ]
  },
  {
   "cell_type": "code",
   "execution_count": null,
   "id": "0408d695-7b06-4436-9790-ee31f9921b6f",
   "metadata": {},
   "outputs": [],
   "source": [
    "def gosa2(a,b,D):\n",
    "    return sum((a*d[0]+b-d[1])**2 for d in D)"
   ]
  },
  {
   "cell_type": "code",
   "execution_count": null,
   "id": "3df6cdfa-2040-4ef2-9b86-4c5944c0d3bd",
   "metadata": {},
   "outputs": [],
   "source": [
    "gosa2(k[0],k[1],D)"
   ]
  },
  {
   "cell_type": "markdown",
   "id": "b6955b40-581f-4d6f-8a30-15cdb56918a3",
   "metadata": {
    "tags": []
   },
   "source": [
    "### 結果の図示"
   ]
  },
  {
   "cell_type": "code",
   "execution_count": null,
   "id": "b8be0e3b-ca9f-4413-ba00-522583a8ce80",
   "metadata": {},
   "outputs": [],
   "source": [
    "showDC(D,k)"
   ]
  },
  {
   "cell_type": "markdown",
   "id": "34cb4f60-d7f0-430b-9f16-68737ffee127",
   "metadata": {},
   "source": [
    "## 解法2による "
   ]
  },
  {
   "cell_type": "markdown",
   "id": "2f652bde-c887-4c8d-a12d-c95c199f131f",
   "metadata": {
    "ExecuteTime": {
     "end_time": "2021-07-30T00:54:36.543290Z",
     "start_time": "2021-07-30T00:54:36.515146Z"
    }
   },
   "source": [
    "$gosa_2(a,b)$は二次式なので、偏微分は一次式. \n",
    "\n",
    "$$\\frac{\\partial gosa_2}{\\partial a}=p_1a+q_1b+r_1,\\frac{\\partial gosa2}{\\partial b}=p_2a+q_2b+r_2$$\n",
    "\n",
    "となり、$\\left[\\begin{matrix}p_1&q_1\\\\p_2&q_2\\end{matrix}\\right]$が正則ならば、$\\nabla gosa_2=0$は、唯一の解がある。\n",
    "\n",
    "\n"
   ]
  },
  {
   "cell_type": "markdown",
   "id": "7f02e168-fecd-4d3a-9169-9659e3501c63",
   "metadata": {
    "jp-MarkdownHeadingCollapsed": true,
    "tags": []
   },
   "source": [
    "### 変数a,bの指定"
   ]
  },
  {
   "cell_type": "code",
   "execution_count": null,
   "id": "f2b31ecf-9e48-4740-a3c5-c49f0ca3be7b",
   "metadata": {
    "ExecuteTime": {
     "end_time": "2021-07-30T04:52:51.427381Z",
     "start_time": "2021-07-30T04:52:51.423757Z"
    }
   },
   "outputs": [],
   "source": [
    "import sympy as sy\n",
    "from sympy.abc import a,b"
   ]
  },
  {
   "cell_type": "markdown",
   "id": "a61baedc-2f7b-483c-9df4-6eb28e496023",
   "metadata": {},
   "source": [
    "+ まず、誤差の二乗を成分とするベクトルをもとめる\n",
    "+ `D[:,0]` は $D=\\left[\\begin{matrix}1&2\\\\2&3\\\\5&4\\end{matrix}\\right]$Dの第一列ベクトル`D[:,0]`$=\\left[\\begin{matrix}1\\\\2\\\\5\\end{matrix}\\right]$\n",
    "+ `a*D[:,0]` は Dの第１列にa をかけたもの、すなわち$\\left[\\begin{matrix}a\\\\2a\\\\5a\\end{matrix}\\right]$\n",
    "+ `a*D[:,0]+b` は、その各成分に`b`を加えたベクトル、すなわち$\\left[\\begin{matrix}a+b\\\\2a+b\\\\5a+b\\end{matrix}\\right]$\n",
    "+ `a*D[:,0]+b-D[:,1]` は、そこからDの第２列`D[:,1]`$=\\left[\\begin{matrix}2\\\\3\\\\4\\end{matrix}\\right]$を引いたもの、すなわち$\\left[\\begin{matrix}a+b-2\\\\2a+b-3\\\\5a+b-4\\end{matrix}\\right]$\n",
    "+ `(a*D[:,0]+b-D[:,1])**2` は、その成分を二乗したもの、すなわち、$\\left[\\begin{matrix}(a+b-2)^2\\\\(2a+b-3)^2\\\\(5a+b-4)^2\\end{matrix}\\right]$"
   ]
  },
  {
   "cell_type": "code",
   "execution_count": null,
   "id": "56b498ae-4966-4989-99d8-65ce5c282e27",
   "metadata": {
    "ExecuteTime": {
     "end_time": "2021-07-30T04:52:52.291637Z",
     "start_time": "2021-07-30T04:52:52.273280Z"
    }
   },
   "outputs": [],
   "source": [
    "(a*D[:,0]+b - D[:,1])**2"
   ]
  },
  {
   "cell_type": "markdown",
   "id": "8fa393c4-9d4e-4ea2-8820-1a363ee80418",
   "metadata": {},
   "source": [
    "+ 上を加える"
   ]
  },
  {
   "cell_type": "code",
   "execution_count": null,
   "id": "c5d0a280-d041-4943-bf0e-bc781e6175f3",
   "metadata": {
    "ExecuteTime": {
     "end_time": "2021-07-30T04:52:55.232005Z",
     "start_time": "2021-07-30T04:52:55.111311Z"
    }
   },
   "outputs": [],
   "source": [
    "sum(_)"
   ]
  },
  {
   "cell_type": "markdown",
   "id": "d6a78c3e-1281-40c8-8bea-46c5b05f95d0",
   "metadata": {},
   "source": [
    "+ 展開し整理"
   ]
  },
  {
   "cell_type": "code",
   "execution_count": null,
   "id": "58ab446a-5ee5-4408-846d-a2f17c6e646e",
   "metadata": {},
   "outputs": [],
   "source": [
    "(_).expand()"
   ]
  },
  {
   "cell_type": "markdown",
   "id": "9bb1bb2d-0917-407f-a9fa-edf64f8adc61",
   "metadata": {},
   "source": [
    "### 誤差式 gosa2s を定義"
   ]
  },
  {
   "cell_type": "code",
   "execution_count": null,
   "id": "f68a9039-0c15-4900-bac0-16dca823f212",
   "metadata": {
    "ExecuteTime": {
     "end_time": "2021-07-30T04:51:30.388311Z",
     "start_time": "2021-07-30T04:51:30.372773Z"
    },
    "scrolled": true
   },
   "outputs": [],
   "source": [
    "gosa2s=sum((a*D[:,0]+b - D[:,1])**2)\n",
    "gosa2s"
   ]
  },
  {
   "cell_type": "markdown",
   "id": "8a274155-64c1-4e95-b73d-5f393f6a4531",
   "metadata": {},
   "source": [
    "#### 結果の表示方法"
   ]
  },
  {
   "cell_type": "markdown",
   "id": "1fc4e507-7169-45f0-a0e6-700e37310170",
   "metadata": {},
   "source": [
    "+ 結果を Tex整形を用いて見やすくするには \n",
    "\n",
    "       sy.init_printing(True)\n",
    "       \n",
    "+ 結果をコピーペーストして使うには、通常の表示にする：\n",
    "\n",
    "       sy.init_printing(False)\n",
    "\n",
    "     "
   ]
  },
  {
   "cell_type": "code",
   "execution_count": null,
   "id": "0d83a317-0b36-4974-b3e5-e773b0ed59f4",
   "metadata": {
    "ExecuteTime": {
     "end_time": "2021-07-30T04:51:42.429249Z",
     "start_time": "2021-07-30T04:51:42.041317Z"
    }
   },
   "outputs": [],
   "source": [
    "sy.init_printing(True)\n",
    "gosa2s"
   ]
  },
  {
   "cell_type": "markdown",
   "id": "54f91251-ef61-4c7d-a28c-0e298e8126dc",
   "metadata": {},
   "source": [
    "+ 展開すると"
   ]
  },
  {
   "cell_type": "code",
   "execution_count": null,
   "id": "754791a7-5988-44cd-8cad-602773e9a960",
   "metadata": {
    "ExecuteTime": {
     "end_time": "2021-07-30T04:51:46.472747Z",
     "start_time": "2021-07-30T04:51:46.359541Z"
    }
   },
   "outputs": [],
   "source": [
    "gosa2s.expand()"
   ]
  },
  {
   "cell_type": "markdown",
   "id": "4a4325d8",
   "metadata": {},
   "source": [
    "### 最小点の計算"
   ]
  },
  {
   "cell_type": "markdown",
   "id": "29f2605c",
   "metadata": {},
   "source": [
    "+ 二変数関数$g(a,b)$が最小となる点では、勾配ベクトル\n",
    "\n",
    "  $\\nabla g=(\\frac{\\partial g}{\\partial a},\\frac{\\partial g}{\\partial b})$\n",
    "  \n",
    "  がゼロとなる.\n",
    "  \n",
    "+ sympy では、`a`に関する偏微分は `g.diff(a)`  ."
   ]
  },
  {
   "cell_type": "markdown",
   "id": "cba85281",
   "metadata": {},
   "source": [
    "### 勾配ベクトルを求める"
   ]
  },
  {
   "cell_type": "code",
   "execution_count": null,
   "id": "5ce05001",
   "metadata": {
    "ExecuteTime": {
     "end_time": "2021-07-30T04:53:13.705408Z",
     "start_time": "2021-07-30T04:53:13.571743Z"
    }
   },
   "outputs": [],
   "source": [
    "d_a,d_b=gosa2s.diff(a),gosa2s.diff(b)\n",
    "d_a,d_b"
   ]
  },
  {
   "cell_type": "markdown",
   "id": "2e32425a",
   "metadata": {},
   "source": [
    "### 連立一次方程式 $\\nabla gosa2s={\\mathbf 0}$ を解く。\n",
    "+ sympy では、方程式 `F=G=0`を変数`a,b`で解く時 \n",
    "\n",
    "      sympy.solve([F,G],[a,b])\n",
    "     \n",
    "     "
   ]
  },
  {
   "cell_type": "markdown",
   "id": "083cb811",
   "metadata": {},
   "source": [
    "### d_a=d_b=0 を解く"
   ]
  },
  {
   "cell_type": "code",
   "execution_count": null,
   "id": "e6b93be4",
   "metadata": {
    "scrolled": true
   },
   "outputs": [],
   "source": [
    "sol=sy.solve([d_a,d_b],[a,b])\n",
    "sol"
   ]
  },
  {
   "cell_type": "markdown",
   "id": "27bed2f6-15a1-4761-96fd-6dd1f7d6395f",
   "metadata": {},
   "source": [
    "+ 辞書形式で、変数がキーとなっている。したがって、解のa成分は `sol[a]`で取り出せる."
   ]
  },
  {
   "cell_type": "code",
   "execution_count": null,
   "id": "25a23b1b-0e12-4014-9668-eaa32c274369",
   "metadata": {},
   "outputs": [],
   "source": [
    "sol[a]"
   ]
  },
  {
   "cell_type": "markdown",
   "id": "f3f65dfe",
   "metadata": {},
   "source": [
    "### 小数点表示"
   ]
  },
  {
   "cell_type": "markdown",
   "id": "b56c84ec",
   "metadata": {},
   "source": [
    "+ 分数`k`を小数点で表示するには `k.n()`"
   ]
  },
  {
   "cell_type": "code",
   "execution_count": null,
   "id": "ec498bcc",
   "metadata": {},
   "outputs": [],
   "source": [
    "sol[a].n(),sol[b].n()"
   ]
  },
  {
   "cell_type": "markdown",
   "id": "22f01962",
   "metadata": {},
   "source": [
    "+ これは 3.8.1 で直交射影で求めた近似 array([0.46153846, 1.76923077])とほぼ一致する"
   ]
  },
  {
   "cell_type": "markdown",
   "id": "eb5b2ce3-b9da-4834-a8d3-89dc43732e85",
   "metadata": {},
   "source": [
    "# 実習２(準備) L1誤差の場合"
   ]
  },
  {
   "cell_type": "code",
   "execution_count": null,
   "id": "a4078524-44c4-48ef-8951-6b9159640854",
   "metadata": {
    "ExecuteTime": {
     "end_time": "2021-07-30T04:48:48.673733Z",
     "start_time": "2021-07-30T04:48:48.662033Z"
    }
   },
   "outputs": [],
   "source": [
    "D=np.array([[1,2],[2,3],[5,4]])\n",
    "D"
   ]
  },
  {
   "cell_type": "markdown",
   "id": "d01ba1b2-62fc-4a80-94b4-f3761a93716c",
   "metadata": {},
   "source": [
    "## 誤差関数の定義"
   ]
  },
  {
   "cell_type": "code",
   "execution_count": null,
   "id": "5efe07ae-5b67-4a58-9466-bf0ee2ba1814",
   "metadata": {},
   "outputs": [],
   "source": [
    "def gosa1(a,b,D):\n",
    "    return sum(abs(a*D[:,0]+b-D[:,1]))\n",
    "    "
   ]
  },
  {
   "cell_type": "markdown",
   "id": "3dff7ce6-aa26-4cb9-b89e-0033e41e1e3f",
   "metadata": {},
   "source": [
    "## 誤差関数のグラフ"
   ]
  },
  {
   "cell_type": "code",
   "execution_count": null,
   "id": "6a21aef6-e0e4-48c8-90f0-341c1ed91384",
   "metadata": {},
   "outputs": [],
   "source": [
    "gosa1D=lambda a,b:gosa1(a,b,D)\n",
    "gosa1Dn=np.frompyfunc(gosa1D,2,1)\n",
    "showgraph2(gosa1Dn,xrange=[-1,5],yrange=[-1,5],K=50,opacity=0.5)"
   ]
  },
  {
   "cell_type": "markdown",
   "id": "36da4721-2b39-4be3-b998-fd9fc8bca944",
   "metadata": {},
   "source": [
    "## 誤差関数の等高線"
   ]
  },
  {
   "cell_type": "code",
   "execution_count": null,
   "id": "29b65c01-c7c5-4877-a0a3-f33bee161e80",
   "metadata": {},
   "outputs": [],
   "source": [
    " toukousen(gosa1Dn,xrange=[0,1],yrange=[1,2],T=20,start=0,end=1.0\n",
    "           ,size=0.02,color=\"blues\")"
   ]
  },
  {
   "cell_type": "code",
   "execution_count": null,
   "id": "eb17ab3f-d047-4378-828f-6c1d71f018da",
   "metadata": {},
   "outputs": [],
   "source": []
  }
 ],
 "metadata": {
  "kernelspec": {
   "display_name": "Python 3 (ipykernel)",
   "language": "python",
   "name": "python3"
  },
  "language_info": {
   "codemirror_mode": {
    "name": "ipython",
    "version": 3
   },
   "file_extension": ".py",
   "mimetype": "text/x-python",
   "name": "python",
   "nbconvert_exporter": "python",
   "pygments_lexer": "ipython3",
   "version": "3.9.6"
  },
  "toc": {
   "base_numbering": 1,
   "nav_menu": {},
   "number_sections": true,
   "sideBar": true,
   "skip_h1_title": false,
   "title_cell": "Table of Contents",
   "title_sidebar": "Contents",
   "toc_cell": false,
   "toc_position": {
    "height": "calc(100% - 180px)",
    "left": "10px",
    "top": "150px",
    "width": "272px"
   },
   "toc_section_display": true,
   "toc_window_display": true
  },
  "toc-autonumbering": true,
  "toc-showcode": false,
  "toc-showmarkdowntxt": false,
  "toc-showtags": false,
  "widgets": {
   "application/vnd.jupyter.widget-state+json": {
    "state": {},
    "version_major": 2,
    "version_minor": 0
   }
  }
 },
 "nbformat": 4,
 "nbformat_minor": 5
}
